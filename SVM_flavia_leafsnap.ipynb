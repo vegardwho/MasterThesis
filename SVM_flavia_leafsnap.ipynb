{
 "cells": [
  {
   "cell_type": "markdown",
   "metadata": {},
   "source": [
    "# Plant Leaf Classification\n",
    "\n",
    "Applying machine learning models for classification of plant leaf images"
   ]
  },
  {
   "cell_type": "markdown",
   "metadata": {},
   "source": [
    "### Importing necessary libraries"
   ]
  },
  {
   "cell_type": "code",
   "execution_count": 1,
   "metadata": {
    "tags": []
   },
   "outputs": [],
   "source": [
    "import numpy as np\n",
    "import pandas as pd\n",
    "import os\n",
    "import string\n",
    "import random\n",
    "from tqdm import tqdm\n",
    "from sklearn.preprocessing import StandardScaler\n",
    "from sklearn.model_selection import train_test_split\n",
    "from sklearn import svm\n",
    "from sklearn import metrics\n",
    "from sklearn.model_selection import GridSearchCV"
   ]
  },
  {
   "cell_type": "code",
   "execution_count": null,
   "metadata": {},
   "outputs": [],
   "source": [
    "\n",
    "\n",
    "\n"
   ]
  },
  {
   "cell_type": "code",
   "execution_count": 2,
   "metadata": {
    "tags": []
   },
   "outputs": [],
   "source": [
    "# !pip install mahotas\n",
    "import os\n",
    "import cv2\n",
    "import mahotas as mt\n",
    "from matplotlib import pyplot as plt\n",
    "%matplotlib inline"
   ]
  },
  {
   "cell_type": "code",
   "execution_count": null,
   "metadata": {
    "tags": []
   },
   "outputs": [],
   "source": []
  },
  {
   "cell_type": "code",
   "execution_count": null,
   "metadata": {
    "tags": []
   },
   "outputs": [],
   "source": [
    "\n"
   ]
  },
  {
   "cell_type": "code",
   "execution_count": 6,
   "metadata": {
    "tags": []
   },
   "outputs": [],
   "source": [
    "import pandas as pd\n",
    "obs = pd.read_csv('dataset/species_observation/csv/location_top_100_csv.csv')\n",
    "\n",
    "obs.columns\n",
    "\n",
    "\n",
    "import random\n",
    "random.seed(2711)\n",
    "\n",
    "index_mapping = [i for i in range(100)]\n",
    "\n",
    "random.shuffle(index_mapping)\n",
    "index_mapping\n",
    "\n",
    "\n",
    "obs_sub_h = obs[~obs['height'].isna()]\n",
    "\n",
    "\n",
    "\n",
    "random.seed(2611)\n",
    "\n",
    "samples_list_60 = list(dataset['target_val'].value_counts().index[:100])\n",
    "# print(samples_list_60)\n",
    "\n",
    "parameters = [{'kernel': ['rbf'],\n",
    "               'gamma': [1e-4, 1e-3, 0.01, 0.1, 0.2, 0.5],\n",
    "               'C': [1, 10, 100, 1000]},\n",
    "              {'kernel': ['linear'], 'C': [1, 10, 100, 1000]}\n",
    "             ]\n",
    "\n",
    "\n",
    "\n",
    "sample_targets = random.sample(samples_list_60,30)\n",
    "random.shuffle(sample_targets)\n",
    "\n",
    "\n",
    "# sample_numbs =[10,20,30]\n",
    "# svm_dict = {}\n",
    "# for sn in tqdm(sample_numbs):\n",
    "#     svm_dict[sn] = []\n",
    "#     for i in range(5):\n",
    "#         svm_dict[sn].append({})\n",
    "#         sample_targets = random.sample(samples_list_60,sn)\n"
   ]
  },
  {
   "cell_type": "code",
   "execution_count": 24,
   "metadata": {
    "tags": []
   },
   "outputs": [
    {
     "name": "stderr",
     "output_type": "stream",
     "text": [
      "100%|████████████████████████████████████████████████████████████████████████████████████| 3/3 [04:55<00:00, 98.56s/it]\n"
     ]
    }
   ],
   "source": [
    "\n",
    "random.seed(2611)\n",
    "sample_targets = random.sample(samples_list_60,30)\n",
    "random.shuffle(sample_targets)\n",
    "\n",
    "\n",
    "sample_targets_to_index ={}\n",
    "for i,sample_target in enumerate(sample_targets):\n",
    "    sample_targets_to_index[sample_target] = i\n",
    "    \n",
    "\n",
    "for k in sample_targets_to_index:\n",
    "    st = index_mapping[sample_targets_to_index[k]]\n",
    "    \n",
    "    \n",
    "\n",
    "\n",
    "sample_numbs =[10,20,30] \n",
    "svm_dict = {}\n",
    "seed = 2611\n",
    "for sn in tqdm(sample_numbs):\n",
    "    svm_dict[sn] = []\n",
    "    for i in range(10):\n",
    "        svm_dict[sn].append({})\n",
    "        sample_targets = random.sample(samples_list_60,sn)\n",
    "        \n",
    "        sample_targets_to_index ={}\n",
    "        for ii,sample_target in enumerate(sample_targets):\n",
    "            sample_targets_to_index[sample_target] = ii\n",
    "\n",
    "\n",
    "        st = sample_targets[0]\n",
    "        st0 = index_mapping[sample_targets_to_index[st]]\n",
    "        norths = []\n",
    "        heights = []\n",
    "        dat = dataset[dataset['target_val'].isin([st])].sample(n=60, random_state=seed+i)\n",
    "        a = obs_sub_h[obs_sub_h['target'].isin([st0])].sample(n=60, random_state=seed+i)[['Nordkoordinat','height']]\n",
    "        norths += a['Nordkoordinat'].to_list()\n",
    "        heights += a['height'].to_list()\n",
    "        \n",
    "        for st in sample_targets[1:]:\n",
    "            temp_dat = dataset[dataset['target_val'].isin([st])].sample(n=60, random_state=seed+i)\n",
    "            dat = pd.concat([dat,temp_dat])\n",
    "            a = obs_sub_h[obs_sub_h['target'].isin([st0])].sample(n=60, random_state=seed+i)[['Nordkoordinat','height']]\n",
    "            norths += a['Nordkoordinat'].to_list()\n",
    "            heights += a['height'].to_list()\n",
    "            \n",
    "        dat['heights'] = heights\n",
    "        dat['norths'] = norths\n",
    "            \n",
    "        X = dat[['area','perimeter','physiological_length','physiological_width','aspect_ratio','rectangularity','circularity','mean_r','mean_g','mean_b','stddev_r','stddev_g','stddev_b','contrast','correlation','inverse_difference_moments','entropy','heights','norths']]\n",
    "        # X = dat[['area','perimeter','physiological_length','physiological_width','aspect_ratio','rectangularity','circularity','mean_r','mean_g','mean_b','stddev_r','stddev_g','stddev_b','contrast','correlation','inverse_difference_moments','entropy','heights']]\n",
    "        # X = dat[['area','perimeter','physiological_length','physiological_width','aspect_ratio','rectangularity','circularity','mean_r','mean_g','mean_b','stddev_r','stddev_g','stddev_b','contrast','correlation','inverse_difference_moments','entropy','norths']]\n",
    "        y = dat['target_val'].to_list()\n",
    "\n",
    "        X_train, X_test, y_train, y_test = train_test_split(X, y, test_size=0.3, random_state = 142)\n",
    "\n",
    "        sc_X = StandardScaler()\n",
    "        X_train = sc_X.fit_transform(X_train)\n",
    "        X_test = sc_X.transform(X_test)\n",
    "\n",
    "\n",
    "        clf = svm.SVC()\n",
    "        clf.fit(X_train,y_train)\n",
    "        y_pred = clf.predict(X_test)\n",
    "        svm_dict[sn][i]['y_pred']=y_pred\n",
    "        svm_dict[sn][i]['y_test']=y_test\n",
    "        svm_dict[sn][i]['clf']=clf\n",
    "        \n",
    "\n",
    "        # print(metrics.classification_report(y_test, y_pred))\n",
    "        svm_clf = GridSearchCV(svm.SVC(decision_function_shape='ovr'), parameters, cv=5)\n",
    "        svm_clf.fit(X_train, y_train)\n",
    "        y_pred_svm = svm_clf.predict(X_test)\n",
    "        \n",
    "        svm_dict[sn][i]['y_pred_svm']=y_pred_svm\n"
   ]
  },
  {
   "cell_type": "code",
   "execution_count": 29,
   "metadata": {
    "tags": []
   },
   "outputs": [],
   "source": [
    "accuracy_avg = []\n",
    "prec_avg = []\n",
    "recall_avg = []\n",
    "fscore_avg = []\n",
    "accuracy_max = []\n",
    "prec_max = []\n",
    "recall_max = []\n",
    "fscore_max = []\n",
    "for sn in sample_numbs:\n",
    "    prec = []\n",
    "    recall = []\n",
    "    fscore = []\n",
    "    accuracy = []\n",
    "    for a in svm_dict[sn]:\n",
    "        accuracy.append(metrics.accuracy_score(a['y_test'], a['y_pred_svm']))\n",
    "        prfs = metrics.precision_recall_fscore_support(a['y_test'],a['y_pred_svm'],average='weighted')\n",
    "        prec.append(prfs[0])\n",
    "        recall.append(prfs[1])\n",
    "        fscore.append(prfs[2])\n",
    "    prec_avg.append(np.average(prec))\n",
    "    recall_avg.append(np.average(recall))\n",
    "    fscore_avg.append(np.average(fscore))\n",
    "    accuracy_avg.append(np.average(accuracy))\n",
    "    prec_max.append(np.max(prec))\n",
    "    recall_max.append(np.max(recall))\n",
    "    fscore_max.append(np.max(fscore))\n",
    "    accuracy_max.append(np.max(accuracy))\n",
    "    \n",
    "metrics_dict = {}\n",
    "\n",
    "\n",
    "metrics_dict['Number of plants'] = sample_numbs\n",
    "metrics_dict['Average Accuracy'] = accuracy_avg\n",
    "metrics_dict['Average Precision'] = prec_avg\n",
    "metrics_dict['Average Recall'] = recall_avg\n",
    "metrics_dict['Average F-score'] = fscore_avg\n",
    "metrics_dict['Max F-score'] = fscore_max\n",
    "metrics_dict['Max Accuracy'] = accuracy_max\n",
    "metrics_dict['Max Precision'] = prec_max\n",
    "metrics_dict['Max Recall'] = recall_max\n",
    "\n",
    "metrics_df1 = pd.DataFrame(metrics_dict)\n",
    "metrics_df1 = metrics_df1.set_index('Number of plants')"
   ]
  },
  {
   "cell_type": "code",
   "execution_count": 30,
   "metadata": {
    "tags": []
   },
   "outputs": [],
   "source": [
    "# metrics_df = metrics_df.set_index('Number of plants')\n",
    "metrics_df1.to_csv('C:/Users/vjosv/master/Plant-Leaf-Identification/Flavia py files/metrics_df_heights_norths.csv')"
   ]
  },
  {
   "cell_type": "code",
   "execution_count": 31,
   "metadata": {
    "tags": []
   },
   "outputs": [
    {
     "data": {
      "text/plain": [
       "Index(['Average Accuracy', 'Average Precision', 'Average Recall',\n",
       "       'Average F-score', 'Max F-score', 'Max Accuracy', 'Max Precision',\n",
       "       'Max Recall'],\n",
       "      dtype='object')"
      ]
     },
     "execution_count": 31,
     "metadata": {},
     "output_type": "execute_result"
    }
   ],
   "source": [
    "metrics_df1.columns"
   ]
  },
  {
   "cell_type": "code",
   "execution_count": 32,
   "metadata": {
    "tags": []
   },
   "outputs": [
    {
     "name": "stdout",
     "output_type": "stream",
     "text": [
      "\\begin{tabular}{lrrrrrr}\n",
      "\\toprule\n",
      " & Average Accuracy & Max Accuracy & Average Precision & Max Precision & Average F-score & Max F-score \\\\\n",
      "Number of plants &  &  &  &  &  &  \\\\\n",
      "\\midrule\n",
      "10 & 0.752000 & 0.811000 & 0.768000 & 0.832000 & 0.752000 & 0.816000 \\\\\n",
      "20 & 0.693000 & 0.756000 & 0.715000 & 0.772000 & 0.694000 & 0.759000 \\\\\n",
      "30 & 0.628000 & 0.674000 & 0.648000 & 0.699000 & 0.627000 & 0.673000 \\\\\n",
      "\\bottomrule\n",
      "\\end{tabular}\n",
      "\n"
     ]
    }
   ],
   "source": [
    "print(metrics_df1[['Average Accuracy','Max Accuracy', 'Average Precision','Max Precision',\n",
    "       'Average F-score','Max F-score']].round(3).to_latex())"
   ]
  },
  {
   "cell_type": "code",
   "execution_count": 14,
   "metadata": {
    "tags": []
   },
   "outputs": [
    {
     "name": "stdout",
     "output_type": "stream",
     "text": [
      "\\begin{tabular}{lrrrrrr}\n",
      "\\toprule\n",
      " & Average Accuracy & Max Accuracy & Average Precision & Max Precision & Average F-score & Max F-score \\\\\n",
      "Number of plants &  &  &  &  &  &  \\\\\n",
      "\\midrule\n",
      "10 & 0.785000 & 0.856000 & 0.798000 & 0.868000 & 0.785000 & 0.858000 \\\\\n",
      "20 & 0.732000 & 0.781000 & 0.750000 & 0.796000 & 0.733000 & 0.780000 \\\\\n",
      "30 & 0.676000 & 0.717000 & 0.693000 & 0.730000 & 0.674000 & 0.711000 \\\\\n",
      "\\bottomrule\n",
      "\\end{tabular}\n",
      "\n"
     ]
    }
   ],
   "source": [
    "metrics_df1_round3 = metrics_df1[['Average Accuracy','Max Accuracy', 'Average Precision','Max Precision',\n",
    "       'Average F-score','Max F-score']].round(3)\n",
    "\n",
    "print(metrics_df1_round3.to_latex())\n"
   ]
  },
  {
   "cell_type": "code",
   "execution_count": 92,
   "metadata": {
    "tags": []
   },
   "outputs": [
    {
     "name": "stderr",
     "output_type": "stream",
     "text": [
      "100%|███████████████████████████████████████████████████████████████████████████████| 15/15 [2:48:36<00:00, 674.43s/it]\n"
     ]
    }
   ],
   "source": [
    "import random\n",
    "\n",
    "sample_number = 32\n",
    "sample_list = [i for i in range(100)]\n",
    "seed = 2611\n",
    "random.seed(seed)\n",
    "\n",
    "samples_list_60 = list(dataset['target_val'].value_counts().index[:-20])\n",
    "# print(samples_list_60)\n",
    "\n",
    "parameters = [{'kernel': ['rbf'],\n",
    "               'gamma': [1e-4, 1e-3, 0.01, 0.1, 0.2, 0.5],\n",
    "               'C': [1, 10, 100, 1000]},\n",
    "              {'kernel': ['linear'], 'C': [1, 10, 100, 1000]}\n",
    "             ]\n",
    "\n",
    "sample_numbs =[10,20,30,40,50,60,70,80,90,100,110,120,130,140,150]\n",
    "# svm_dict = {}\n",
    "for sn in tqdm(sample_numbs):\n",
    "    svm_dict[sn] = []\n",
    "    for i in range(5):\n",
    "        svm_dict[sn].append({})\n",
    "        sample_targets = random.sample(samples_list_60,sn)\n",
    "\n",
    "\n",
    "\n",
    "        st = sample_targets[0]\n",
    "\n",
    "        dat = dataset[dataset['target_val'].isin([st])].sample(n=60, random_state=seed+i)\n",
    "\n",
    "        for st in sample_targets[1:]:\n",
    "            temp_dat = dataset[dataset['target_val'].isin([st])].sample(n=60, random_state=seed+i)\n",
    "            dat = pd.concat([dat,temp_dat])\n",
    "\n",
    "        X = dat[['area','perimeter','physiological_length','physiological_width','aspect_ratio','rectangularity','circularity','mean_r','mean_g','mean_b','stddev_r','stddev_g','stddev_b','contrast','correlation','inverse_difference_moments','entropy']]\n",
    "        y = dat['target_val'].to_list()\n",
    "\n",
    "        X_train, X_test, y_train, y_test = train_test_split(X, y, test_size=0.3, random_state = 142)\n",
    "\n",
    "        sc_X = StandardScaler()\n",
    "        X_train = sc_X.fit_transform(X_train)\n",
    "        X_test = sc_X.transform(X_test)\n",
    "\n",
    "\n",
    "        clf = svm.SVC()\n",
    "        clf.fit(X_train,y_train)\n",
    "        y_pred = clf.predict(X_test)\n",
    "        \n",
    "        svm_dict[sn][i]['y_pred']=y_pred\n",
    "        svm_dict[sn][i]['y_test']=y_test\n",
    "        svm_dict[sn][i]['clf']=clf\n",
    "        \n",
    "\n",
    "        # print(metrics.classification_report(y_test, y_pred))\n",
    "        svm_clf = GridSearchCV(svm.SVC(decision_function_shape='ovr'), parameters, cv=5)\n",
    "        svm_clf.fit(X_train, y_train)\n",
    "        y_pred_svm = svm_clf.predict(X_test)\n",
    "        \n",
    "        svm_dict[sn][i]['y_pred_svm']=y_pred_svm\n",
    "\n",
    "        \n"
   ]
  },
  {
   "cell_type": "markdown",
   "metadata": {},
   "source": [
    "### Creating target labels\n",
    "\n",
    "Breakpoints are used alongside the image file to create a vector of target labels. The breakpoints are specified in Flavia leaves dataset website."
   ]
  },
  {
   "cell_type": "code",
   "execution_count": 16,
   "metadata": {
    "tags": []
   },
   "outputs": [
    {
     "data": {
      "text/plain": [
       "Index(['Unnamed: 0.3', 'Unnamed: 0.2', 'Unnamed: 0.1', 'Unnamed: 0', 'Id',\n",
       "       'Taksonsorteringsrekkefølge', 'Valideringsstatus', 'Rødlistekategori',\n",
       "       'Artsnavn', 'Vitenskapelig navn', 'Autor', 'Antall', 'Enhet', 'Alder',\n",
       "       'Kjønn', 'Aktivitet', 'Metode', 'Superlokalitet', 'Lokalitetsnavn',\n",
       "       'Østkoordinat', 'Nordkoordinat', 'Nøyaktighet', 'Originale koordinater',\n",
       "       'Fylke', 'Kommune', 'Fylke.1', 'IKKE I NORGE', 'Ekstern id',\n",
       "       'Startdato', 'Stattidspunkt', 'Sluttdato', 'Sluttidspunkt', 'Kommentar',\n",
       "       'Ikke gjenfunnet', 'Usikker artsbestemmelse', 'Uspontan', 'Natursystem',\n",
       "       'Natursystem beskrivelse', 'Livsmedium', 'Vitenskapelig livsmediumnavn',\n",
       "       'Art som livsmedium, beskrivelse', 'Livsmedium.1',\n",
       "       'Livsmediumbeskrivelse', 'Min. dybde', 'Maks. dybde', 'Høyde min',\n",
       "       'Høyde maks', 'Offentlig samling', 'Privat samling', 'Bekreftelsesdato',\n",
       "       'Redigeringsansvarlig', 'Rapportør', 'Observatører', 'science_name',\n",
       "       'target', 'height'],\n",
       "      dtype='object')"
      ]
     },
     "execution_count": 16,
     "metadata": {},
     "output_type": "execute_result"
    }
   ],
   "source": []
  },
  {
   "cell_type": "code",
   "execution_count": 94,
   "metadata": {},
   "outputs": [
    {
     "data": {
      "text/plain": [
       "array([24, 24,  2, ..., 23, 30, 13])"
      ]
     },
     "execution_count": 94,
     "metadata": {},
     "output_type": "execute_result"
    }
   ],
   "source": []
  },
  {
   "cell_type": "code",
   "execution_count": null,
   "metadata": {
    "tags": []
   },
   "outputs": [],
   "source": [
    "\n",
    "\n"
   ]
  },
  {
   "cell_type": "code",
   "execution_count": 61,
   "metadata": {
    "tags": []
   },
   "outputs": [
    {
     "name": "stderr",
     "output_type": "stream",
     "text": [
      "100%|███████████████████████████████████████████████████████████████████████████████| 16/16 [3:17:22<00:00, 740.13s/it]\n"
     ]
    }
   ],
   "source": [
    "import random\n",
    "\n",
    "sample_number = 32\n",
    "sample_list = [i for i in range(100)]\n",
    "seed = 2611\n",
    "random.seed(seed)\n",
    "\n",
    "samples_list_60 = list(dataset['target_val'].value_counts().index[:-20])\n",
    "# print(samples_list_60)\n",
    "\n",
    "parameters = [{'kernel': ['rbf'],\n",
    "               'gamma': [1e-4, 1e-3, 0.01, 0.1, 0.2, 0.5],\n",
    "               'C': [1, 10, 100, 1000]},\n",
    "              {'kernel': ['linear'], 'C': [1, 10, 100, 1000]}\n",
    "             ]\n",
    "\n",
    "sample_numbs =[10,20,30,40,50,60,70,80,90,100,110,120,130,140,150,160]\n",
    "# svm_dict = {}\n",
    "for sn in tqdm(sample_numbs):\n",
    "    svm_dict[sn] = []\n",
    "    for i in range(5):\n",
    "        svm_dict[sn].append({})\n",
    "        sample_targets = random.sample(samples_list_60,sn)\n",
    "\n",
    "\n",
    "\n",
    "        st = sample_targets[0]\n",
    "\n",
    "        dat = dataset[dataset['target_val'].isin([st])].sample(n=60, random_state=seed+i)\n",
    "\n",
    "        for st in sample_targets[1:]:\n",
    "            temp_dat = dataset[dataset['target_val'].isin([st])].sample(n=60, random_state=seed+i)\n",
    "            dat = pd.concat([dat,temp_dat])\n",
    "\n",
    "        X = dat[['area','perimeter','physiological_length','physiological_width','aspect_ratio','rectangularity','circularity','mean_r','mean_g','mean_b','stddev_r','stddev_g','stddev_b','contrast','correlation','inverse_difference_moments','entropy']]\n",
    "        y = dat['target_val'].to_list()\n",
    "\n",
    "        X_train, X_test, y_train, y_test = train_test_split(X, y, test_size=0.3, random_state = 142)\n",
    "\n",
    "        sc_X = StandardScaler()\n",
    "        X_train = sc_X.fit_transform(X_train)\n",
    "        X_test = sc_X.transform(X_test)\n",
    "\n",
    "\n",
    "        clf = svm.SVC()\n",
    "        clf.fit(X_train,y_train)\n",
    "        y_pred = clf.predict(X_test)\n",
    "        \n",
    "        svm_dict[sn][i]['y_pred']=y_pred\n",
    "        svm_dict[sn][i]['y_test']=y_test\n",
    "        svm_dict[sn][i]['clf']=clf\n",
    "        \n",
    "\n",
    "        # print(metrics.classification_report(y_test, y_pred))\n",
    "        svm_clf = GridSearchCV(svm.SVC(decision_function_shape='ovr'), parameters, cv=5)\n",
    "        svm_clf.fit(X_train, y_train)\n",
    "        y_pred_svm = svm_clf.predict(X_test)\n",
    "        \n",
    "        svm_dict[sn][i]['y_pred_svm']=y_pred_svm\n",
    "\n",
    "        \n",
    "\n",
    "\n"
   ]
  },
  {
   "cell_type": "code",
   "execution_count": 93,
   "metadata": {
    "tags": []
   },
   "outputs": [
    {
     "name": "stdout",
     "output_type": "stream",
     "text": [
      "0.725\n",
      "0.7722222222222223\n"
     ]
    }
   ],
   "source": [
    "a = svm_dict[20][0]\n",
    "a['y_pred']\n",
    "a['y_test']\n",
    "\n",
    "print(metrics.accuracy_score(a['y_test'], a['y_pred_svm']))\n",
    "a = svm_dict[10][0]\n",
    "a['y_pred']\n",
    "a['y_test']\n",
    "print(metrics.accuracy_score(a['y_test'], a['y_pred_svm']))\n",
    "\n"
   ]
  },
  {
   "cell_type": "code",
   "execution_count": 103,
   "metadata": {
    "tags": []
   },
   "outputs": [],
   "source": [
    "accuracy_avg = []\n",
    "prec_avg = []\n",
    "recall_avg = []\n",
    "fscore_avg = []\n",
    "accuracy_max = []\n",
    "prec_max = []\n",
    "recall_max = []\n",
    "fscore_max = []\n",
    "for sn in sample_numbs:\n",
    "    prec = []\n",
    "    recall = []\n",
    "    fscore = []\n",
    "    accuracy = []\n",
    "    for a in svm_dict[sn]:\n",
    "        accuracy.append(metrics.accuracy_score(a['y_test'], a['y_pred_svm']))\n",
    "        prfs = metrics.precision_recall_fscore_support(a['y_test'],a['y_pred_svm'],average='weighted')\n",
    "        prec.append(prfs[0])\n",
    "        recall.append(prfs[1])\n",
    "        fscore.append(prfs[2])\n",
    "    prec_avg.append(np.average(prec))\n",
    "    recall_avg.append(np.average(recall))\n",
    "    fscore_avg.append(np.average(fscore))\n",
    "    accuracy_avg.append(np.average(accuracy))\n",
    "    prec_max.append(np.max(prec))\n",
    "    recall_max.append(np.max(recall))\n",
    "    fscore_max.append(np.max(fscore))\n",
    "    accuracy_max.append(np.max(accuracy))\n",
    "    \n",
    "metrics_dict = {}\n",
    "\n",
    "\n",
    "metrics_dict['Number of plants'] = sample_numbs\n",
    "metrics_dict['Average Accuracy/Recall'] = accuracy_avg\n",
    "metrics_dict['Average Precision'] = prec_avg\n",
    "metrics_dict['Average Recall'] = recall_avg\n",
    "metrics_dict['Average F-score'] = fscore_avg\n",
    "metrics_dict['Max Accuracy/Recall'] = accuracy_max\n",
    "metrics_dict['Max Precision'] = prec_max\n",
    "metrics_dict['Max Recall'] = recall_max\n",
    "metrics_dict['Max F-score'] = fscore_max\n",
    "metrics_df = pd.DataFrame(metrics_dict)\n",
    "metrics_df = metrics_df.set_index('Number of plants')"
   ]
  },
  {
   "cell_type": "code",
   "execution_count": 105,
   "metadata": {
    "tags": []
   },
   "outputs": [
    {
     "name": "stdout",
     "output_type": "stream",
     "text": [
      "\\begin{tabular}{lrrr}\n",
      "\\toprule\n",
      " & Average Accuracy/Recall & Average Precision & Average F-score \\\\\n",
      "Number of plants &  &  &  \\\\\n",
      "\\midrule\n",
      "10 & 0.800000 & 0.807718 & 0.797978 \\\\\n",
      "20 & 0.758889 & 0.766373 & 0.755975 \\\\\n",
      "30 & 0.722593 & 0.733121 & 0.721245 \\\\\n",
      "40 & 0.658333 & 0.678088 & 0.657659 \\\\\n",
      "50 & 0.652667 & 0.667447 & 0.650861 \\\\\n",
      "60 & 0.653519 & 0.670683 & 0.652448 \\\\\n",
      "70 & 0.603968 & 0.623043 & 0.602709 \\\\\n",
      "80 & 0.594306 & 0.610624 & 0.591558 \\\\\n",
      "90 & 0.595432 & 0.615135 & 0.594681 \\\\\n",
      "100 & 0.572556 & 0.591465 & 0.568878 \\\\\n",
      "110 & 0.568485 & 0.587163 & 0.567096 \\\\\n",
      "120 & 0.556296 & 0.572671 & 0.554090 \\\\\n",
      "130 & 0.546752 & 0.564628 & 0.543553 \\\\\n",
      "140 & 0.536905 & 0.554720 & 0.533285 \\\\\n",
      "150 & 0.539556 & 0.560265 & 0.537692 \\\\\n",
      "\\bottomrule\n",
      "\\end{tabular}\n",
      "\n",
      "\\begin{tabular}{lrrrrrr}\n",
      "\\toprule\n",
      " & Average Accuracy/Recall & Max Accuracy/Recall & Average Precision & Max Precision & Average F-score & Max F-score \\\\\n",
      "Number of plants &  &  &  &  &  &  \\\\\n",
      "\\midrule\n",
      "10 & 0.800000 & 0.822222 & 0.807718 & 0.828906 & 0.797978 & 0.820552 \\\\\n",
      "20 & 0.758889 & 0.802778 & 0.766373 & 0.807759 & 0.755975 & 0.799867 \\\\\n",
      "30 & 0.722593 & 0.768519 & 0.733121 & 0.778306 & 0.721245 & 0.767717 \\\\\n",
      "40 & 0.658333 & 0.698611 & 0.678088 & 0.724364 & 0.657659 & 0.700791 \\\\\n",
      "50 & 0.652667 & 0.663333 & 0.667447 & 0.678787 & 0.650861 & 0.659536 \\\\\n",
      "60 & 0.653519 & 0.696296 & 0.670683 & 0.710516 & 0.652448 & 0.696401 \\\\\n",
      "70 & 0.603968 & 0.624603 & 0.623043 & 0.644619 & 0.602709 & 0.625095 \\\\\n",
      "80 & 0.594306 & 0.606944 & 0.610624 & 0.619786 & 0.591558 & 0.602606 \\\\\n",
      "90 & 0.595432 & 0.610494 & 0.615135 & 0.631419 & 0.594681 & 0.609766 \\\\\n",
      "100 & 0.572556 & 0.594444 & 0.591465 & 0.614245 & 0.568878 & 0.591675 \\\\\n",
      "110 & 0.568485 & 0.588889 & 0.587163 & 0.602061 & 0.567096 & 0.585875 \\\\\n",
      "120 & 0.556296 & 0.568981 & 0.572671 & 0.584517 & 0.554090 & 0.567760 \\\\\n",
      "130 & 0.546752 & 0.559402 & 0.564628 & 0.580833 & 0.543553 & 0.558040 \\\\\n",
      "140 & 0.536905 & 0.548810 & 0.554720 & 0.570933 & 0.533285 & 0.545721 \\\\\n",
      "150 & 0.539556 & 0.550000 & 0.560265 & 0.570451 & 0.537692 & 0.549290 \\\\\n",
      "\\bottomrule\n",
      "\\end{tabular}\n",
      "\n"
     ]
    }
   ],
   "source": [
    "metrics_df.to_csv('C:/Users/vjosv/master/Plant-Leaf-Identification/Flavia py files/metrics_df.csv')\n",
    "print(metrics_df[['Average Accuracy/Recall','Average Precision','Average F-score']].to_latex())\n",
    "\n",
    "print(metrics_df[['Average Accuracy/Recall','Max Accuracy/Recall','Average Precision','Max Precision','Average F-score','Max F-score']].to_latex())"
   ]
  },
  {
   "cell_type": "code",
   "execution_count": 104,
   "metadata": {
    "tags": []
   },
   "outputs": [],
   "source": [
    "X = dat[['area','perimeter','physiological_length','physiological_width','aspect_ratio','rectangularity','circularity','mean_r','mean_g','mean_b','stddev_r','stddev_g','stddev_b','contrast','correlation','inverse_difference_moments','entropy']]\n",
    "X\n",
    "y = dat['target_val'].to_list()\n"
   ]
  },
  {
   "cell_type": "code",
   "execution_count": 105,
   "metadata": {
    "tags": []
   },
   "outputs": [
    {
     "data": {
      "text/html": [
       "<div>\n",
       "<style scoped>\n",
       "    .dataframe tbody tr th:only-of-type {\n",
       "        vertical-align: middle;\n",
       "    }\n",
       "\n",
       "    .dataframe tbody tr th {\n",
       "        vertical-align: top;\n",
       "    }\n",
       "\n",
       "    .dataframe thead th {\n",
       "        text-align: right;\n",
       "    }\n",
       "</style>\n",
       "<table border=\"1\" class=\"dataframe\">\n",
       "  <thead>\n",
       "    <tr style=\"text-align: right;\">\n",
       "      <th></th>\n",
       "      <th>area</th>\n",
       "      <th>perimeter</th>\n",
       "      <th>physiological_length</th>\n",
       "      <th>physiological_width</th>\n",
       "      <th>aspect_ratio</th>\n",
       "      <th>rectangularity</th>\n",
       "      <th>circularity</th>\n",
       "      <th>mean_r</th>\n",
       "      <th>mean_g</th>\n",
       "      <th>mean_b</th>\n",
       "      <th>stddev_r</th>\n",
       "      <th>stddev_g</th>\n",
       "      <th>stddev_b</th>\n",
       "      <th>contrast</th>\n",
       "      <th>correlation</th>\n",
       "      <th>inverse_difference_moments</th>\n",
       "      <th>entropy</th>\n",
       "    </tr>\n",
       "  </thead>\n",
       "  <tbody>\n",
       "    <tr>\n",
       "      <th>10491</th>\n",
       "      <td>23218.0</td>\n",
       "      <td>654.333041</td>\n",
       "      <td>176</td>\n",
       "      <td>193</td>\n",
       "      <td>0.911917</td>\n",
       "      <td>1.463003</td>\n",
       "      <td>18.440509</td>\n",
       "      <td>136.898657</td>\n",
       "      <td>159.281848</td>\n",
       "      <td>149.384546</td>\n",
       "      <td>68.422388</td>\n",
       "      <td>48.446324</td>\n",
       "      <td>51.749488</td>\n",
       "      <td>44.573794</td>\n",
       "      <td>0.992583</td>\n",
       "      <td>0.557269</td>\n",
       "      <td>8.449497</td>\n",
       "    </tr>\n",
       "    <tr>\n",
       "      <th>9030</th>\n",
       "      <td>21189.0</td>\n",
       "      <td>611.445741</td>\n",
       "      <td>190</td>\n",
       "      <td>164</td>\n",
       "      <td>1.158537</td>\n",
       "      <td>1.470574</td>\n",
       "      <td>17.644339</td>\n",
       "      <td>41.763453</td>\n",
       "      <td>60.420859</td>\n",
       "      <td>49.728237</td>\n",
       "      <td>65.292497</td>\n",
       "      <td>74.435175</td>\n",
       "      <td>66.438759</td>\n",
       "      <td>121.900082</td>\n",
       "      <td>0.989644</td>\n",
       "      <td>0.649331</td>\n",
       "      <td>5.931357</td>\n",
       "    </tr>\n",
       "    <tr>\n",
       "      <th>20159</th>\n",
       "      <td>27678.5</td>\n",
       "      <td>727.144223</td>\n",
       "      <td>224</td>\n",
       "      <td>194</td>\n",
       "      <td>1.154639</td>\n",
       "      <td>1.570027</td>\n",
       "      <td>19.102868</td>\n",
       "      <td>120.459084</td>\n",
       "      <td>147.290059</td>\n",
       "      <td>133.390386</td>\n",
       "      <td>92.886008</td>\n",
       "      <td>73.702483</td>\n",
       "      <td>81.456218</td>\n",
       "      <td>61.532927</td>\n",
       "      <td>0.995215</td>\n",
       "      <td>0.392191</td>\n",
       "      <td>10.504224</td>\n",
       "    </tr>\n",
       "    <tr>\n",
       "      <th>22907</th>\n",
       "      <td>20085.0</td>\n",
       "      <td>596.700572</td>\n",
       "      <td>189</td>\n",
       "      <td>167</td>\n",
       "      <td>1.131737</td>\n",
       "      <td>1.571471</td>\n",
       "      <td>17.727238</td>\n",
       "      <td>139.739876</td>\n",
       "      <td>162.059271</td>\n",
       "      <td>151.769551</td>\n",
       "      <td>69.864119</td>\n",
       "      <td>48.225891</td>\n",
       "      <td>50.897792</td>\n",
       "      <td>38.525553</td>\n",
       "      <td>0.993626</td>\n",
       "      <td>0.587446</td>\n",
       "      <td>7.980129</td>\n",
       "    </tr>\n",
       "    <tr>\n",
       "      <th>11969</th>\n",
       "      <td>23292.5</td>\n",
       "      <td>638.918827</td>\n",
       "      <td>187</td>\n",
       "      <td>174</td>\n",
       "      <td>1.074713</td>\n",
       "      <td>1.396930</td>\n",
       "      <td>17.525696</td>\n",
       "      <td>46.206095</td>\n",
       "      <td>70.141621</td>\n",
       "      <td>56.130341</td>\n",
       "      <td>63.736855</td>\n",
       "      <td>77.825265</td>\n",
       "      <td>67.417630</td>\n",
       "      <td>143.307722</td>\n",
       "      <td>0.986177</td>\n",
       "      <td>0.610651</td>\n",
       "      <td>6.145145</td>\n",
       "    </tr>\n",
       "  </tbody>\n",
       "</table>\n",
       "</div>"
      ],
      "text/plain": [
       "          area   perimeter  physiological_length  physiological_width  \\\n",
       "10491  23218.0  654.333041                   176                  193   \n",
       "9030   21189.0  611.445741                   190                  164   \n",
       "20159  27678.5  727.144223                   224                  194   \n",
       "22907  20085.0  596.700572                   189                  167   \n",
       "11969  23292.5  638.918827                   187                  174   \n",
       "\n",
       "       aspect_ratio  rectangularity  circularity      mean_r      mean_g  \\\n",
       "10491      0.911917        1.463003    18.440509  136.898657  159.281848   \n",
       "9030       1.158537        1.470574    17.644339   41.763453   60.420859   \n",
       "20159      1.154639        1.570027    19.102868  120.459084  147.290059   \n",
       "22907      1.131737        1.571471    17.727238  139.739876  162.059271   \n",
       "11969      1.074713        1.396930    17.525696   46.206095   70.141621   \n",
       "\n",
       "           mean_b   stddev_r   stddev_g   stddev_b    contrast  correlation  \\\n",
       "10491  149.384546  68.422388  48.446324  51.749488   44.573794     0.992583   \n",
       "9030    49.728237  65.292497  74.435175  66.438759  121.900082     0.989644   \n",
       "20159  133.390386  92.886008  73.702483  81.456218   61.532927     0.995215   \n",
       "22907  151.769551  69.864119  48.225891  50.897792   38.525553     0.993626   \n",
       "11969   56.130341  63.736855  77.825265  67.417630  143.307722     0.986177   \n",
       "\n",
       "       inverse_difference_moments    entropy  \n",
       "10491                    0.557269   8.449497  \n",
       "9030                     0.649331   5.931357  \n",
       "20159                    0.392191  10.504224  \n",
       "22907                    0.587446   7.980129  \n",
       "11969                    0.610651   6.145145  "
      ]
     },
     "execution_count": 105,
     "metadata": {},
     "output_type": "execute_result"
    }
   ],
   "source": [
    "#adding \n",
    "X.head()"
   ]
  },
  {
   "cell_type": "code",
   "execution_count": 175,
   "metadata": {
    "tags": []
   },
   "outputs": [],
   "source": [
    "v = np.array([1,2,3,4])"
   ]
  },
  {
   "cell_type": "markdown",
   "metadata": {
    "tags": []
   },
   "source": [
    "### "
   ]
  },
  {
   "cell_type": "code",
   "execution_count": 178,
   "metadata": {
    "tags": []
   },
   "outputs": [
    {
     "data": {
      "text/plain": [
       "2.5"
      ]
     },
     "execution_count": 178,
     "metadata": {},
     "output_type": "execute_result"
    }
   ],
   "source": [
    "np.average([1,2,3,4])"
   ]
  },
  {
   "cell_type": "code",
   "execution_count": null,
   "metadata": {},
   "outputs": [],
   "source": []
  },
  {
   "cell_type": "code",
   "execution_count": null,
   "metadata": {},
   "outputs": [],
   "source": []
  },
  {
   "cell_type": "code",
   "execution_count": null,
   "metadata": {
    "tags": []
   },
   "outputs": [],
   "source": []
  },
  {
   "cell_type": "code",
   "execution_count": null,
   "metadata": {},
   "outputs": [],
   "source": []
  },
  {
   "cell_type": "code",
   "execution_count": null,
   "metadata": {},
   "outputs": [],
   "source": []
  },
  {
   "cell_type": "code",
   "execution_count": null,
   "metadata": {
    "tags": []
   },
   "outputs": [],
   "source": []
  },
  {
   "cell_type": "markdown",
   "metadata": {},
   "source": [
    "### Train test split"
   ]
  },
  {
   "cell_type": "code",
   "execution_count": 106,
   "metadata": {
    "tags": []
   },
   "outputs": [],
   "source": [
    "from sklearn.model_selection import train_test_split"
   ]
  },
  {
   "cell_type": "code",
   "execution_count": 107,
   "metadata": {
    "tags": []
   },
   "outputs": [],
   "source": [
    "X_train, X_test, y_train, y_test = train_test_split(X, y, test_size=0.3, random_state = 142)"
   ]
  },
  {
   "cell_type": "code",
   "execution_count": 108,
   "metadata": {
    "tags": []
   },
   "outputs": [
    {
     "data": {
      "text/html": [
       "<div>\n",
       "<style scoped>\n",
       "    .dataframe tbody tr th:only-of-type {\n",
       "        vertical-align: middle;\n",
       "    }\n",
       "\n",
       "    .dataframe tbody tr th {\n",
       "        vertical-align: top;\n",
       "    }\n",
       "\n",
       "    .dataframe thead th {\n",
       "        text-align: right;\n",
       "    }\n",
       "</style>\n",
       "<table border=\"1\" class=\"dataframe\">\n",
       "  <thead>\n",
       "    <tr style=\"text-align: right;\">\n",
       "      <th></th>\n",
       "      <th>area</th>\n",
       "      <th>perimeter</th>\n",
       "      <th>physiological_length</th>\n",
       "      <th>physiological_width</th>\n",
       "      <th>aspect_ratio</th>\n",
       "      <th>rectangularity</th>\n",
       "      <th>circularity</th>\n",
       "      <th>mean_r</th>\n",
       "      <th>mean_g</th>\n",
       "      <th>mean_b</th>\n",
       "      <th>stddev_r</th>\n",
       "      <th>stddev_g</th>\n",
       "      <th>stddev_b</th>\n",
       "      <th>contrast</th>\n",
       "      <th>correlation</th>\n",
       "      <th>inverse_difference_moments</th>\n",
       "      <th>entropy</th>\n",
       "    </tr>\n",
       "  </thead>\n",
       "  <tbody>\n",
       "    <tr>\n",
       "      <th>9147</th>\n",
       "      <td>1611.5</td>\n",
       "      <td>228.894443</td>\n",
       "      <td>95</td>\n",
       "      <td>44</td>\n",
       "      <td>2.159091</td>\n",
       "      <td>2.593857</td>\n",
       "      <td>32.511738</td>\n",
       "      <td>5.519731</td>\n",
       "      <td>5.824777</td>\n",
       "      <td>5.229811</td>\n",
       "      <td>33.643745</td>\n",
       "      <td>33.983270</td>\n",
       "      <td>31.878106</td>\n",
       "      <td>97.765886</td>\n",
       "      <td>0.962700</td>\n",
       "      <td>0.957086</td>\n",
       "      <td>0.832677</td>\n",
       "    </tr>\n",
       "    <tr>\n",
       "      <th>5790</th>\n",
       "      <td>1131.0</td>\n",
       "      <td>153.681239</td>\n",
       "      <td>51</td>\n",
       "      <td>46</td>\n",
       "      <td>1.108696</td>\n",
       "      <td>2.074271</td>\n",
       "      <td>20.882337</td>\n",
       "      <td>200.605708</td>\n",
       "      <td>208.461077</td>\n",
       "      <td>199.948461</td>\n",
       "      <td>12.601371</td>\n",
       "      <td>10.023716</td>\n",
       "      <td>9.755774</td>\n",
       "      <td>38.043675</td>\n",
       "      <td>0.833512</td>\n",
       "      <td>0.889919</td>\n",
       "      <td>3.898658</td>\n",
       "    </tr>\n",
       "    <tr>\n",
       "      <th>7841</th>\n",
       "      <td>6833.0</td>\n",
       "      <td>426.166521</td>\n",
       "      <td>73</td>\n",
       "      <td>162</td>\n",
       "      <td>0.450617</td>\n",
       "      <td>1.730719</td>\n",
       "      <td>26.579526</td>\n",
       "      <td>229.264868</td>\n",
       "      <td>230.382235</td>\n",
       "      <td>231.971739</td>\n",
       "      <td>68.219668</td>\n",
       "      <td>64.756391</td>\n",
       "      <td>62.938440</td>\n",
       "      <td>267.797782</td>\n",
       "      <td>0.948137</td>\n",
       "      <td>0.874919</td>\n",
       "      <td>2.205558</td>\n",
       "    </tr>\n",
       "    <tr>\n",
       "      <th>14434</th>\n",
       "      <td>4646.0</td>\n",
       "      <td>269.137083</td>\n",
       "      <td>69</td>\n",
       "      <td>91</td>\n",
       "      <td>0.758242</td>\n",
       "      <td>1.351485</td>\n",
       "      <td>15.590781</td>\n",
       "      <td>7.942742</td>\n",
       "      <td>8.045002</td>\n",
       "      <td>7.307119</td>\n",
       "      <td>38.054096</td>\n",
       "      <td>36.691848</td>\n",
       "      <td>34.255042</td>\n",
       "      <td>121.437662</td>\n",
       "      <td>0.986601</td>\n",
       "      <td>0.911019</td>\n",
       "      <td>1.699424</td>\n",
       "    </tr>\n",
       "    <tr>\n",
       "      <th>11145</th>\n",
       "      <td>26062.5</td>\n",
       "      <td>642.575682</td>\n",
       "      <td>181</td>\n",
       "      <td>183</td>\n",
       "      <td>0.989071</td>\n",
       "      <td>1.270906</td>\n",
       "      <td>15.842820</td>\n",
       "      <td>141.058634</td>\n",
       "      <td>156.777862</td>\n",
       "      <td>158.468989</td>\n",
       "      <td>111.436795</td>\n",
       "      <td>96.180356</td>\n",
       "      <td>95.665330</td>\n",
       "      <td>250.737061</td>\n",
       "      <td>0.986932</td>\n",
       "      <td>0.588128</td>\n",
       "      <td>6.472990</td>\n",
       "    </tr>\n",
       "  </tbody>\n",
       "</table>\n",
       "</div>"
      ],
      "text/plain": [
       "          area   perimeter  physiological_length  physiological_width  \\\n",
       "9147    1611.5  228.894443                    95                   44   \n",
       "5790    1131.0  153.681239                    51                   46   \n",
       "7841    6833.0  426.166521                    73                  162   \n",
       "14434   4646.0  269.137083                    69                   91   \n",
       "11145  26062.5  642.575682                   181                  183   \n",
       "\n",
       "       aspect_ratio  rectangularity  circularity      mean_r      mean_g  \\\n",
       "9147       2.159091        2.593857    32.511738    5.519731    5.824777   \n",
       "5790       1.108696        2.074271    20.882337  200.605708  208.461077   \n",
       "7841       0.450617        1.730719    26.579526  229.264868  230.382235   \n",
       "14434      0.758242        1.351485    15.590781    7.942742    8.045002   \n",
       "11145      0.989071        1.270906    15.842820  141.058634  156.777862   \n",
       "\n",
       "           mean_b    stddev_r   stddev_g   stddev_b    contrast  correlation  \\\n",
       "9147     5.229811   33.643745  33.983270  31.878106   97.765886     0.962700   \n",
       "5790   199.948461   12.601371  10.023716   9.755774   38.043675     0.833512   \n",
       "7841   231.971739   68.219668  64.756391  62.938440  267.797782     0.948137   \n",
       "14434    7.307119   38.054096  36.691848  34.255042  121.437662     0.986601   \n",
       "11145  158.468989  111.436795  96.180356  95.665330  250.737061     0.986932   \n",
       "\n",
       "       inverse_difference_moments   entropy  \n",
       "9147                     0.957086  0.832677  \n",
       "5790                     0.889919  3.898658  \n",
       "7841                     0.874919  2.205558  \n",
       "14434                    0.911019  1.699424  \n",
       "11145                    0.588128  6.472990  "
      ]
     },
     "execution_count": 108,
     "metadata": {},
     "output_type": "execute_result"
    }
   ],
   "source": [
    "X_train.head(5)"
   ]
  },
  {
   "cell_type": "code",
   "execution_count": 109,
   "metadata": {
    "tags": []
   },
   "outputs": [
    {
     "data": {
      "text/plain": [
       "[4, 165, 171, 67, 9]"
      ]
     },
     "execution_count": 109,
     "metadata": {},
     "output_type": "execute_result"
    }
   ],
   "source": [
    "y_train[0:5]"
   ]
  },
  {
   "cell_type": "markdown",
   "metadata": {},
   "source": [
    "### Feature Scaling"
   ]
  },
  {
   "cell_type": "code",
   "execution_count": 110,
   "metadata": {
    "tags": []
   },
   "outputs": [],
   "source": [
    "from sklearn.preprocessing import StandardScaler"
   ]
  },
  {
   "cell_type": "code",
   "execution_count": 111,
   "metadata": {
    "tags": []
   },
   "outputs": [],
   "source": [
    "sc_X = StandardScaler()\n",
    "X_train = sc_X.fit_transform(X_train)\n",
    "X_test = sc_X.transform(X_test)"
   ]
  },
  {
   "cell_type": "code",
   "execution_count": 112,
   "metadata": {
    "tags": []
   },
   "outputs": [
    {
     "data": {
      "text/plain": [
       "array([[-1.30076924, -1.2454805 , -0.70655324, -1.7248755 ,  2.70373976,\n",
       "         1.72931817,  1.10851161, -1.51493919, -1.61684345, -1.56820154,\n",
       "        -1.18431032, -0.88184897, -0.96605973, -0.12227042, -0.14338324,\n",
       "         1.51618448, -1.82157152],\n",
       "       [-1.34957559, -1.5855809 , -1.3815461 , -1.68983968,  0.22783264,\n",
       "         0.72691716, -0.16560235,  1.19809568,  1.14261759,  1.12727545,\n",
       "        -2.12678599, -2.10147917, -2.05045124, -0.69978464, -2.28780064,\n",
       "         1.14258639, -0.72836233]])"
      ]
     },
     "execution_count": 112,
     "metadata": {},
     "output_type": "execute_result"
    }
   ],
   "source": [
    "X_train[0:2]"
   ]
  },
  {
   "cell_type": "code",
   "execution_count": 113,
   "metadata": {
    "tags": []
   },
   "outputs": [
    {
     "data": {
      "text/plain": [
       "[4, 165]"
      ]
     },
     "execution_count": 113,
     "metadata": {},
     "output_type": "execute_result"
    }
   ],
   "source": [
    "y_train[0:2]"
   ]
  },
  {
   "cell_type": "markdown",
   "metadata": {},
   "source": [
    "### Applying SVM classifier model"
   ]
  },
  {
   "cell_type": "code",
   "execution_count": 114,
   "metadata": {
    "tags": []
   },
   "outputs": [],
   "source": [
    "from sklearn import svm"
   ]
  },
  {
   "cell_type": "code",
   "execution_count": 115,
   "metadata": {
    "tags": []
   },
   "outputs": [
    {
     "data": {
      "text/html": [
       "<style>#sk-container-id-8 {color: black;}#sk-container-id-8 pre{padding: 0;}#sk-container-id-8 div.sk-toggleable {background-color: white;}#sk-container-id-8 label.sk-toggleable__label {cursor: pointer;display: block;width: 100%;margin-bottom: 0;padding: 0.3em;box-sizing: border-box;text-align: center;}#sk-container-id-8 label.sk-toggleable__label-arrow:before {content: \"▸\";float: left;margin-right: 0.25em;color: #696969;}#sk-container-id-8 label.sk-toggleable__label-arrow:hover:before {color: black;}#sk-container-id-8 div.sk-estimator:hover label.sk-toggleable__label-arrow:before {color: black;}#sk-container-id-8 div.sk-toggleable__content {max-height: 0;max-width: 0;overflow: hidden;text-align: left;background-color: #f0f8ff;}#sk-container-id-8 div.sk-toggleable__content pre {margin: 0.2em;color: black;border-radius: 0.25em;background-color: #f0f8ff;}#sk-container-id-8 input.sk-toggleable__control:checked~div.sk-toggleable__content {max-height: 200px;max-width: 100%;overflow: auto;}#sk-container-id-8 input.sk-toggleable__control:checked~label.sk-toggleable__label-arrow:before {content: \"▾\";}#sk-container-id-8 div.sk-estimator input.sk-toggleable__control:checked~label.sk-toggleable__label {background-color: #d4ebff;}#sk-container-id-8 div.sk-label input.sk-toggleable__control:checked~label.sk-toggleable__label {background-color: #d4ebff;}#sk-container-id-8 input.sk-hidden--visually {border: 0;clip: rect(1px 1px 1px 1px);clip: rect(1px, 1px, 1px, 1px);height: 1px;margin: -1px;overflow: hidden;padding: 0;position: absolute;width: 1px;}#sk-container-id-8 div.sk-estimator {font-family: monospace;background-color: #f0f8ff;border: 1px dotted black;border-radius: 0.25em;box-sizing: border-box;margin-bottom: 0.5em;}#sk-container-id-8 div.sk-estimator:hover {background-color: #d4ebff;}#sk-container-id-8 div.sk-parallel-item::after {content: \"\";width: 100%;border-bottom: 1px solid gray;flex-grow: 1;}#sk-container-id-8 div.sk-label:hover label.sk-toggleable__label {background-color: #d4ebff;}#sk-container-id-8 div.sk-serial::before {content: \"\";position: absolute;border-left: 1px solid gray;box-sizing: border-box;top: 0;bottom: 0;left: 50%;z-index: 0;}#sk-container-id-8 div.sk-serial {display: flex;flex-direction: column;align-items: center;background-color: white;padding-right: 0.2em;padding-left: 0.2em;position: relative;}#sk-container-id-8 div.sk-item {position: relative;z-index: 1;}#sk-container-id-8 div.sk-parallel {display: flex;align-items: stretch;justify-content: center;background-color: white;position: relative;}#sk-container-id-8 div.sk-item::before, #sk-container-id-8 div.sk-parallel-item::before {content: \"\";position: absolute;border-left: 1px solid gray;box-sizing: border-box;top: 0;bottom: 0;left: 50%;z-index: -1;}#sk-container-id-8 div.sk-parallel-item {display: flex;flex-direction: column;z-index: 1;position: relative;background-color: white;}#sk-container-id-8 div.sk-parallel-item:first-child::after {align-self: flex-end;width: 50%;}#sk-container-id-8 div.sk-parallel-item:last-child::after {align-self: flex-start;width: 50%;}#sk-container-id-8 div.sk-parallel-item:only-child::after {width: 0;}#sk-container-id-8 div.sk-dashed-wrapped {border: 1px dashed gray;margin: 0 0.4em 0.5em 0.4em;box-sizing: border-box;padding-bottom: 0.4em;background-color: white;}#sk-container-id-8 div.sk-label label {font-family: monospace;font-weight: bold;display: inline-block;line-height: 1.2em;}#sk-container-id-8 div.sk-label-container {text-align: center;}#sk-container-id-8 div.sk-container {/* jupyter's `normalize.less` sets `[hidden] { display: none; }` but bootstrap.min.css set `[hidden] { display: none !important; }` so we also need the `!important` here to be able to override the default hidden behavior on the sphinx rendered scikit-learn.org. See: https://github.com/scikit-learn/scikit-learn/issues/21755 */display: inline-block !important;position: relative;}#sk-container-id-8 div.sk-text-repr-fallback {display: none;}</style><div id=\"sk-container-id-8\" class=\"sk-top-container\"><div class=\"sk-text-repr-fallback\"><pre>SVC()</pre><b>In a Jupyter environment, please rerun this cell to show the HTML representation or trust the notebook. <br />On GitHub, the HTML representation is unable to render, please try loading this page with nbviewer.org.</b></div><div class=\"sk-container\" hidden><div class=\"sk-item\"><div class=\"sk-estimator sk-toggleable\"><input class=\"sk-toggleable__control sk-hidden--visually\" id=\"sk-estimator-id-14\" type=\"checkbox\" checked><label for=\"sk-estimator-id-14\" class=\"sk-toggleable__label sk-toggleable__label-arrow\">SVC</label><div class=\"sk-toggleable__content\"><pre>SVC()</pre></div></div></div></div></div>"
      ],
      "text/plain": [
       "SVC()"
      ]
     },
     "execution_count": 115,
     "metadata": {},
     "output_type": "execute_result"
    }
   ],
   "source": [
    "clf = svm.SVC()\n",
    "clf.fit(X_train,y_train)"
   ]
  },
  {
   "cell_type": "code",
   "execution_count": 116,
   "metadata": {
    "tags": []
   },
   "outputs": [],
   "source": [
    "y_pred = clf.predict(X_test)"
   ]
  },
  {
   "cell_type": "code",
   "execution_count": 117,
   "metadata": {
    "tags": []
   },
   "outputs": [],
   "source": [
    "from sklearn import metrics"
   ]
  },
  {
   "cell_type": "code",
   "execution_count": 118,
   "metadata": {
    "tags": []
   },
   "outputs": [
    {
     "data": {
      "text/plain": [
       "0.4201388888888889"
      ]
     },
     "execution_count": 118,
     "metadata": {},
     "output_type": "execute_result"
    }
   ],
   "source": [
    "metrics.accuracy_score(y_test, y_pred)"
   ]
  },
  {
   "cell_type": "code",
   "execution_count": 137,
   "metadata": {
    "tags": []
   },
   "outputs": [
    {
     "name": "stderr",
     "output_type": "stream",
     "text": [
      "C:\\Users\\vjosv\\anaconda3\\envs\\cuda_env\\Lib\\site-packages\\sklearn\\metrics\\_classification.py:1469: UndefinedMetricWarning: Precision and F-score are ill-defined and being set to 0.0 in labels with no predicted samples. Use `zero_division` parameter to control this behavior.\n",
      "  _warn_prf(average, modifier, msg_start, len(result))\n",
      "C:\\Users\\vjosv\\anaconda3\\envs\\cuda_env\\Lib\\site-packages\\sklearn\\metrics\\_classification.py:1469: UndefinedMetricWarning: Precision and F-score are ill-defined and being set to 0.0 in labels with no predicted samples. Use `zero_division` parameter to control this behavior.\n",
      "  _warn_prf(average, modifier, msg_start, len(result))\n",
      "C:\\Users\\vjosv\\anaconda3\\envs\\cuda_env\\Lib\\site-packages\\sklearn\\metrics\\_classification.py:1469: UndefinedMetricWarning: Precision and F-score are ill-defined and being set to 0.0 in labels with no predicted samples. Use `zero_division` parameter to control this behavior.\n",
      "  _warn_prf(average, modifier, msg_start, len(result))\n"
     ]
    }
   ],
   "source": [
    "a =metrics.classification_report(y_test, y_pred)"
   ]
  },
  {
   "cell_type": "code",
   "execution_count": 139,
   "metadata": {
    "tags": []
   },
   "outputs": [
    {
     "name": "stdout",
     "output_type": "stream",
     "text": [
      "              precision    recall  f1-score   support\n",
      "\n",
      "           4       0.50      0.57      0.53        14\n",
      "           8       0.94      0.89      0.91        18\n",
      "           9       0.80      0.36      0.50        22\n",
      "          10       0.25      0.30      0.27        20\n",
      "          13       0.87      0.87      0.87        23\n",
      "          14       0.21      0.67      0.32        18\n",
      "          27       0.19      0.65      0.30        17\n",
      "          40       0.50      0.90      0.64        20\n",
      "          45       0.58      0.44      0.50        16\n",
      "          48       0.33      0.11      0.16        19\n",
      "          52       0.67      0.11      0.18        19\n",
      "          53       0.00      0.00      0.00        16\n",
      "          58       0.11      0.27      0.15        11\n",
      "          63       0.33      0.42      0.37        19\n",
      "          67       0.17      0.29      0.21        17\n",
      "          69       0.62      0.50      0.55        16\n",
      "          75       0.27      0.25      0.26        16\n",
      "          86       0.17      0.07      0.10        15\n",
      "         116       0.23      0.25      0.24        20\n",
      "         122       0.50      0.19      0.27        16\n",
      "         123       0.83      0.28      0.42        18\n",
      "         130       1.00      0.12      0.21        25\n",
      "         139       0.41      0.94      0.57        17\n",
      "         145       0.53      0.53      0.53        19\n",
      "         146       0.65      0.52      0.58        25\n",
      "         150       0.00      0.00      0.00        22\n",
      "         153       1.00      0.10      0.17        21\n",
      "         161       0.21      0.25      0.23        12\n",
      "         162       0.82      0.78      0.80        18\n",
      "         165       1.00      0.93      0.97        15\n",
      "         171       0.80      0.47      0.59        17\n",
      "         174       0.26      0.47      0.33        15\n",
      "\n",
      "    accuracy                           0.42       576\n",
      "   macro avg       0.49      0.42      0.40       576\n",
      "weighted avg       0.51      0.42      0.40       576\n",
      "\n"
     ]
    }
   ],
   "source": [
    "print(a)"
   ]
  },
  {
   "cell_type": "markdown",
   "metadata": {},
   "source": [
    "### Performing parameter tuning of the model"
   ]
  },
  {
   "cell_type": "code",
   "execution_count": 120,
   "metadata": {
    "tags": []
   },
   "outputs": [],
   "source": [
    "from sklearn.model_selection import GridSearchCV"
   ]
  },
  {
   "cell_type": "code",
   "execution_count": 121,
   "metadata": {
    "tags": []
   },
   "outputs": [],
   "source": [
    "parameters = [{'kernel': ['rbf'],\n",
    "               'gamma': [1e-4, 1e-3, 0.01, 0.1, 0.2, 0.5],\n",
    "               'C': [1, 10, 100, 1000]},\n",
    "              {'kernel': ['linear'], 'C': [1, 10, 100, 1000]}\n",
    "             ]"
   ]
  },
  {
   "cell_type": "code",
   "execution_count": 122,
   "metadata": {
    "tags": []
   },
   "outputs": [
    {
     "data": {
      "text/html": [
       "<style>#sk-container-id-9 {color: black;}#sk-container-id-9 pre{padding: 0;}#sk-container-id-9 div.sk-toggleable {background-color: white;}#sk-container-id-9 label.sk-toggleable__label {cursor: pointer;display: block;width: 100%;margin-bottom: 0;padding: 0.3em;box-sizing: border-box;text-align: center;}#sk-container-id-9 label.sk-toggleable__label-arrow:before {content: \"▸\";float: left;margin-right: 0.25em;color: #696969;}#sk-container-id-9 label.sk-toggleable__label-arrow:hover:before {color: black;}#sk-container-id-9 div.sk-estimator:hover label.sk-toggleable__label-arrow:before {color: black;}#sk-container-id-9 div.sk-toggleable__content {max-height: 0;max-width: 0;overflow: hidden;text-align: left;background-color: #f0f8ff;}#sk-container-id-9 div.sk-toggleable__content pre {margin: 0.2em;color: black;border-radius: 0.25em;background-color: #f0f8ff;}#sk-container-id-9 input.sk-toggleable__control:checked~div.sk-toggleable__content {max-height: 200px;max-width: 100%;overflow: auto;}#sk-container-id-9 input.sk-toggleable__control:checked~label.sk-toggleable__label-arrow:before {content: \"▾\";}#sk-container-id-9 div.sk-estimator input.sk-toggleable__control:checked~label.sk-toggleable__label {background-color: #d4ebff;}#sk-container-id-9 div.sk-label input.sk-toggleable__control:checked~label.sk-toggleable__label {background-color: #d4ebff;}#sk-container-id-9 input.sk-hidden--visually {border: 0;clip: rect(1px 1px 1px 1px);clip: rect(1px, 1px, 1px, 1px);height: 1px;margin: -1px;overflow: hidden;padding: 0;position: absolute;width: 1px;}#sk-container-id-9 div.sk-estimator {font-family: monospace;background-color: #f0f8ff;border: 1px dotted black;border-radius: 0.25em;box-sizing: border-box;margin-bottom: 0.5em;}#sk-container-id-9 div.sk-estimator:hover {background-color: #d4ebff;}#sk-container-id-9 div.sk-parallel-item::after {content: \"\";width: 100%;border-bottom: 1px solid gray;flex-grow: 1;}#sk-container-id-9 div.sk-label:hover label.sk-toggleable__label {background-color: #d4ebff;}#sk-container-id-9 div.sk-serial::before {content: \"\";position: absolute;border-left: 1px solid gray;box-sizing: border-box;top: 0;bottom: 0;left: 50%;z-index: 0;}#sk-container-id-9 div.sk-serial {display: flex;flex-direction: column;align-items: center;background-color: white;padding-right: 0.2em;padding-left: 0.2em;position: relative;}#sk-container-id-9 div.sk-item {position: relative;z-index: 1;}#sk-container-id-9 div.sk-parallel {display: flex;align-items: stretch;justify-content: center;background-color: white;position: relative;}#sk-container-id-9 div.sk-item::before, #sk-container-id-9 div.sk-parallel-item::before {content: \"\";position: absolute;border-left: 1px solid gray;box-sizing: border-box;top: 0;bottom: 0;left: 50%;z-index: -1;}#sk-container-id-9 div.sk-parallel-item {display: flex;flex-direction: column;z-index: 1;position: relative;background-color: white;}#sk-container-id-9 div.sk-parallel-item:first-child::after {align-self: flex-end;width: 50%;}#sk-container-id-9 div.sk-parallel-item:last-child::after {align-self: flex-start;width: 50%;}#sk-container-id-9 div.sk-parallel-item:only-child::after {width: 0;}#sk-container-id-9 div.sk-dashed-wrapped {border: 1px dashed gray;margin: 0 0.4em 0.5em 0.4em;box-sizing: border-box;padding-bottom: 0.4em;background-color: white;}#sk-container-id-9 div.sk-label label {font-family: monospace;font-weight: bold;display: inline-block;line-height: 1.2em;}#sk-container-id-9 div.sk-label-container {text-align: center;}#sk-container-id-9 div.sk-container {/* jupyter's `normalize.less` sets `[hidden] { display: none; }` but bootstrap.min.css set `[hidden] { display: none !important; }` so we also need the `!important` here to be able to override the default hidden behavior on the sphinx rendered scikit-learn.org. See: https://github.com/scikit-learn/scikit-learn/issues/21755 */display: inline-block !important;position: relative;}#sk-container-id-9 div.sk-text-repr-fallback {display: none;}</style><div id=\"sk-container-id-9\" class=\"sk-top-container\"><div class=\"sk-text-repr-fallback\"><pre>GridSearchCV(cv=5, estimator=SVC(),\n",
       "             param_grid=[{&#x27;C&#x27;: [1, 10, 100, 1000],\n",
       "                          &#x27;gamma&#x27;: [0.0001, 0.001, 0.01, 0.1, 0.2, 0.5],\n",
       "                          &#x27;kernel&#x27;: [&#x27;rbf&#x27;]},\n",
       "                         {&#x27;C&#x27;: [1, 10, 100, 1000], &#x27;kernel&#x27;: [&#x27;linear&#x27;]}])</pre><b>In a Jupyter environment, please rerun this cell to show the HTML representation or trust the notebook. <br />On GitHub, the HTML representation is unable to render, please try loading this page with nbviewer.org.</b></div><div class=\"sk-container\" hidden><div class=\"sk-item sk-dashed-wrapped\"><div class=\"sk-label-container\"><div class=\"sk-label sk-toggleable\"><input class=\"sk-toggleable__control sk-hidden--visually\" id=\"sk-estimator-id-15\" type=\"checkbox\" ><label for=\"sk-estimator-id-15\" class=\"sk-toggleable__label sk-toggleable__label-arrow\">GridSearchCV</label><div class=\"sk-toggleable__content\"><pre>GridSearchCV(cv=5, estimator=SVC(),\n",
       "             param_grid=[{&#x27;C&#x27;: [1, 10, 100, 1000],\n",
       "                          &#x27;gamma&#x27;: [0.0001, 0.001, 0.01, 0.1, 0.2, 0.5],\n",
       "                          &#x27;kernel&#x27;: [&#x27;rbf&#x27;]},\n",
       "                         {&#x27;C&#x27;: [1, 10, 100, 1000], &#x27;kernel&#x27;: [&#x27;linear&#x27;]}])</pre></div></div></div><div class=\"sk-parallel\"><div class=\"sk-parallel-item\"><div class=\"sk-item\"><div class=\"sk-label-container\"><div class=\"sk-label sk-toggleable\"><input class=\"sk-toggleable__control sk-hidden--visually\" id=\"sk-estimator-id-16\" type=\"checkbox\" ><label for=\"sk-estimator-id-16\" class=\"sk-toggleable__label sk-toggleable__label-arrow\">estimator: SVC</label><div class=\"sk-toggleable__content\"><pre>SVC()</pre></div></div></div><div class=\"sk-serial\"><div class=\"sk-item\"><div class=\"sk-estimator sk-toggleable\"><input class=\"sk-toggleable__control sk-hidden--visually\" id=\"sk-estimator-id-17\" type=\"checkbox\" ><label for=\"sk-estimator-id-17\" class=\"sk-toggleable__label sk-toggleable__label-arrow\">SVC</label><div class=\"sk-toggleable__content\"><pre>SVC()</pre></div></div></div></div></div></div></div></div></div></div>"
      ],
      "text/plain": [
       "GridSearchCV(cv=5, estimator=SVC(),\n",
       "             param_grid=[{'C': [1, 10, 100, 1000],\n",
       "                          'gamma': [0.0001, 0.001, 0.01, 0.1, 0.2, 0.5],\n",
       "                          'kernel': ['rbf']},\n",
       "                         {'C': [1, 10, 100, 1000], 'kernel': ['linear']}])"
      ]
     },
     "execution_count": 122,
     "metadata": {},
     "output_type": "execute_result"
    }
   ],
   "source": [
    "svm_clf = GridSearchCV(svm.SVC(decision_function_shape='ovr'), parameters, cv=5)\n",
    "svm_clf.fit(X_train, y_train)"
   ]
  },
  {
   "cell_type": "code",
   "execution_count": 123,
   "metadata": {
    "tags": []
   },
   "outputs": [
    {
     "data": {
      "text/plain": [
       "{'C': 1000, 'gamma': 0.01, 'kernel': 'rbf'}"
      ]
     },
     "execution_count": 123,
     "metadata": {},
     "output_type": "execute_result"
    }
   ],
   "source": [
    "svm_clf.best_params_"
   ]
  },
  {
   "cell_type": "code",
   "execution_count": 124,
   "metadata": {
    "tags": []
   },
   "outputs": [
    {
     "name": "stdout",
     "output_type": "stream",
     "text": [
      "0.045 (+/-0.024) for {'C': 1, 'gamma': 0.0001, 'kernel': 'rbf'}\n",
      "0.106 (+/-0.006) for {'C': 1, 'gamma': 0.001, 'kernel': 'rbf'}\n",
      "0.253 (+/-0.036) for {'C': 1, 'gamma': 0.01, 'kernel': 'rbf'}\n",
      "0.445 (+/-0.041) for {'C': 1, 'gamma': 0.1, 'kernel': 'rbf'}\n",
      "0.470 (+/-0.051) for {'C': 1, 'gamma': 0.2, 'kernel': 'rbf'}\n",
      "0.503 (+/-0.055) for {'C': 1, 'gamma': 0.5, 'kernel': 'rbf'}\n",
      "0.106 (+/-0.012) for {'C': 10, 'gamma': 0.0001, 'kernel': 'rbf'}\n",
      "0.238 (+/-0.029) for {'C': 10, 'gamma': 0.001, 'kernel': 'rbf'}\n",
      "0.415 (+/-0.031) for {'C': 10, 'gamma': 0.01, 'kernel': 'rbf'}\n",
      "0.574 (+/-0.070) for {'C': 10, 'gamma': 0.1, 'kernel': 'rbf'}\n",
      "0.587 (+/-0.020) for {'C': 10, 'gamma': 0.2, 'kernel': 'rbf'}\n",
      "0.590 (+/-0.042) for {'C': 10, 'gamma': 0.5, 'kernel': 'rbf'}\n",
      "0.233 (+/-0.028) for {'C': 100, 'gamma': 0.0001, 'kernel': 'rbf'}\n",
      "0.385 (+/-0.035) for {'C': 100, 'gamma': 0.001, 'kernel': 'rbf'}\n",
      "0.567 (+/-0.075) for {'C': 100, 'gamma': 0.01, 'kernel': 'rbf'}\n",
      "0.626 (+/-0.058) for {'C': 100, 'gamma': 0.1, 'kernel': 'rbf'}\n",
      "0.621 (+/-0.048) for {'C': 100, 'gamma': 0.2, 'kernel': 'rbf'}\n",
      "0.598 (+/-0.043) for {'C': 100, 'gamma': 0.5, 'kernel': 'rbf'}\n",
      "0.385 (+/-0.026) for {'C': 1000, 'gamma': 0.0001, 'kernel': 'rbf'}\n",
      "0.533 (+/-0.056) for {'C': 1000, 'gamma': 0.001, 'kernel': 'rbf'}\n",
      "0.635 (+/-0.056) for {'C': 1000, 'gamma': 0.01, 'kernel': 'rbf'}\n",
      "0.630 (+/-0.047) for {'C': 1000, 'gamma': 0.1, 'kernel': 'rbf'}\n",
      "0.619 (+/-0.056) for {'C': 1000, 'gamma': 0.2, 'kernel': 'rbf'}\n",
      "0.598 (+/-0.046) for {'C': 1000, 'gamma': 0.5, 'kernel': 'rbf'}\n",
      "0.464 (+/-0.021) for {'C': 1, 'kernel': 'linear'}\n",
      "0.566 (+/-0.055) for {'C': 10, 'kernel': 'linear'}\n",
      "0.597 (+/-0.046) for {'C': 100, 'kernel': 'linear'}\n",
      "0.601 (+/-0.047) for {'C': 1000, 'kernel': 'linear'}\n"
     ]
    }
   ],
   "source": [
    "means = svm_clf.cv_results_['mean_test_score']\n",
    "stds = svm_clf.cv_results_['std_test_score']\n",
    "for mean, std, params in zip(means, stds, svm_clf.cv_results_['params']):\n",
    "    print(\"%0.3f (+/-%0.03f) for %r\" % (mean, std * 2, params))"
   ]
  },
  {
   "cell_type": "code",
   "execution_count": 125,
   "metadata": {
    "tags": []
   },
   "outputs": [],
   "source": [
    "y_pred_svm = svm_clf.predict(X_test)"
   ]
  },
  {
   "cell_type": "code",
   "execution_count": 126,
   "metadata": {
    "tags": []
   },
   "outputs": [
    {
     "data": {
      "text/plain": [
       "0.6840277777777778"
      ]
     },
     "execution_count": 126,
     "metadata": {},
     "output_type": "execute_result"
    }
   ],
   "source": [
    "metrics.accuracy_score(y_test, y_pred_svm)"
   ]
  },
  {
   "cell_type": "code",
   "execution_count": 128,
   "metadata": {
    "tags": []
   },
   "outputs": [
    {
     "name": "stdout",
     "output_type": "stream",
     "text": [
      "              precision    recall  f1-score   support\n",
      "\n",
      "           4       0.57      0.93      0.70        14\n",
      "           8       0.94      0.94      0.94        18\n",
      "           9       0.89      0.77      0.83        22\n",
      "          10       0.55      0.60      0.57        20\n",
      "          13       0.96      0.96      0.96        23\n",
      "          14       0.65      0.94      0.77        18\n",
      "          27       0.67      0.59      0.62        17\n",
      "          40       0.73      0.95      0.83        20\n",
      "          45       0.65      0.69      0.67        16\n",
      "          48       0.60      0.47      0.53        19\n",
      "          52       0.45      0.53      0.49        19\n",
      "          53       0.30      0.38      0.33        16\n",
      "          58       0.42      0.73      0.53        11\n",
      "          63       0.79      0.58      0.67        19\n",
      "          67       0.69      0.65      0.67        17\n",
      "          69       0.74      0.88      0.80        16\n",
      "          75       0.44      0.44      0.44        16\n",
      "          86       0.50      0.53      0.52        15\n",
      "         116       0.57      0.40      0.47        20\n",
      "         122       0.60      0.38      0.46        16\n",
      "         123       0.92      0.61      0.73        18\n",
      "         130       0.73      0.64      0.68        25\n",
      "         139       0.82      0.82      0.82        17\n",
      "         145       0.93      0.74      0.82        19\n",
      "         146       0.64      0.72      0.68        25\n",
      "         150       0.63      0.55      0.59        22\n",
      "         153       0.68      0.71      0.70        21\n",
      "         161       0.69      0.75      0.72        12\n",
      "         162       0.81      0.72      0.76        18\n",
      "         165       0.93      0.93      0.93        15\n",
      "         171       0.87      0.76      0.81        17\n",
      "         174       0.75      0.60      0.67        15\n",
      "\n",
      "    accuracy                           0.68       576\n",
      "   macro avg       0.69      0.68      0.68       576\n",
      "weighted avg       0.70      0.68      0.68       576\n",
      "\n"
     ]
    }
   ],
   "source": [
    "print(metrics.classification_report(y_test, y_pred_svm))"
   ]
  },
  {
   "cell_type": "markdown",
   "metadata": {},
   "source": [
    "### Dimensionality Reduction using PCA"
   ]
  },
  {
   "cell_type": "code",
   "execution_count": 129,
   "metadata": {
    "tags": []
   },
   "outputs": [],
   "source": [
    "from sklearn.decomposition import PCA"
   ]
  },
  {
   "cell_type": "code",
   "execution_count": 130,
   "metadata": {
    "tags": []
   },
   "outputs": [],
   "source": [
    "pca = PCA()"
   ]
  },
  {
   "cell_type": "code",
   "execution_count": 131,
   "metadata": {
    "tags": []
   },
   "outputs": [
    {
     "data": {
      "text/html": [
       "<style>#sk-container-id-10 {color: black;}#sk-container-id-10 pre{padding: 0;}#sk-container-id-10 div.sk-toggleable {background-color: white;}#sk-container-id-10 label.sk-toggleable__label {cursor: pointer;display: block;width: 100%;margin-bottom: 0;padding: 0.3em;box-sizing: border-box;text-align: center;}#sk-container-id-10 label.sk-toggleable__label-arrow:before {content: \"▸\";float: left;margin-right: 0.25em;color: #696969;}#sk-container-id-10 label.sk-toggleable__label-arrow:hover:before {color: black;}#sk-container-id-10 div.sk-estimator:hover label.sk-toggleable__label-arrow:before {color: black;}#sk-container-id-10 div.sk-toggleable__content {max-height: 0;max-width: 0;overflow: hidden;text-align: left;background-color: #f0f8ff;}#sk-container-id-10 div.sk-toggleable__content pre {margin: 0.2em;color: black;border-radius: 0.25em;background-color: #f0f8ff;}#sk-container-id-10 input.sk-toggleable__control:checked~div.sk-toggleable__content {max-height: 200px;max-width: 100%;overflow: auto;}#sk-container-id-10 input.sk-toggleable__control:checked~label.sk-toggleable__label-arrow:before {content: \"▾\";}#sk-container-id-10 div.sk-estimator input.sk-toggleable__control:checked~label.sk-toggleable__label {background-color: #d4ebff;}#sk-container-id-10 div.sk-label input.sk-toggleable__control:checked~label.sk-toggleable__label {background-color: #d4ebff;}#sk-container-id-10 input.sk-hidden--visually {border: 0;clip: rect(1px 1px 1px 1px);clip: rect(1px, 1px, 1px, 1px);height: 1px;margin: -1px;overflow: hidden;padding: 0;position: absolute;width: 1px;}#sk-container-id-10 div.sk-estimator {font-family: monospace;background-color: #f0f8ff;border: 1px dotted black;border-radius: 0.25em;box-sizing: border-box;margin-bottom: 0.5em;}#sk-container-id-10 div.sk-estimator:hover {background-color: #d4ebff;}#sk-container-id-10 div.sk-parallel-item::after {content: \"\";width: 100%;border-bottom: 1px solid gray;flex-grow: 1;}#sk-container-id-10 div.sk-label:hover label.sk-toggleable__label {background-color: #d4ebff;}#sk-container-id-10 div.sk-serial::before {content: \"\";position: absolute;border-left: 1px solid gray;box-sizing: border-box;top: 0;bottom: 0;left: 50%;z-index: 0;}#sk-container-id-10 div.sk-serial {display: flex;flex-direction: column;align-items: center;background-color: white;padding-right: 0.2em;padding-left: 0.2em;position: relative;}#sk-container-id-10 div.sk-item {position: relative;z-index: 1;}#sk-container-id-10 div.sk-parallel {display: flex;align-items: stretch;justify-content: center;background-color: white;position: relative;}#sk-container-id-10 div.sk-item::before, #sk-container-id-10 div.sk-parallel-item::before {content: \"\";position: absolute;border-left: 1px solid gray;box-sizing: border-box;top: 0;bottom: 0;left: 50%;z-index: -1;}#sk-container-id-10 div.sk-parallel-item {display: flex;flex-direction: column;z-index: 1;position: relative;background-color: white;}#sk-container-id-10 div.sk-parallel-item:first-child::after {align-self: flex-end;width: 50%;}#sk-container-id-10 div.sk-parallel-item:last-child::after {align-self: flex-start;width: 50%;}#sk-container-id-10 div.sk-parallel-item:only-child::after {width: 0;}#sk-container-id-10 div.sk-dashed-wrapped {border: 1px dashed gray;margin: 0 0.4em 0.5em 0.4em;box-sizing: border-box;padding-bottom: 0.4em;background-color: white;}#sk-container-id-10 div.sk-label label {font-family: monospace;font-weight: bold;display: inline-block;line-height: 1.2em;}#sk-container-id-10 div.sk-label-container {text-align: center;}#sk-container-id-10 div.sk-container {/* jupyter's `normalize.less` sets `[hidden] { display: none; }` but bootstrap.min.css set `[hidden] { display: none !important; }` so we also need the `!important` here to be able to override the default hidden behavior on the sphinx rendered scikit-learn.org. See: https://github.com/scikit-learn/scikit-learn/issues/21755 */display: inline-block !important;position: relative;}#sk-container-id-10 div.sk-text-repr-fallback {display: none;}</style><div id=\"sk-container-id-10\" class=\"sk-top-container\"><div class=\"sk-text-repr-fallback\"><pre>PCA()</pre><b>In a Jupyter environment, please rerun this cell to show the HTML representation or trust the notebook. <br />On GitHub, the HTML representation is unable to render, please try loading this page with nbviewer.org.</b></div><div class=\"sk-container\" hidden><div class=\"sk-item\"><div class=\"sk-estimator sk-toggleable\"><input class=\"sk-toggleable__control sk-hidden--visually\" id=\"sk-estimator-id-18\" type=\"checkbox\" checked><label for=\"sk-estimator-id-18\" class=\"sk-toggleable__label sk-toggleable__label-arrow\">PCA</label><div class=\"sk-toggleable__content\"><pre>PCA()</pre></div></div></div></div></div>"
      ],
      "text/plain": [
       "PCA()"
      ]
     },
     "execution_count": 131,
     "metadata": {},
     "output_type": "execute_result"
    }
   ],
   "source": [
    "pca.fit(X)"
   ]
  },
  {
   "cell_type": "code",
   "execution_count": 132,
   "metadata": {
    "tags": []
   },
   "outputs": [
    {
     "data": {
      "text/plain": [
       "array([9.99662031e-01, 1.75286626e-04, 8.44273577e-05, 6.36343687e-05,\n",
       "       6.43029505e-06, 5.39765996e-06, 1.27996726e-06, 5.63820722e-07,\n",
       "       4.19114208e-07, 2.54695501e-07, 1.85801619e-07, 7.18058143e-08,\n",
       "       1.60098008e-08, 1.00960347e-09, 5.88685910e-10, 2.62318565e-11,\n",
       "       1.43495822e-11])"
      ]
     },
     "execution_count": 132,
     "metadata": {},
     "output_type": "execute_result"
    }
   ],
   "source": [
    "var= pca.explained_variance_ratio_\n",
    "var"
   ]
  },
  {
   "cell_type": "code",
   "execution_count": 133,
   "metadata": {
    "tags": []
   },
   "outputs": [],
   "source": [
    "import matplotlib.pyplot as plt\n",
    "%matplotlib inline"
   ]
  },
  {
   "cell_type": "code",
   "execution_count": 134,
   "metadata": {
    "tags": []
   },
   "outputs": [
    {
     "data": {
      "text/plain": [
       "[<matplotlib.lines.Line2D at 0x284453e6bd0>]"
      ]
     },
     "execution_count": 134,
     "metadata": {},
     "output_type": "execute_result"
    },
    {
     "data": {
      "image/png": "[encoded data removed]",
      "text/plain": [
       "<Figure size 640x480 with 1 Axes>"
      ]
     },
     "metadata": {},
     "output_type": "display_data"
    }
   ],
   "source": [
    "var1=np.cumsum(np.round(pca.explained_variance_ratio_, decimals=4)*100)\n",
    "plt.plot(var1)"
   ]
  },
  {
   "cell_type": "markdown",
   "metadata": {
    "jupyter": {
     "outputs_hidden": true
    }
   },
   "source": [
    "### Testing with mobile captured leaves which are not classified"
   ]
  },
  {
   "cell_type": "code",
   "execution_count": 39,
   "metadata": {
    "tags": []
   },
   "outputs": [],
   "source": [
    "import os\n",
    "import cv2"
   ]
  },
  {
   "cell_type": "code",
   "execution_count": 42,
   "metadata": {},
   "outputs": [],
   "source": [
    "def bg_sub(filename):\n",
    "    test_img_path = '..\\\\mobile captures\\\\' + filename\n",
    "    main_img = cv2.imread(test_img_path)\n",
    "    img = cv2.cvtColor(main_img, cv2.COLOR_BGR2RGB)\n",
    "    resized_image = cv2.resize(img, (1600, 1200))\n",
    "    size_y,size_x,_ = img.shape\n",
    "    gs = cv2.cvtColor(resized_image,cv2.COLOR_RGB2GRAY)\n",
    "    blur = cv2.GaussianBlur(gs, (55,55),0)\n",
    "    ret_otsu,im_bw_otsu = cv2.threshold(blur,0,255,cv2.THRESH_BINARY_INV+cv2.THRESH_OTSU)\n",
    "    kernel = np.ones((50,50),np.uint8)\n",
    "    closing = cv2.morphologyEx(im_bw_otsu, cv2.MORPH_CLOSE, kernel)\n",
    "    \n",
    "    ret_image, contours, hierarchy = cv2.findContours(closing,cv2.RETR_TREE,cv2.CHAIN_APPROX_SIMPLE)\n",
    "    \n",
    "    contains = []\n",
    "    y_ri,x_ri, _ = resized_image.shape\n",
    "    for cc in contours:\n",
    "        yn = cv2.pointPolygonTest(cc,(x_ri//2,y_ri//2),False)\n",
    "        contains.append(yn)\n",
    "\n",
    "    val = [contains.index(temp) for temp in contains if temp>0]\n",
    "    index = val[0]\n",
    "    \n",
    "    black_img = np.empty([1200,1600,3],dtype=np.uint8)\n",
    "    black_img.fill(0)\n",
    "    \n",
    "    cnt = contours[index]\n",
    "    mask = cv2.drawContours(black_img, [cnt] , 0, (255,255,255), -1)\n",
    "    \n",
    "    maskedImg = cv2.bitwise_and(resized_image, mask)\n",
    "    white_pix = [255,255,255]\n",
    "    black_pix = [0,0,0]\n",
    "    \n",
    "    final_img = maskedImg\n",
    "    h,w,channels = final_img.shape\n",
    "    for x in range(0,w):\n",
    "        for y in range(0,h):\n",
    "            channels_xy = final_img[y,x]\n",
    "            if all(channels_xy == black_pix):\n",
    "                final_img[y,x] = white_pix\n",
    "    \n",
    "    return final_img"
   ]
  },
  {
   "cell_type": "code",
   "execution_count": 45,
   "metadata": {},
   "outputs": [
    {
     "name": "stderr",
     "output_type": "stream",
     "text": [
      "[ WARN:0@40.403] global loadsave.cpp:248 findDecoder imread_('..\\mobile captures\\1000.jpg'): can't open/read file: check file path/integrity\n"
     ]
    },
    {
     "ename": "error",
     "evalue": "OpenCV(4.8.0) /io/opencv/modules/imgproc/src/color.cpp:182: error: (-215:Assertion failed) !_src.empty() in function 'cvtColor'\n",
     "output_type": "error",
     "traceback": [
      "\u001b[0;31m---------------------------------------------------------------------------\u001b[0m",
      "\u001b[0;31merror\u001b[0m                                     Traceback (most recent call last)",
      "Cell \u001b[0;32mIn[45], line 2\u001b[0m\n\u001b[1;32m      1\u001b[0m filename \u001b[38;5;241m=\u001b[39m \u001b[38;5;124m'\u001b[39m\u001b[38;5;124m1000.jpg\u001b[39m\u001b[38;5;124m'\u001b[39m \n\u001b[0;32m----> 2\u001b[0m bg_rem_img \u001b[38;5;241m=\u001b[39m \u001b[43mbg_sub\u001b[49m\u001b[43m(\u001b[49m\u001b[43mfilename\u001b[49m\u001b[43m)\u001b[49m\n",
      "Cell \u001b[0;32mIn[42], line 4\u001b[0m, in \u001b[0;36mbg_sub\u001b[0;34m(filename)\u001b[0m\n\u001b[1;32m      2\u001b[0m test_img_path \u001b[38;5;241m=\u001b[39m \u001b[38;5;124m'\u001b[39m\u001b[38;5;124m..\u001b[39m\u001b[38;5;130;01m\\\\\u001b[39;00m\u001b[38;5;124mmobile captures\u001b[39m\u001b[38;5;130;01m\\\\\u001b[39;00m\u001b[38;5;124m'\u001b[39m \u001b[38;5;241m+\u001b[39m filename\n\u001b[1;32m      3\u001b[0m main_img \u001b[38;5;241m=\u001b[39m cv2\u001b[38;5;241m.\u001b[39mimread(test_img_path)\n\u001b[0;32m----> 4\u001b[0m img \u001b[38;5;241m=\u001b[39m \u001b[43mcv2\u001b[49m\u001b[38;5;241;43m.\u001b[39;49m\u001b[43mcvtColor\u001b[49m\u001b[43m(\u001b[49m\u001b[43mmain_img\u001b[49m\u001b[43m,\u001b[49m\u001b[43m \u001b[49m\u001b[43mcv2\u001b[49m\u001b[38;5;241;43m.\u001b[39;49m\u001b[43mCOLOR_BGR2RGB\u001b[49m\u001b[43m)\u001b[49m\n\u001b[1;32m      5\u001b[0m resized_image \u001b[38;5;241m=\u001b[39m cv2\u001b[38;5;241m.\u001b[39mresize(img, (\u001b[38;5;241m1600\u001b[39m, \u001b[38;5;241m1200\u001b[39m))\n\u001b[1;32m      6\u001b[0m size_y,size_x,_ \u001b[38;5;241m=\u001b[39m img\u001b[38;5;241m.\u001b[39mshape\n",
      "\u001b[0;31merror\u001b[0m: OpenCV(4.8.0) /io/opencv/modules/imgproc/src/color.cpp:182: error: (-215:Assertion failed) !_src.empty() in function 'cvtColor'\n"
     ]
    }
   ],
   "source": [
    "filename = '1000.jpg' \n",
    "bg_rem_img = bg_sub(filename)"
   ]
  },
  {
   "cell_type": "code",
   "execution_count": 43,
   "metadata": {},
   "outputs": [
    {
     "data": {
      "text/plain": [
       "<matplotlib.image.AxesImage at 0x182202eaf60>"
      ]
     },
     "execution_count": 43,
     "metadata": {},
     "output_type": "execute_result"
    },
    {
     "data": {
      "image/png": "[encoded data removed]",
      "text/plain": [
       "<matplotlib.figure.Figure at 0x182202c3198>"
      ]
     },
     "metadata": {},
     "output_type": "display_data"
    }
   ],
   "source": [
    "plt.imshow(bg_rem_img)"
   ]
  },
  {
   "cell_type": "code",
   "execution_count": 44,
   "metadata": {
    "collapsed": true,
    "jupyter": {
     "outputs_hidden": true
    }
   },
   "outputs": [],
   "source": [
    "import mahotas as mt"
   ]
  },
  {
   "cell_type": "code",
   "execution_count": 45,
   "metadata": {
    "collapsed": true,
    "jupyter": {
     "outputs_hidden": true
    }
   },
   "outputs": [],
   "source": [
    "def feature_extract(img):\n",
    "    names = ['area','perimeter','pysiological_length','pysiological_width','aspect_ratio','rectangularity','circularity', \\\n",
    "             'mean_r','mean_g','mean_b','stddev_r','stddev_g','stddev_b', \\\n",
    "             'contrast','correlation','inverse_difference_moments','entropy'\n",
    "            ]\n",
    "    df = pd.DataFrame([], columns=names)\n",
    "\n",
    "    #Preprocessing\n",
    "    gs = cv2.cvtColor(img,cv2.COLOR_RGB2GRAY)\n",
    "    blur = cv2.GaussianBlur(gs, (25,25),0)\n",
    "    ret_otsu,im_bw_otsu = cv2.threshold(blur,0,255,cv2.THRESH_BINARY_INV+cv2.THRESH_OTSU)\n",
    "    kernel = np.ones((50,50),np.uint8)\n",
    "    closing = cv2.morphologyEx(im_bw_otsu, cv2.MORPH_CLOSE, kernel)\n",
    "\n",
    "    #Shape features\n",
    "    image, contours, _ = cv2.findContours(closing,cv2.RETR_TREE,cv2.CHAIN_APPROX_SIMPLE)\n",
    "    cnt = contours[0]\n",
    "    M = cv2.moments(cnt)\n",
    "    area = cv2.contourArea(cnt)\n",
    "    perimeter = cv2.arcLength(cnt,True)\n",
    "    x,y,w,h = cv2.boundingRect(cnt)\n",
    "    aspect_ratio = float(w)/h\n",
    "    rectangularity = w*h/area\n",
    "    circularity = ((perimeter)**2)/area\n",
    "\n",
    "    #Color features\n",
    "    red_channel = img[:,:,0]\n",
    "    green_channel = img[:,:,1]\n",
    "    blue_channel = img[:,:,2]\n",
    "    blue_channel[blue_channel == 255] = 0\n",
    "    green_channel[green_channel == 255] = 0\n",
    "    red_channel[red_channel == 255] = 0\n",
    "\n",
    "    red_mean = np.mean(red_channel)\n",
    "    green_mean = np.mean(green_channel)\n",
    "    blue_mean = np.mean(blue_channel)\n",
    "\n",
    "    red_std = np.std(red_channel)\n",
    "    green_std = np.std(green_channel)\n",
    "    blue_std = np.std(blue_channel)\n",
    "\n",
    "    #Texture features\n",
    "    textures = mt.features.haralick(gs)\n",
    "    ht_mean = textures.mean(axis=0)\n",
    "    contrast = ht_mean[1]\n",
    "    correlation = ht_mean[2]\n",
    "    inverse_diff_moments = ht_mean[4]\n",
    "    entropy = ht_mean[8]\n",
    "\n",
    "    vector = [area,perimeter,w,h,aspect_ratio,rectangularity,circularity,\\\n",
    "              red_mean,green_mean,blue_mean,red_std,green_std,blue_std,\\\n",
    "              contrast,correlation,inverse_diff_moments,entropy\n",
    "             ]\n",
    "\n",
    "    df_temp = pd.DataFrame([vector],columns=names)\n",
    "    df = df.append(df_temp)\n",
    "    \n",
    "    return df"
   ]
  },
  {
   "cell_type": "code",
   "execution_count": 46,
   "metadata": {},
   "outputs": [
    {
     "data": {
      "text/html": [
       "<div>\n",
       "<style>\n",
       "    .dataframe thead tr:only-child th {\n",
       "        text-align: right;\n",
       "    }\n",
       "\n",
       "    .dataframe thead th {\n",
       "        text-align: left;\n",
       "    }\n",
       "\n",
       "    .dataframe tbody tr th {\n",
       "        vertical-align: top;\n",
       "    }\n",
       "</style>\n",
       "<table border=\"1\" class=\"dataframe\">\n",
       "  <thead>\n",
       "    <tr style=\"text-align: right;\">\n",
       "      <th></th>\n",
       "      <th>area</th>\n",
       "      <th>perimeter</th>\n",
       "      <th>pysiological_length</th>\n",
       "      <th>pysiological_width</th>\n",
       "      <th>aspect_ratio</th>\n",
       "      <th>rectangularity</th>\n",
       "      <th>circularity</th>\n",
       "      <th>mean_r</th>\n",
       "      <th>mean_g</th>\n",
       "      <th>mean_b</th>\n",
       "      <th>stddev_r</th>\n",
       "      <th>stddev_g</th>\n",
       "      <th>stddev_b</th>\n",
       "      <th>contrast</th>\n",
       "      <th>correlation</th>\n",
       "      <th>inverse_difference_moments</th>\n",
       "      <th>entropy</th>\n",
       "    </tr>\n",
       "  </thead>\n",
       "  <tbody>\n",
       "    <tr>\n",
       "      <th>0</th>\n",
       "      <td>153912.5</td>\n",
       "      <td>1581.907845</td>\n",
       "      <td>507</td>\n",
       "      <td>486</td>\n",
       "      <td>1.04321</td>\n",
       "      <td>1.600923</td>\n",
       "      <td>16.258799</td>\n",
       "      <td>3.72212</td>\n",
       "      <td>5.285164</td>\n",
       "      <td>1.348841</td>\n",
       "      <td>13.059666</td>\n",
       "      <td>18.114367</td>\n",
       "      <td>5.464123</td>\n",
       "      <td>14.528435</td>\n",
       "      <td>0.99761</td>\n",
       "      <td>0.951879</td>\n",
       "      <td>1.088378</td>\n",
       "    </tr>\n",
       "  </tbody>\n",
       "</table>\n",
       "</div>"
      ],
      "text/plain": [
       "       area    perimeter pysiological_length pysiological_width  aspect_ratio  \\\n",
       "0  153912.5  1581.907845                 507                486       1.04321   \n",
       "\n",
       "   rectangularity  circularity   mean_r    mean_g    mean_b   stddev_r  \\\n",
       "0        1.600923    16.258799  3.72212  5.285164  1.348841  13.059666   \n",
       "\n",
       "    stddev_g  stddev_b   contrast  correlation  inverse_difference_moments  \\\n",
       "0  18.114367  5.464123  14.528435      0.99761                    0.951879   \n",
       "\n",
       "    entropy  \n",
       "0  1.088378  "
      ]
     },
     "execution_count": 46,
     "metadata": {},
     "output_type": "execute_result"
    }
   ],
   "source": [
    "features_of_img = feature_extract(bg_rem_img)\n",
    "features_of_img"
   ]
  },
  {
   "cell_type": "code",
   "execution_count": 47,
   "metadata": {},
   "outputs": [
    {
     "data": {
      "text/plain": [
       "18"
      ]
     },
     "execution_count": 47,
     "metadata": {},
     "output_type": "execute_result"
    }
   ],
   "source": [
    "scaled_features = sc_X.transform(features_of_img)\n",
    "print(scaled_features)\n",
    "# y_pred_mobile = svm_clf.predict(features_of_img)\n",
    "y_pred_mobile = svm_clf.predict(scaled_features)\n",
    "y_pred_mobile[0]"
   ]
  },
  {
   "cell_type": "code",
   "execution_count": 48,
   "metadata": {},
   "outputs": [
    {
     "data": {
      "text/plain": [
       "'Crape myrtle, Crepe myrtle'"
      ]
     },
     "execution_count": 48,
     "metadata": {},
     "output_type": "execute_result"
    }
   ],
   "source": [
    "common_names = ['pubescent bamboo','Chinese horse chestnut','Anhui Barberry', \\\n",
    "                'Chinese redbud','true indigo','Japanese maple','Nanmu',' castor aralia', \\\n",
    "                'Chinese cinnamon','goldenrain tree','Big-fruited Holly','Japanese cheesewood', \\\n",
    "                'wintersweet','camphortree','Japan Arrowwood','sweet osmanthus','deodar','ginkgo, maidenhair tree', \\\n",
    "                'Crape myrtle, Crepe myrtle','oleander','yew plum pine','Japanese Flowering Cherry','Glossy Privet',\\\n",
    "                'Chinese Toon','peach','Ford Woodlotus','trident maple','Beales barberry','southern magnolia',\\\n",
    "                'Canadian poplar','Chinese tulip tree','tangerine'\n",
    "               ]\n",
    "common_names[y_pred_mobile[0]]"
   ]
  },
  {
   "cell_type": "code",
   "execution_count": 12,
   "metadata": {},
   "outputs": [
    {
     "name": "stdout",
     "output_type": "stream",
     "text": [
      "[24 24  2 ... 23 30 13]\n"
     ]
    }
   ],
   "source": [
    "print(y)"
   ]
  },
  {
   "cell_type": "code",
   "execution_count": 15,
   "metadata": {},
   "outputs": [
    {
     "ename": "ValueError",
     "evalue": "The truth value of an array with more than one element is ambiguous. Use a.any() or a.all()",
     "output_type": "error",
     "traceback": [
      "\u001b[0;31m---------------------------------------------------------------------------\u001b[0m",
      "\u001b[0;31mValueError\u001b[0m                                Traceback (most recent call last)",
      "Cell \u001b[0;32mIn[15], line 1\u001b[0m\n\u001b[0;32m----> 1\u001b[0m \u001b[38;5;28;43mlist\u001b[39;49m\u001b[43m(\u001b[49m\u001b[43my\u001b[49m\u001b[43m)\u001b[49m\u001b[38;5;241;43m.\u001b[39;49m\u001b[43mcount\u001b[49m\u001b[43m(\u001b[49m\u001b[43my\u001b[49m\u001b[43m)\u001b[49m\n",
      "\u001b[0;31mValueError\u001b[0m: The truth value of an array with more than one element is ambiguous. Use a.any() or a.all()"
     ]
    }
   ],
   "source": [
    "list(y).count(y)"
   ]
  },
  {
   "cell_type": "code",
   "execution_count": 17,
   "metadata": {},
   "outputs": [],
   "source": [
    "ly =list(y)"
   ]
  },
  {
   "cell_type": "code",
   "execution_count": 18,
   "metadata": {},
   "outputs": [
    {
     "ename": "TypeError",
     "evalue": "count() takes exactly one argument (0 given)",
     "output_type": "error",
     "traceback": [
      "\u001b[0;31m---------------------------------------------------------------------------\u001b[0m",
      "\u001b[0;31mTypeError\u001b[0m                                 Traceback (most recent call last)",
      "Cell \u001b[0;32mIn[18], line 1\u001b[0m\n\u001b[0;32m----> 1\u001b[0m \u001b[43mly\u001b[49m\u001b[38;5;241;43m.\u001b[39;49m\u001b[43mcount\u001b[49m\u001b[43m(\u001b[49m\u001b[43m)\u001b[49m\n",
      "\u001b[0;31mTypeError\u001b[0m: count() takes exactly one argument (0 given)"
     ]
    }
   ],
   "source": [
    "ly.count()"
   ]
  },
  {
   "cell_type": "code",
   "execution_count": 19,
   "metadata": {},
   "outputs": [
    {
     "data": {
      "text/plain": [
       "16    77\n",
       "4     73\n",
       "3     72\n",
       "19    66\n",
       "2     65\n",
       "23    65\n",
       "13    65\n",
       "29    64\n",
       "1     63\n",
       "11    63\n",
       "6     62\n",
       "17    62\n",
       "18    61\n",
       "20    60\n",
       "14    60\n",
       "0     59\n",
       "9     59\n",
       "28    57\n",
       "15    56\n",
       "31    56\n",
       "5     56\n",
       "22    55\n",
       "8     55\n",
       "21    55\n",
       "27    55\n",
       "24    54\n",
       "26    53\n",
       "30    53\n",
       "7     52\n",
       "12    52\n",
       "25    52\n",
       "10    50\n",
       "Name: count, dtype: int64"
      ]
     },
     "execution_count": 19,
     "metadata": {},
     "output_type": "execute_result"
    }
   ],
   "source": [
    "pd.Series(ly).value_counts()"
   ]
  },
  {
   "cell_type": "code",
   "execution_count": null,
   "metadata": {},
   "outputs": [],
   "source": []
  }
 ],
 "metadata": {
  "kernelspec": {
   "display_name": "Python 3 (ipykernel)",
   "language": "python",
   "name": "python3"
  },
  "language_info": {
   "codemirror_mode": {
    "name": "ipython",
    "version": 3
   },
   "file_extension": ".py",
   "mimetype": "text/x-python",
   "name": "python",
   "nbconvert_exporter": "python",
   "pygments_lexer": "ipython3",
   "version": "3.11.5"
  }
 },
 "nbformat": 4,
 "nbformat_minor": 4
}
