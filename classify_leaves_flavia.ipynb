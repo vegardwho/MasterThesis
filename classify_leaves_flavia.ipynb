{
 "cells": [
  {
   "cell_type": "markdown",
   "metadata": {},
   "source": [
    "# Plant Leaf Classification\n",
    "\n",
    "Applying machine learning models for classification of plant leaf images"
   ]
  },
  {
   "cell_type": "markdown",
   "metadata": {},
   "source": [
    "### Importing necessary libraries"
   ]
  },
  {
   "cell_type": "code",
   "execution_count": 1,
   "metadata": {
    "tags": []
   },
   "outputs": [],
   "source": [
    "import numpy as np\n",
    "import pandas as pd\n",
    "import os\n",
    "import string\n",
    "import random\n",
    "from tqdm import tqdm"
   ]
  },
  {
   "cell_type": "markdown",
   "metadata": {},
   "source": [
    "### Reading the dataset"
   ]
  },
  {
   "cell_type": "code",
   "execution_count": 2,
   "metadata": {
    "tags": []
   },
   "outputs": [],
   "source": [
    "dataset = pd.read_csv(\"Flavia_features.csv\")\n",
    "\n",
    "ds_path = 'C:/Users/vjosv/master/dataset/Leaves/'\n",
    "img_files = [i for i in os.listdir(ds_path) if i!='.ipynb_checkpoints']"
   ]
  },
  {
   "cell_type": "code",
   "execution_count": 3,
   "metadata": {
    "tags": []
   },
   "outputs": [
    {
     "data": {
      "text/html": [
       "<div>\n",
       "<style scoped>\n",
       "    .dataframe tbody tr th:only-of-type {\n",
       "        vertical-align: middle;\n",
       "    }\n",
       "\n",
       "    .dataframe tbody tr th {\n",
       "        vertical-align: top;\n",
       "    }\n",
       "\n",
       "    .dataframe thead th {\n",
       "        text-align: right;\n",
       "    }\n",
       "</style>\n",
       "<table border=\"1\" class=\"dataframe\">\n",
       "  <thead>\n",
       "    <tr style=\"text-align: right;\">\n",
       "      <th></th>\n",
       "      <th>Unnamed: 0</th>\n",
       "      <th>area</th>\n",
       "      <th>perimeter</th>\n",
       "      <th>physiological_length</th>\n",
       "      <th>physiological_width</th>\n",
       "      <th>aspect_ratio</th>\n",
       "      <th>rectangularity</th>\n",
       "      <th>circularity</th>\n",
       "      <th>mean_r</th>\n",
       "      <th>mean_g</th>\n",
       "      <th>mean_b</th>\n",
       "      <th>stddev_r</th>\n",
       "      <th>stddev_g</th>\n",
       "      <th>stddev_b</th>\n",
       "      <th>contrast</th>\n",
       "      <th>correlation</th>\n",
       "      <th>inverse_difference_moments</th>\n",
       "      <th>entropy</th>\n",
       "    </tr>\n",
       "  </thead>\n",
       "  <tbody>\n",
       "    <tr>\n",
       "      <th>0</th>\n",
       "      <td>0</td>\n",
       "      <td>485129.5</td>\n",
       "      <td>3822.131487</td>\n",
       "      <td>1459</td>\n",
       "      <td>905</td>\n",
       "      <td>1.612155</td>\n",
       "      <td>2.721737</td>\n",
       "      <td>30.112968</td>\n",
       "      <td>21.548321</td>\n",
       "      <td>38.921378</td>\n",
       "      <td>10.541783</td>\n",
       "      <td>41.316764</td>\n",
       "      <td>67.891852</td>\n",
       "      <td>26.448052</td>\n",
       "      <td>55.779676</td>\n",
       "      <td>0.992673</td>\n",
       "      <td>0.774745</td>\n",
       "      <td>4.046708</td>\n",
       "    </tr>\n",
       "    <tr>\n",
       "      <th>1</th>\n",
       "      <td>0</td>\n",
       "      <td>489890.0</td>\n",
       "      <td>3809.143686</td>\n",
       "      <td>1422</td>\n",
       "      <td>945</td>\n",
       "      <td>1.504762</td>\n",
       "      <td>2.743044</td>\n",
       "      <td>29.618028</td>\n",
       "      <td>11.758990</td>\n",
       "      <td>50.206020</td>\n",
       "      <td>2.000756</td>\n",
       "      <td>25.948078</td>\n",
       "      <td>84.915973</td>\n",
       "      <td>17.924460</td>\n",
       "      <td>12.757222</td>\n",
       "      <td>0.998075</td>\n",
       "      <td>0.810892</td>\n",
       "      <td>3.549434</td>\n",
       "    </tr>\n",
       "    <tr>\n",
       "      <th>2</th>\n",
       "      <td>0</td>\n",
       "      <td>307903.5</td>\n",
       "      <td>2569.731221</td>\n",
       "      <td>1114</td>\n",
       "      <td>394</td>\n",
       "      <td>2.827411</td>\n",
       "      <td>1.425499</td>\n",
       "      <td>21.446715</td>\n",
       "      <td>10.248443</td>\n",
       "      <td>19.695162</td>\n",
       "      <td>16.331825</td>\n",
       "      <td>45.721887</td>\n",
       "      <td>48.443413</td>\n",
       "      <td>60.486853</td>\n",
       "      <td>8.076081</td>\n",
       "      <td>0.999279</td>\n",
       "      <td>0.860258</td>\n",
       "      <td>2.823292</td>\n",
       "    </tr>\n",
       "    <tr>\n",
       "      <th>3</th>\n",
       "      <td>0</td>\n",
       "      <td>245870.5</td>\n",
       "      <td>2813.824586</td>\n",
       "      <td>1264</td>\n",
       "      <td>327</td>\n",
       "      <td>3.865443</td>\n",
       "      <td>1.681080</td>\n",
       "      <td>32.202354</td>\n",
       "      <td>14.705938</td>\n",
       "      <td>20.883349</td>\n",
       "      <td>13.306845</td>\n",
       "      <td>40.661030</td>\n",
       "      <td>52.649291</td>\n",
       "      <td>38.531062</td>\n",
       "      <td>4.589367</td>\n",
       "      <td>0.999007</td>\n",
       "      <td>0.899268</td>\n",
       "      <td>2.009211</td>\n",
       "    </tr>\n",
       "    <tr>\n",
       "      <th>4</th>\n",
       "      <td>0</td>\n",
       "      <td>69526.5</td>\n",
       "      <td>3704.076776</td>\n",
       "      <td>1448</td>\n",
       "      <td>964</td>\n",
       "      <td>1.502075</td>\n",
       "      <td>20.076834</td>\n",
       "      <td>197.337487</td>\n",
       "      <td>7.405359</td>\n",
       "      <td>9.433330</td>\n",
       "      <td>5.798306</td>\n",
       "      <td>34.457877</td>\n",
       "      <td>43.523617</td>\n",
       "      <td>30.145214</td>\n",
       "      <td>1.927087</td>\n",
       "      <td>0.997009</td>\n",
       "      <td>0.960461</td>\n",
       "      <td>0.865603</td>\n",
       "    </tr>\n",
       "  </tbody>\n",
       "</table>\n",
       "</div>"
      ],
      "text/plain": [
       "   Unnamed: 0      area    perimeter  physiological_length  \\\n",
       "0           0  485129.5  3822.131487                  1459   \n",
       "1           0  489890.0  3809.143686                  1422   \n",
       "2           0  307903.5  2569.731221                  1114   \n",
       "3           0  245870.5  2813.824586                  1264   \n",
       "4           0   69526.5  3704.076776                  1448   \n",
       "\n",
       "   physiological_width  aspect_ratio  rectangularity  circularity     mean_r  \\\n",
       "0                  905      1.612155        2.721737    30.112968  21.548321   \n",
       "1                  945      1.504762        2.743044    29.618028  11.758990   \n",
       "2                  394      2.827411        1.425499    21.446715  10.248443   \n",
       "3                  327      3.865443        1.681080    32.202354  14.705938   \n",
       "4                  964      1.502075       20.076834   197.337487   7.405359   \n",
       "\n",
       "      mean_g     mean_b   stddev_r   stddev_g   stddev_b   contrast  \\\n",
       "0  38.921378  10.541783  41.316764  67.891852  26.448052  55.779676   \n",
       "1  50.206020   2.000756  25.948078  84.915973  17.924460  12.757222   \n",
       "2  19.695162  16.331825  45.721887  48.443413  60.486853   8.076081   \n",
       "3  20.883349  13.306845  40.661030  52.649291  38.531062   4.589367   \n",
       "4   9.433330   5.798306  34.457877  43.523617  30.145214   1.927087   \n",
       "\n",
       "   correlation  inverse_difference_moments   entropy  \n",
       "0     0.992673                    0.774745  4.046708  \n",
       "1     0.998075                    0.810892  3.549434  \n",
       "2     0.999279                    0.860258  2.823292  \n",
       "3     0.999007                    0.899268  2.009211  \n",
       "4     0.997009                    0.960461  0.865603  "
      ]
     },
     "execution_count": 3,
     "metadata": {},
     "output_type": "execute_result"
    }
   ],
   "source": [
    "dataset.head(5)"
   ]
  },
  {
   "cell_type": "code",
   "execution_count": null,
   "metadata": {
    "tags": []
   },
   "outputs": [],
   "source": []
  },
  {
   "cell_type": "code",
   "execution_count": null,
   "metadata": {
    "tags": []
   },
   "outputs": [],
   "source": []
  },
  {
   "cell_type": "markdown",
   "metadata": {},
   "source": [
    "### Creating target labels\n",
    "\n",
    "Breakpoints are used alongside the image file to create a vector of target labels. The breakpoints are specified in Flavia leaves dataset website."
   ]
  },
  {
   "cell_type": "code",
   "execution_count": 4,
   "metadata": {
    "tags": []
   },
   "outputs": [],
   "source": [
    "breakpoints = [1001,1059,1060,1122,1552,1616,1123,1194,1195,1267,1268,1323,1324,1385,1386,1437,1497,1551,1438,1496,2001,2050,2051,2113,2114,2165,2166,2230,2231,2290,2291,2346,2347,2423,2424,2485,2486,2546,2547,2612,2616,2675,3001,3055,3056,3110,3111,3175,3176,3229,3230,3281,3282,3334,3335,3389,3390,3446,3447,3510,3511,3563,3566,3621]"
   ]
  },
  {
   "cell_type": "code",
   "execution_count": 5,
   "metadata": {
    "tags": []
   },
   "outputs": [],
   "source": [
    "target_list = []\n",
    "for file in img_files:\n",
    "    target_num = int(file.split(\".\")[0])\n",
    "    flag = 0\n",
    "    i = 0 \n",
    "    for i in range(0,len(breakpoints),2):\n",
    "        if((target_num >= breakpoints[i]) and (target_num <= breakpoints[i+1])):\n",
    "            flag = 1\n",
    "            break\n",
    "    if(flag==1):\n",
    "        target = int((i/2))\n",
    "        target_list.append(target)"
   ]
  },
  {
   "cell_type": "code",
   "execution_count": 6,
   "metadata": {
    "tags": []
   },
   "outputs": [
    {
     "data": {
      "text/plain": [
       "59"
      ]
     },
     "execution_count": 6,
     "metadata": {},
     "output_type": "execute_result"
    }
   ],
   "source": [
    "y = np.array(target_list)\n",
    "target_list.count(9)"
   ]
  },
  {
   "cell_type": "code",
   "execution_count": 7,
   "metadata": {
    "tags": []
   },
   "outputs": [],
   "source": [
    "X = dataset.iloc[:,1:]"
   ]
  },
  {
   "cell_type": "code",
   "execution_count": 8,
   "metadata": {
    "tags": []
   },
   "outputs": [
    {
     "data": {
      "text/html": [
       "<div>\n",
       "<style scoped>\n",
       "    .dataframe tbody tr th:only-of-type {\n",
       "        vertical-align: middle;\n",
       "    }\n",
       "\n",
       "    .dataframe tbody tr th {\n",
       "        vertical-align: top;\n",
       "    }\n",
       "\n",
       "    .dataframe thead th {\n",
       "        text-align: right;\n",
       "    }\n",
       "</style>\n",
       "<table border=\"1\" class=\"dataframe\">\n",
       "  <thead>\n",
       "    <tr style=\"text-align: right;\">\n",
       "      <th></th>\n",
       "      <th>area</th>\n",
       "      <th>perimeter</th>\n",
       "      <th>physiological_length</th>\n",
       "      <th>physiological_width</th>\n",
       "      <th>aspect_ratio</th>\n",
       "      <th>rectangularity</th>\n",
       "      <th>circularity</th>\n",
       "      <th>mean_r</th>\n",
       "      <th>mean_g</th>\n",
       "      <th>mean_b</th>\n",
       "      <th>stddev_r</th>\n",
       "      <th>stddev_g</th>\n",
       "      <th>stddev_b</th>\n",
       "      <th>contrast</th>\n",
       "      <th>correlation</th>\n",
       "      <th>inverse_difference_moments</th>\n",
       "      <th>entropy</th>\n",
       "    </tr>\n",
       "  </thead>\n",
       "  <tbody>\n",
       "    <tr>\n",
       "      <th>0</th>\n",
       "      <td>485129.5</td>\n",
       "      <td>3822.131487</td>\n",
       "      <td>1459</td>\n",
       "      <td>905</td>\n",
       "      <td>1.612155</td>\n",
       "      <td>2.721737</td>\n",
       "      <td>30.112968</td>\n",
       "      <td>21.548321</td>\n",
       "      <td>38.921378</td>\n",
       "      <td>10.541783</td>\n",
       "      <td>41.316764</td>\n",
       "      <td>67.891852</td>\n",
       "      <td>26.448052</td>\n",
       "      <td>55.779676</td>\n",
       "      <td>0.992673</td>\n",
       "      <td>0.774745</td>\n",
       "      <td>4.046708</td>\n",
       "    </tr>\n",
       "    <tr>\n",
       "      <th>1</th>\n",
       "      <td>489890.0</td>\n",
       "      <td>3809.143686</td>\n",
       "      <td>1422</td>\n",
       "      <td>945</td>\n",
       "      <td>1.504762</td>\n",
       "      <td>2.743044</td>\n",
       "      <td>29.618028</td>\n",
       "      <td>11.758990</td>\n",
       "      <td>50.206020</td>\n",
       "      <td>2.000756</td>\n",
       "      <td>25.948078</td>\n",
       "      <td>84.915973</td>\n",
       "      <td>17.924460</td>\n",
       "      <td>12.757222</td>\n",
       "      <td>0.998075</td>\n",
       "      <td>0.810892</td>\n",
       "      <td>3.549434</td>\n",
       "    </tr>\n",
       "    <tr>\n",
       "      <th>2</th>\n",
       "      <td>307903.5</td>\n",
       "      <td>2569.731221</td>\n",
       "      <td>1114</td>\n",
       "      <td>394</td>\n",
       "      <td>2.827411</td>\n",
       "      <td>1.425499</td>\n",
       "      <td>21.446715</td>\n",
       "      <td>10.248443</td>\n",
       "      <td>19.695162</td>\n",
       "      <td>16.331825</td>\n",
       "      <td>45.721887</td>\n",
       "      <td>48.443413</td>\n",
       "      <td>60.486853</td>\n",
       "      <td>8.076081</td>\n",
       "      <td>0.999279</td>\n",
       "      <td>0.860258</td>\n",
       "      <td>2.823292</td>\n",
       "    </tr>\n",
       "    <tr>\n",
       "      <th>3</th>\n",
       "      <td>245870.5</td>\n",
       "      <td>2813.824586</td>\n",
       "      <td>1264</td>\n",
       "      <td>327</td>\n",
       "      <td>3.865443</td>\n",
       "      <td>1.681080</td>\n",
       "      <td>32.202354</td>\n",
       "      <td>14.705938</td>\n",
       "      <td>20.883349</td>\n",
       "      <td>13.306845</td>\n",
       "      <td>40.661030</td>\n",
       "      <td>52.649291</td>\n",
       "      <td>38.531062</td>\n",
       "      <td>4.589367</td>\n",
       "      <td>0.999007</td>\n",
       "      <td>0.899268</td>\n",
       "      <td>2.009211</td>\n",
       "    </tr>\n",
       "    <tr>\n",
       "      <th>4</th>\n",
       "      <td>69526.5</td>\n",
       "      <td>3704.076776</td>\n",
       "      <td>1448</td>\n",
       "      <td>964</td>\n",
       "      <td>1.502075</td>\n",
       "      <td>20.076834</td>\n",
       "      <td>197.337487</td>\n",
       "      <td>7.405359</td>\n",
       "      <td>9.433330</td>\n",
       "      <td>5.798306</td>\n",
       "      <td>34.457877</td>\n",
       "      <td>43.523617</td>\n",
       "      <td>30.145214</td>\n",
       "      <td>1.927087</td>\n",
       "      <td>0.997009</td>\n",
       "      <td>0.960461</td>\n",
       "      <td>0.865603</td>\n",
       "    </tr>\n",
       "  </tbody>\n",
       "</table>\n",
       "</div>"
      ],
      "text/plain": [
       "       area    perimeter  physiological_length  physiological_width  \\\n",
       "0  485129.5  3822.131487                  1459                  905   \n",
       "1  489890.0  3809.143686                  1422                  945   \n",
       "2  307903.5  2569.731221                  1114                  394   \n",
       "3  245870.5  2813.824586                  1264                  327   \n",
       "4   69526.5  3704.076776                  1448                  964   \n",
       "\n",
       "   aspect_ratio  rectangularity  circularity     mean_r     mean_g     mean_b  \\\n",
       "0      1.612155        2.721737    30.112968  21.548321  38.921378  10.541783   \n",
       "1      1.504762        2.743044    29.618028  11.758990  50.206020   2.000756   \n",
       "2      2.827411        1.425499    21.446715  10.248443  19.695162  16.331825   \n",
       "3      3.865443        1.681080    32.202354  14.705938  20.883349  13.306845   \n",
       "4      1.502075       20.076834   197.337487   7.405359   9.433330   5.798306   \n",
       "\n",
       "    stddev_r   stddev_g   stddev_b   contrast  correlation  \\\n",
       "0  41.316764  67.891852  26.448052  55.779676     0.992673   \n",
       "1  25.948078  84.915973  17.924460  12.757222     0.998075   \n",
       "2  45.721887  48.443413  60.486853   8.076081     0.999279   \n",
       "3  40.661030  52.649291  38.531062   4.589367     0.999007   \n",
       "4  34.457877  43.523617  30.145214   1.927087     0.997009   \n",
       "\n",
       "   inverse_difference_moments   entropy  \n",
       "0                    0.774745  4.046708  \n",
       "1                    0.810892  3.549434  \n",
       "2                    0.860258  2.823292  \n",
       "3                    0.899268  2.009211  \n",
       "4                    0.960461  0.865603  "
      ]
     },
     "execution_count": 8,
     "metadata": {},
     "output_type": "execute_result"
    }
   ],
   "source": [
    "X.head(5)\n",
    "\n"
   ]
  },
  {
   "cell_type": "code",
   "execution_count": 11,
   "metadata": {
    "tags": []
   },
   "outputs": [],
   "source": [
    "X = dataset[['area','perimeter','physiological_length','physiological_width','aspect_ratio','rectangularity','circularity','mean_r','mean_g','mean_b','stddev_r','stddev_g','stddev_b','contrast','correlation','inverse_difference_moments','entropy']]\n",
    "X\n",
    "# y = dataset['target_val'].to_list()\n",
    "y = target_list"
   ]
  },
  {
   "cell_type": "code",
   "execution_count": null,
   "metadata": {
    "tags": []
   },
   "outputs": [],
   "source": []
  },
  {
   "cell_type": "code",
   "execution_count": null,
   "metadata": {
    "tags": []
   },
   "outputs": [],
   "source": []
  },
  {
   "cell_type": "markdown",
   "metadata": {},
   "source": [
    "### "
   ]
  },
  {
   "cell_type": "code",
   "execution_count": null,
   "metadata": {},
   "outputs": [],
   "source": []
  },
  {
   "cell_type": "code",
   "execution_count": null,
   "metadata": {},
   "outputs": [],
   "source": []
  },
  {
   "cell_type": "code",
   "execution_count": null,
   "metadata": {},
   "outputs": [],
   "source": []
  },
  {
   "cell_type": "code",
   "execution_count": 12,
   "metadata": {
    "tags": []
   },
   "outputs": [
    {
     "data": {
      "text/html": [
       "<div>\n",
       "<style scoped>\n",
       "    .dataframe tbody tr th:only-of-type {\n",
       "        vertical-align: middle;\n",
       "    }\n",
       "\n",
       "    .dataframe tbody tr th {\n",
       "        vertical-align: top;\n",
       "    }\n",
       "\n",
       "    .dataframe thead th {\n",
       "        text-align: right;\n",
       "    }\n",
       "</style>\n",
       "<table border=\"1\" class=\"dataframe\">\n",
       "  <thead>\n",
       "    <tr style=\"text-align: right;\">\n",
       "      <th></th>\n",
       "      <th>area</th>\n",
       "      <th>perimeter</th>\n",
       "      <th>physiological_length</th>\n",
       "      <th>physiological_width</th>\n",
       "      <th>aspect_ratio</th>\n",
       "      <th>rectangularity</th>\n",
       "      <th>circularity</th>\n",
       "      <th>mean_r</th>\n",
       "      <th>mean_g</th>\n",
       "      <th>mean_b</th>\n",
       "      <th>stddev_r</th>\n",
       "      <th>stddev_g</th>\n",
       "      <th>stddev_b</th>\n",
       "      <th>contrast</th>\n",
       "      <th>correlation</th>\n",
       "      <th>inverse_difference_moments</th>\n",
       "      <th>entropy</th>\n",
       "    </tr>\n",
       "  </thead>\n",
       "  <tbody>\n",
       "    <tr>\n",
       "      <th>0</th>\n",
       "      <td>485129.5</td>\n",
       "      <td>3822.131487</td>\n",
       "      <td>1459</td>\n",
       "      <td>905</td>\n",
       "      <td>1.612155</td>\n",
       "      <td>2.721737</td>\n",
       "      <td>30.112968</td>\n",
       "      <td>21.548321</td>\n",
       "      <td>38.921378</td>\n",
       "      <td>10.541783</td>\n",
       "      <td>41.316764</td>\n",
       "      <td>67.891852</td>\n",
       "      <td>26.448052</td>\n",
       "      <td>55.779676</td>\n",
       "      <td>0.992673</td>\n",
       "      <td>0.774745</td>\n",
       "      <td>4.046708</td>\n",
       "    </tr>\n",
       "    <tr>\n",
       "      <th>1</th>\n",
       "      <td>489890.0</td>\n",
       "      <td>3809.143686</td>\n",
       "      <td>1422</td>\n",
       "      <td>945</td>\n",
       "      <td>1.504762</td>\n",
       "      <td>2.743044</td>\n",
       "      <td>29.618028</td>\n",
       "      <td>11.758990</td>\n",
       "      <td>50.206020</td>\n",
       "      <td>2.000756</td>\n",
       "      <td>25.948078</td>\n",
       "      <td>84.915973</td>\n",
       "      <td>17.924460</td>\n",
       "      <td>12.757222</td>\n",
       "      <td>0.998075</td>\n",
       "      <td>0.810892</td>\n",
       "      <td>3.549434</td>\n",
       "    </tr>\n",
       "    <tr>\n",
       "      <th>2</th>\n",
       "      <td>307903.5</td>\n",
       "      <td>2569.731221</td>\n",
       "      <td>1114</td>\n",
       "      <td>394</td>\n",
       "      <td>2.827411</td>\n",
       "      <td>1.425499</td>\n",
       "      <td>21.446715</td>\n",
       "      <td>10.248443</td>\n",
       "      <td>19.695162</td>\n",
       "      <td>16.331825</td>\n",
       "      <td>45.721887</td>\n",
       "      <td>48.443413</td>\n",
       "      <td>60.486853</td>\n",
       "      <td>8.076081</td>\n",
       "      <td>0.999279</td>\n",
       "      <td>0.860258</td>\n",
       "      <td>2.823292</td>\n",
       "    </tr>\n",
       "    <tr>\n",
       "      <th>3</th>\n",
       "      <td>245870.5</td>\n",
       "      <td>2813.824586</td>\n",
       "      <td>1264</td>\n",
       "      <td>327</td>\n",
       "      <td>3.865443</td>\n",
       "      <td>1.681080</td>\n",
       "      <td>32.202354</td>\n",
       "      <td>14.705938</td>\n",
       "      <td>20.883349</td>\n",
       "      <td>13.306845</td>\n",
       "      <td>40.661030</td>\n",
       "      <td>52.649291</td>\n",
       "      <td>38.531062</td>\n",
       "      <td>4.589367</td>\n",
       "      <td>0.999007</td>\n",
       "      <td>0.899268</td>\n",
       "      <td>2.009211</td>\n",
       "    </tr>\n",
       "    <tr>\n",
       "      <th>4</th>\n",
       "      <td>69526.5</td>\n",
       "      <td>3704.076776</td>\n",
       "      <td>1448</td>\n",
       "      <td>964</td>\n",
       "      <td>1.502075</td>\n",
       "      <td>20.076834</td>\n",
       "      <td>197.337487</td>\n",
       "      <td>7.405359</td>\n",
       "      <td>9.433330</td>\n",
       "      <td>5.798306</td>\n",
       "      <td>34.457877</td>\n",
       "      <td>43.523617</td>\n",
       "      <td>30.145214</td>\n",
       "      <td>1.927087</td>\n",
       "      <td>0.997009</td>\n",
       "      <td>0.960461</td>\n",
       "      <td>0.865603</td>\n",
       "    </tr>\n",
       "    <tr>\n",
       "      <th>...</th>\n",
       "      <td>...</td>\n",
       "      <td>...</td>\n",
       "      <td>...</td>\n",
       "      <td>...</td>\n",
       "      <td>...</td>\n",
       "      <td>...</td>\n",
       "      <td>...</td>\n",
       "      <td>...</td>\n",
       "      <td>...</td>\n",
       "      <td>...</td>\n",
       "      <td>...</td>\n",
       "      <td>...</td>\n",
       "      <td>...</td>\n",
       "      <td>...</td>\n",
       "      <td>...</td>\n",
       "      <td>...</td>\n",
       "      <td>...</td>\n",
       "    </tr>\n",
       "    <tr>\n",
       "      <th>1902</th>\n",
       "      <td>461140.0</td>\n",
       "      <td>6378.520442</td>\n",
       "      <td>1274</td>\n",
       "      <td>1101</td>\n",
       "      <td>1.157130</td>\n",
       "      <td>3.041753</td>\n",
       "      <td>88.228137</td>\n",
       "      <td>23.783565</td>\n",
       "      <td>36.293105</td>\n",
       "      <td>21.694625</td>\n",
       "      <td>45.075537</td>\n",
       "      <td>64.668263</td>\n",
       "      <td>41.827096</td>\n",
       "      <td>28.238168</td>\n",
       "      <td>0.995964</td>\n",
       "      <td>0.795875</td>\n",
       "      <td>3.599582</td>\n",
       "    </tr>\n",
       "    <tr>\n",
       "      <th>1903</th>\n",
       "      <td>637829.5</td>\n",
       "      <td>4121.739572</td>\n",
       "      <td>1191</td>\n",
       "      <td>1055</td>\n",
       "      <td>1.128910</td>\n",
       "      <td>1.969970</td>\n",
       "      <td>26.635233</td>\n",
       "      <td>28.881916</td>\n",
       "      <td>46.498822</td>\n",
       "      <td>23.016589</td>\n",
       "      <td>44.130072</td>\n",
       "      <td>65.783191</td>\n",
       "      <td>37.395361</td>\n",
       "      <td>26.604019</td>\n",
       "      <td>0.997254</td>\n",
       "      <td>0.716242</td>\n",
       "      <td>4.674605</td>\n",
       "    </tr>\n",
       "    <tr>\n",
       "      <th>1904</th>\n",
       "      <td>371950.5</td>\n",
       "      <td>3847.376212</td>\n",
       "      <td>1460</td>\n",
       "      <td>967</td>\n",
       "      <td>1.509824</td>\n",
       "      <td>3.795720</td>\n",
       "      <td>39.796435</td>\n",
       "      <td>18.641599</td>\n",
       "      <td>34.809681</td>\n",
       "      <td>9.775415</td>\n",
       "      <td>40.488711</td>\n",
       "      <td>69.770100</td>\n",
       "      <td>26.659364</td>\n",
       "      <td>21.478996</td>\n",
       "      <td>0.995827</td>\n",
       "      <td>0.825369</td>\n",
       "      <td>3.049712</td>\n",
       "    </tr>\n",
       "    <tr>\n",
       "      <th>1905</th>\n",
       "      <td>764912.5</td>\n",
       "      <td>4271.960790</td>\n",
       "      <td>1141</td>\n",
       "      <td>1014</td>\n",
       "      <td>1.125247</td>\n",
       "      <td>1.512557</td>\n",
       "      <td>23.858479</td>\n",
       "      <td>34.912162</td>\n",
       "      <td>54.138055</td>\n",
       "      <td>26.549748</td>\n",
       "      <td>45.961112</td>\n",
       "      <td>66.759222</td>\n",
       "      <td>37.250674</td>\n",
       "      <td>23.082022</td>\n",
       "      <td>0.997802</td>\n",
       "      <td>0.678819</td>\n",
       "      <td>5.431301</td>\n",
       "    </tr>\n",
       "    <tr>\n",
       "      <th>1906</th>\n",
       "      <td>819971.0</td>\n",
       "      <td>4030.075579</td>\n",
       "      <td>1446</td>\n",
       "      <td>932</td>\n",
       "      <td>1.551502</td>\n",
       "      <td>1.643561</td>\n",
       "      <td>19.807419</td>\n",
       "      <td>171.984938</td>\n",
       "      <td>198.824353</td>\n",
       "      <td>160.593156</td>\n",
       "      <td>95.747323</td>\n",
       "      <td>64.531587</td>\n",
       "      <td>106.615784</td>\n",
       "      <td>66.625043</td>\n",
       "      <td>0.994589</td>\n",
       "      <td>0.607550</td>\n",
       "      <td>6.629738</td>\n",
       "    </tr>\n",
       "  </tbody>\n",
       "</table>\n",
       "<p>1907 rows × 17 columns</p>\n",
       "</div>"
      ],
      "text/plain": [
       "          area    perimeter  physiological_length  physiological_width  \\\n",
       "0     485129.5  3822.131487                  1459                  905   \n",
       "1     489890.0  3809.143686                  1422                  945   \n",
       "2     307903.5  2569.731221                  1114                  394   \n",
       "3     245870.5  2813.824586                  1264                  327   \n",
       "4      69526.5  3704.076776                  1448                  964   \n",
       "...        ...          ...                   ...                  ...   \n",
       "1902  461140.0  6378.520442                  1274                 1101   \n",
       "1903  637829.5  4121.739572                  1191                 1055   \n",
       "1904  371950.5  3847.376212                  1460                  967   \n",
       "1905  764912.5  4271.960790                  1141                 1014   \n",
       "1906  819971.0  4030.075579                  1446                  932   \n",
       "\n",
       "      aspect_ratio  rectangularity  circularity      mean_r      mean_g  \\\n",
       "0         1.612155        2.721737    30.112968   21.548321   38.921378   \n",
       "1         1.504762        2.743044    29.618028   11.758990   50.206020   \n",
       "2         2.827411        1.425499    21.446715   10.248443   19.695162   \n",
       "3         3.865443        1.681080    32.202354   14.705938   20.883349   \n",
       "4         1.502075       20.076834   197.337487    7.405359    9.433330   \n",
       "...            ...             ...          ...         ...         ...   \n",
       "1902      1.157130        3.041753    88.228137   23.783565   36.293105   \n",
       "1903      1.128910        1.969970    26.635233   28.881916   46.498822   \n",
       "1904      1.509824        3.795720    39.796435   18.641599   34.809681   \n",
       "1905      1.125247        1.512557    23.858479   34.912162   54.138055   \n",
       "1906      1.551502        1.643561    19.807419  171.984938  198.824353   \n",
       "\n",
       "          mean_b   stddev_r   stddev_g    stddev_b   contrast  correlation  \\\n",
       "0      10.541783  41.316764  67.891852   26.448052  55.779676     0.992673   \n",
       "1       2.000756  25.948078  84.915973   17.924460  12.757222     0.998075   \n",
       "2      16.331825  45.721887  48.443413   60.486853   8.076081     0.999279   \n",
       "3      13.306845  40.661030  52.649291   38.531062   4.589367     0.999007   \n",
       "4       5.798306  34.457877  43.523617   30.145214   1.927087     0.997009   \n",
       "...          ...        ...        ...         ...        ...          ...   \n",
       "1902   21.694625  45.075537  64.668263   41.827096  28.238168     0.995964   \n",
       "1903   23.016589  44.130072  65.783191   37.395361  26.604019     0.997254   \n",
       "1904    9.775415  40.488711  69.770100   26.659364  21.478996     0.995827   \n",
       "1905   26.549748  45.961112  66.759222   37.250674  23.082022     0.997802   \n",
       "1906  160.593156  95.747323  64.531587  106.615784  66.625043     0.994589   \n",
       "\n",
       "      inverse_difference_moments   entropy  \n",
       "0                       0.774745  4.046708  \n",
       "1                       0.810892  3.549434  \n",
       "2                       0.860258  2.823292  \n",
       "3                       0.899268  2.009211  \n",
       "4                       0.960461  0.865603  \n",
       "...                          ...       ...  \n",
       "1902                    0.795875  3.599582  \n",
       "1903                    0.716242  4.674605  \n",
       "1904                    0.825369  3.049712  \n",
       "1905                    0.678819  5.431301  \n",
       "1906                    0.607550  6.629738  \n",
       "\n",
       "[1907 rows x 17 columns]"
      ]
     },
     "execution_count": 12,
     "metadata": {},
     "output_type": "execute_result"
    }
   ],
   "source": [
    "X"
   ]
  },
  {
   "cell_type": "code",
   "execution_count": null,
   "metadata": {},
   "outputs": [],
   "source": []
  },
  {
   "cell_type": "code",
   "execution_count": null,
   "metadata": {},
   "outputs": [],
   "source": []
  },
  {
   "cell_type": "code",
   "execution_count": 13,
   "metadata": {
    "tags": []
   },
   "outputs": [
    {
     "data": {
      "text/plain": [
       "[0, 0, 0, 0, 0]"
      ]
     },
     "execution_count": 13,
     "metadata": {},
     "output_type": "execute_result"
    }
   ],
   "source": []
  },
  {
   "cell_type": "markdown",
   "metadata": {},
   "source": [
    "### Train test split"
   ]
  },
  {
   "cell_type": "code",
   "execution_count": 63,
   "metadata": {
    "tags": []
   },
   "outputs": [],
   "source": [
    "from sklearn.model_selection import train_test_split"
   ]
  },
  {
   "cell_type": "code",
   "execution_count": 64,
   "metadata": {
    "tags": []
   },
   "outputs": [],
   "source": [
    "X_train, X_test, y_train, y_test = train_test_split(X, y, test_size=0.3, random_state = 142)"
   ]
  },
  {
   "cell_type": "code",
   "execution_count": 65,
   "metadata": {
    "tags": []
   },
   "outputs": [
    {
     "data": {
      "text/html": [
       "<div>\n",
       "<style scoped>\n",
       "    .dataframe tbody tr th:only-of-type {\n",
       "        vertical-align: middle;\n",
       "    }\n",
       "\n",
       "    .dataframe tbody tr th {\n",
       "        vertical-align: top;\n",
       "    }\n",
       "\n",
       "    .dataframe thead th {\n",
       "        text-align: right;\n",
       "    }\n",
       "</style>\n",
       "<table border=\"1\" class=\"dataframe\">\n",
       "  <thead>\n",
       "    <tr style=\"text-align: right;\">\n",
       "      <th></th>\n",
       "      <th>area</th>\n",
       "      <th>perimeter</th>\n",
       "      <th>physiological_length</th>\n",
       "      <th>physiological_width</th>\n",
       "      <th>aspect_ratio</th>\n",
       "      <th>rectangularity</th>\n",
       "      <th>circularity</th>\n",
       "      <th>mean_r</th>\n",
       "      <th>mean_g</th>\n",
       "      <th>mean_b</th>\n",
       "      <th>stddev_r</th>\n",
       "      <th>stddev_g</th>\n",
       "      <th>stddev_b</th>\n",
       "      <th>contrast</th>\n",
       "      <th>correlation</th>\n",
       "      <th>inverse_difference_moments</th>\n",
       "      <th>entropy</th>\n",
       "    </tr>\n",
       "  </thead>\n",
       "  <tbody>\n",
       "    <tr>\n",
       "      <th>16624</th>\n",
       "      <td>30990.0</td>\n",
       "      <td>744.960459</td>\n",
       "      <td>224</td>\n",
       "      <td>195</td>\n",
       "      <td>1.148718</td>\n",
       "      <td>1.409487</td>\n",
       "      <td>17.907909</td>\n",
       "      <td>72.228157</td>\n",
       "      <td>98.503966</td>\n",
       "      <td>83.345444</td>\n",
       "      <td>80.954492</td>\n",
       "      <td>67.943096</td>\n",
       "      <td>74.479993</td>\n",
       "      <td>52.633662</td>\n",
       "      <td>0.994979</td>\n",
       "      <td>0.419160</td>\n",
       "      <td>9.461925</td>\n",
       "    </tr>\n",
       "    <tr>\n",
       "      <th>12218</th>\n",
       "      <td>22140.0</td>\n",
       "      <td>842.592927</td>\n",
       "      <td>224</td>\n",
       "      <td>224</td>\n",
       "      <td>1.000000</td>\n",
       "      <td>2.266305</td>\n",
       "      <td>32.066976</td>\n",
       "      <td>161.817841</td>\n",
       "      <td>162.396345</td>\n",
       "      <td>171.824677</td>\n",
       "      <td>97.702268</td>\n",
       "      <td>91.892747</td>\n",
       "      <td>91.322192</td>\n",
       "      <td>183.997490</td>\n",
       "      <td>0.987628</td>\n",
       "      <td>0.496398</td>\n",
       "      <td>9.201823</td>\n",
       "    </tr>\n",
       "    <tr>\n",
       "      <th>16074</th>\n",
       "      <td>3892.0</td>\n",
       "      <td>391.730010</td>\n",
       "      <td>145</td>\n",
       "      <td>105</td>\n",
       "      <td>1.380952</td>\n",
       "      <td>3.911871</td>\n",
       "      <td>39.427647</td>\n",
       "      <td>106.912588</td>\n",
       "      <td>111.113939</td>\n",
       "      <td>99.777204</td>\n",
       "      <td>25.027663</td>\n",
       "      <td>20.004611</td>\n",
       "      <td>18.954565</td>\n",
       "      <td>7.118415</td>\n",
       "      <td>0.992252</td>\n",
       "      <td>0.545871</td>\n",
       "      <td>7.045677</td>\n",
       "    </tr>\n",
       "    <tr>\n",
       "      <th>22440</th>\n",
       "      <td>17132.5</td>\n",
       "      <td>685.865005</td>\n",
       "      <td>184</td>\n",
       "      <td>175</td>\n",
       "      <td>1.051429</td>\n",
       "      <td>1.879469</td>\n",
       "      <td>27.457219</td>\n",
       "      <td>160.655154</td>\n",
       "      <td>175.509467</td>\n",
       "      <td>167.645408</td>\n",
       "      <td>61.979414</td>\n",
       "      <td>44.256657</td>\n",
       "      <td>44.157761</td>\n",
       "      <td>61.156079</td>\n",
       "      <td>0.987557</td>\n",
       "      <td>0.674050</td>\n",
       "      <td>7.034068</td>\n",
       "    </tr>\n",
       "    <tr>\n",
       "      <th>19859</th>\n",
       "      <td>4124.0</td>\n",
       "      <td>468.735062</td>\n",
       "      <td>91</td>\n",
       "      <td>177</td>\n",
       "      <td>0.514124</td>\n",
       "      <td>3.905674</td>\n",
       "      <td>53.276566</td>\n",
       "      <td>9.857302</td>\n",
       "      <td>9.940450</td>\n",
       "      <td>9.456354</td>\n",
       "      <td>46.898880</td>\n",
       "      <td>47.095626</td>\n",
       "      <td>45.881841</td>\n",
       "      <td>189.229567</td>\n",
       "      <td>0.619262</td>\n",
       "      <td>0.953958</td>\n",
       "      <td>0.806179</td>\n",
       "    </tr>\n",
       "  </tbody>\n",
       "</table>\n",
       "</div>"
      ],
      "text/plain": [
       "          area   perimeter  physiological_length  physiological_width  \\\n",
       "16624  30990.0  744.960459                   224                  195   \n",
       "12218  22140.0  842.592927                   224                  224   \n",
       "16074   3892.0  391.730010                   145                  105   \n",
       "22440  17132.5  685.865005                   184                  175   \n",
       "19859   4124.0  468.735062                    91                  177   \n",
       "\n",
       "       aspect_ratio  rectangularity  circularity      mean_r      mean_g  \\\n",
       "16624      1.148718        1.409487    17.907909   72.228157   98.503966   \n",
       "12218      1.000000        2.266305    32.066976  161.817841  162.396345   \n",
       "16074      1.380952        3.911871    39.427647  106.912588  111.113939   \n",
       "22440      1.051429        1.879469    27.457219  160.655154  175.509467   \n",
       "19859      0.514124        3.905674    53.276566    9.857302    9.940450   \n",
       "\n",
       "           mean_b   stddev_r   stddev_g   stddev_b    contrast  correlation  \\\n",
       "16624   83.345444  80.954492  67.943096  74.479993   52.633662     0.994979   \n",
       "12218  171.824677  97.702268  91.892747  91.322192  183.997490     0.987628   \n",
       "16074   99.777204  25.027663  20.004611  18.954565    7.118415     0.992252   \n",
       "22440  167.645408  61.979414  44.256657  44.157761   61.156079     0.987557   \n",
       "19859    9.456354  46.898880  47.095626  45.881841  189.229567     0.619262   \n",
       "\n",
       "       inverse_difference_moments   entropy  \n",
       "16624                    0.419160  9.461925  \n",
       "12218                    0.496398  9.201823  \n",
       "16074                    0.545871  7.045677  \n",
       "22440                    0.674050  7.034068  \n",
       "19859                    0.953958  0.806179  "
      ]
     },
     "execution_count": 65,
     "metadata": {},
     "output_type": "execute_result"
    }
   ],
   "source": [
    "X_train.head(5)"
   ]
  },
  {
   "cell_type": "code",
   "execution_count": 66,
   "metadata": {
    "tags": []
   },
   "outputs": [
    {
     "data": {
      "text/plain": [
       "[38, 61, 34, 13, 77]"
      ]
     },
     "execution_count": 66,
     "metadata": {},
     "output_type": "execute_result"
    }
   ],
   "source": [
    "y_train[0:5]"
   ]
  },
  {
   "cell_type": "markdown",
   "metadata": {},
   "source": [
    "### Feature Scaling"
   ]
  },
  {
   "cell_type": "code",
   "execution_count": 67,
   "metadata": {
    "tags": []
   },
   "outputs": [],
   "source": [
    "from sklearn.preprocessing import StandardScaler"
   ]
  },
  {
   "cell_type": "code",
   "execution_count": 68,
   "metadata": {
    "tags": []
   },
   "outputs": [],
   "source": [
    "sc_X = StandardScaler()\n",
    "X_train = sc_X.fit_transform(X_train)\n",
    "X_test = sc_X.transform(X_test)"
   ]
  },
  {
   "cell_type": "code",
   "execution_count": 69,
   "metadata": {
    "tags": []
   },
   "outputs": [
    {
     "data": {
      "text/plain": [
       "array([[ 1.56532907,  0.88915512,  1.22353567,  0.76233094,  0.22338492,\n",
       "        -0.53413351, -0.58189854, -0.81821785, -0.56979099, -0.70149364,\n",
       "         0.84978827,  0.85627972,  1.07597432, -0.23057264,  0.41229881,\n",
       "        -1.33119308,  1.1102157 ],\n",
       "       [ 0.70969693,  1.29845925,  1.22353567,  1.24436992, -0.01688861,\n",
       "         0.81536665,  0.63405673,  0.48427357,  0.34228285,  0.57254869,\n",
       "         1.55504805,  2.02646161,  1.86523312,  0.0778203 ,  0.304584  ,\n",
       "        -0.91188689,  1.01824712]])"
      ]
     },
     "execution_count": 69,
     "metadata": {},
     "output_type": "execute_result"
    }
   ],
   "source": [
    "X_train[0:2]"
   ]
  },
  {
   "cell_type": "code",
   "execution_count": 70,
   "metadata": {
    "tags": []
   },
   "outputs": [
    {
     "data": {
      "text/plain": [
       "[38, 61]"
      ]
     },
     "execution_count": 70,
     "metadata": {},
     "output_type": "execute_result"
    }
   ],
   "source": [
    "y_train[0:2]"
   ]
  },
  {
   "cell_type": "markdown",
   "metadata": {},
   "source": [
    "### Applying SVM classifier model"
   ]
  },
  {
   "cell_type": "code",
   "execution_count": 71,
   "metadata": {
    "tags": []
   },
   "outputs": [],
   "source": [
    "from sklearn import svm"
   ]
  },
  {
   "cell_type": "code",
   "execution_count": 72,
   "metadata": {
    "tags": []
   },
   "outputs": [
    {
     "data": {
      "text/html": [
       "<style>#sk-container-id-3 {color: black;}#sk-container-id-3 pre{padding: 0;}#sk-container-id-3 div.sk-toggleable {background-color: white;}#sk-container-id-3 label.sk-toggleable__label {cursor: pointer;display: block;width: 100%;margin-bottom: 0;padding: 0.3em;box-sizing: border-box;text-align: center;}#sk-container-id-3 label.sk-toggleable__label-arrow:before {content: \"▸\";float: left;margin-right: 0.25em;color: #696969;}#sk-container-id-3 label.sk-toggleable__label-arrow:hover:before {color: black;}#sk-container-id-3 div.sk-estimator:hover label.sk-toggleable__label-arrow:before {color: black;}#sk-container-id-3 div.sk-toggleable__content {max-height: 0;max-width: 0;overflow: hidden;text-align: left;background-color: #f0f8ff;}#sk-container-id-3 div.sk-toggleable__content pre {margin: 0.2em;color: black;border-radius: 0.25em;background-color: #f0f8ff;}#sk-container-id-3 input.sk-toggleable__control:checked~div.sk-toggleable__content {max-height: 200px;max-width: 100%;overflow: auto;}#sk-container-id-3 input.sk-toggleable__control:checked~label.sk-toggleable__label-arrow:before {content: \"▾\";}#sk-container-id-3 div.sk-estimator input.sk-toggleable__control:checked~label.sk-toggleable__label {background-color: #d4ebff;}#sk-container-id-3 div.sk-label input.sk-toggleable__control:checked~label.sk-toggleable__label {background-color: #d4ebff;}#sk-container-id-3 input.sk-hidden--visually {border: 0;clip: rect(1px 1px 1px 1px);clip: rect(1px, 1px, 1px, 1px);height: 1px;margin: -1px;overflow: hidden;padding: 0;position: absolute;width: 1px;}#sk-container-id-3 div.sk-estimator {font-family: monospace;background-color: #f0f8ff;border: 1px dotted black;border-radius: 0.25em;box-sizing: border-box;margin-bottom: 0.5em;}#sk-container-id-3 div.sk-estimator:hover {background-color: #d4ebff;}#sk-container-id-3 div.sk-parallel-item::after {content: \"\";width: 100%;border-bottom: 1px solid gray;flex-grow: 1;}#sk-container-id-3 div.sk-label:hover label.sk-toggleable__label {background-color: #d4ebff;}#sk-container-id-3 div.sk-serial::before {content: \"\";position: absolute;border-left: 1px solid gray;box-sizing: border-box;top: 0;bottom: 0;left: 50%;z-index: 0;}#sk-container-id-3 div.sk-serial {display: flex;flex-direction: column;align-items: center;background-color: white;padding-right: 0.2em;padding-left: 0.2em;position: relative;}#sk-container-id-3 div.sk-item {position: relative;z-index: 1;}#sk-container-id-3 div.sk-parallel {display: flex;align-items: stretch;justify-content: center;background-color: white;position: relative;}#sk-container-id-3 div.sk-item::before, #sk-container-id-3 div.sk-parallel-item::before {content: \"\";position: absolute;border-left: 1px solid gray;box-sizing: border-box;top: 0;bottom: 0;left: 50%;z-index: -1;}#sk-container-id-3 div.sk-parallel-item {display: flex;flex-direction: column;z-index: 1;position: relative;background-color: white;}#sk-container-id-3 div.sk-parallel-item:first-child::after {align-self: flex-end;width: 50%;}#sk-container-id-3 div.sk-parallel-item:last-child::after {align-self: flex-start;width: 50%;}#sk-container-id-3 div.sk-parallel-item:only-child::after {width: 0;}#sk-container-id-3 div.sk-dashed-wrapped {border: 1px dashed gray;margin: 0 0.4em 0.5em 0.4em;box-sizing: border-box;padding-bottom: 0.4em;background-color: white;}#sk-container-id-3 div.sk-label label {font-family: monospace;font-weight: bold;display: inline-block;line-height: 1.2em;}#sk-container-id-3 div.sk-label-container {text-align: center;}#sk-container-id-3 div.sk-container {/* jupyter's `normalize.less` sets `[hidden] { display: none; }` but bootstrap.min.css set `[hidden] { display: none !important; }` so we also need the `!important` here to be able to override the default hidden behavior on the sphinx rendered scikit-learn.org. See: https://github.com/scikit-learn/scikit-learn/issues/21755 */display: inline-block !important;position: relative;}#sk-container-id-3 div.sk-text-repr-fallback {display: none;}</style><div id=\"sk-container-id-3\" class=\"sk-top-container\"><div class=\"sk-text-repr-fallback\"><pre>SVC()</pre><b>In a Jupyter environment, please rerun this cell to show the HTML representation or trust the notebook. <br />On GitHub, the HTML representation is unable to render, please try loading this page with nbviewer.org.</b></div><div class=\"sk-container\" hidden><div class=\"sk-item\"><div class=\"sk-estimator sk-toggleable\"><input class=\"sk-toggleable__control sk-hidden--visually\" id=\"sk-estimator-id-5\" type=\"checkbox\" checked><label for=\"sk-estimator-id-5\" class=\"sk-toggleable__label sk-toggleable__label-arrow\">SVC</label><div class=\"sk-toggleable__content\"><pre>SVC()</pre></div></div></div></div></div>"
      ],
      "text/plain": [
       "SVC()"
      ]
     },
     "execution_count": 72,
     "metadata": {},
     "output_type": "execute_result"
    }
   ],
   "source": [
    "clf = svm.SVC()\n",
    "clf.fit(X_train,y_train)"
   ]
  },
  {
   "cell_type": "code",
   "execution_count": 73,
   "metadata": {
    "tags": []
   },
   "outputs": [],
   "source": [
    "y_pred = clf.predict(X_test)"
   ]
  },
  {
   "cell_type": "code",
   "execution_count": 74,
   "metadata": {
    "tags": []
   },
   "outputs": [],
   "source": [
    "from sklearn import metrics"
   ]
  },
  {
   "cell_type": "code",
   "execution_count": 75,
   "metadata": {
    "tags": []
   },
   "outputs": [
    {
     "data": {
      "text/plain": [
       "0.49581939799331104"
      ]
     },
     "execution_count": 75,
     "metadata": {},
     "output_type": "execute_result"
    }
   ],
   "source": [
    "metrics.accuracy_score(y_test, y_pred)"
   ]
  },
  {
   "cell_type": "code",
   "execution_count": 76,
   "metadata": {
    "tags": []
   },
   "outputs": [
    {
     "name": "stdout",
     "output_type": "stream",
     "text": [
      "              precision    recall  f1-score   support\n",
      "\n",
      "           0       0.57      0.77      0.66        74\n",
      "           1       0.85      0.94      0.89        31\n",
      "           3       0.97      0.87      0.92        39\n",
      "          10       0.15      0.18      0.16        34\n",
      "          12       0.82      0.24      0.38        37\n",
      "          13       0.51      0.70      0.59        40\n",
      "          20       0.00      0.00      0.00        14\n",
      "          30       0.32      0.88      0.47        77\n",
      "          31       1.00      0.04      0.08        25\n",
      "          34       0.93      1.00      0.97        14\n",
      "          36       0.73      0.63      0.68        35\n",
      "          38       0.49      0.33      0.40        51\n",
      "          42       0.54      0.17      0.25        42\n",
      "          46       0.24      0.11      0.15        44\n",
      "          52       0.17      0.03      0.05        37\n",
      "          53       0.24      0.55      0.34        74\n",
      "          55       0.52      0.39      0.44        36\n",
      "          61       0.78      0.67      0.72        48\n",
      "          62       0.46      0.64      0.54        39\n",
      "          65       0.53      0.27      0.36        30\n",
      "          69       0.85      0.76      0.81        38\n",
      "          70       0.34      0.40      0.37        35\n",
      "          73       0.33      0.03      0.06        30\n",
      "          75       0.60      0.55      0.58        38\n",
      "          77       0.91      0.89      0.90        35\n",
      "          79       0.63      0.28      0.39        43\n",
      "          81       0.61      0.54      0.57        52\n",
      "          83       0.00      0.00      0.00        47\n",
      "          93       0.62      0.65      0.63        51\n",
      "          99       0.75      1.00      0.86         6\n",
      "\n",
      "    accuracy                           0.50      1196\n",
      "   macro avg       0.55      0.48      0.47      1196\n",
      "weighted avg       0.52      0.50      0.47      1196\n",
      "\n"
     ]
    }
   ],
   "source": [
    "print(metrics.classification_report(y_test, y_pred))"
   ]
  },
  {
   "cell_type": "markdown",
   "metadata": {},
   "source": [
    "### Performing parameter tuning of the model"
   ]
  },
  {
   "cell_type": "code",
   "execution_count": 77,
   "metadata": {
    "tags": []
   },
   "outputs": [],
   "source": [
    "from sklearn.model_selection import GridSearchCV"
   ]
  },
  {
   "cell_type": "code",
   "execution_count": 78,
   "metadata": {
    "tags": []
   },
   "outputs": [],
   "source": [
    "parameters = [{'kernel': ['rbf'],\n",
    "               'gamma': [1e-4, 1e-3, 0.01, 0.1, 0.2, 0.5],\n",
    "               'C': [1, 10, 100, 1000]},\n",
    "              {'kernel': ['linear'], 'C': [1, 10, 100, 1000]}\n",
    "             ]"
   ]
  },
  {
   "cell_type": "code",
   "execution_count": 79,
   "metadata": {
    "tags": []
   },
   "outputs": [
    {
     "data": {
      "text/html": [
       "<style>#sk-container-id-4 {color: black;}#sk-container-id-4 pre{padding: 0;}#sk-container-id-4 div.sk-toggleable {background-color: white;}#sk-container-id-4 label.sk-toggleable__label {cursor: pointer;display: block;width: 100%;margin-bottom: 0;padding: 0.3em;box-sizing: border-box;text-align: center;}#sk-container-id-4 label.sk-toggleable__label-arrow:before {content: \"▸\";float: left;margin-right: 0.25em;color: #696969;}#sk-container-id-4 label.sk-toggleable__label-arrow:hover:before {color: black;}#sk-container-id-4 div.sk-estimator:hover label.sk-toggleable__label-arrow:before {color: black;}#sk-container-id-4 div.sk-toggleable__content {max-height: 0;max-width: 0;overflow: hidden;text-align: left;background-color: #f0f8ff;}#sk-container-id-4 div.sk-toggleable__content pre {margin: 0.2em;color: black;border-radius: 0.25em;background-color: #f0f8ff;}#sk-container-id-4 input.sk-toggleable__control:checked~div.sk-toggleable__content {max-height: 200px;max-width: 100%;overflow: auto;}#sk-container-id-4 input.sk-toggleable__control:checked~label.sk-toggleable__label-arrow:before {content: \"▾\";}#sk-container-id-4 div.sk-estimator input.sk-toggleable__control:checked~label.sk-toggleable__label {background-color: #d4ebff;}#sk-container-id-4 div.sk-label input.sk-toggleable__control:checked~label.sk-toggleable__label {background-color: #d4ebff;}#sk-container-id-4 input.sk-hidden--visually {border: 0;clip: rect(1px 1px 1px 1px);clip: rect(1px, 1px, 1px, 1px);height: 1px;margin: -1px;overflow: hidden;padding: 0;position: absolute;width: 1px;}#sk-container-id-4 div.sk-estimator {font-family: monospace;background-color: #f0f8ff;border: 1px dotted black;border-radius: 0.25em;box-sizing: border-box;margin-bottom: 0.5em;}#sk-container-id-4 div.sk-estimator:hover {background-color: #d4ebff;}#sk-container-id-4 div.sk-parallel-item::after {content: \"\";width: 100%;border-bottom: 1px solid gray;flex-grow: 1;}#sk-container-id-4 div.sk-label:hover label.sk-toggleable__label {background-color: #d4ebff;}#sk-container-id-4 div.sk-serial::before {content: \"\";position: absolute;border-left: 1px solid gray;box-sizing: border-box;top: 0;bottom: 0;left: 50%;z-index: 0;}#sk-container-id-4 div.sk-serial {display: flex;flex-direction: column;align-items: center;background-color: white;padding-right: 0.2em;padding-left: 0.2em;position: relative;}#sk-container-id-4 div.sk-item {position: relative;z-index: 1;}#sk-container-id-4 div.sk-parallel {display: flex;align-items: stretch;justify-content: center;background-color: white;position: relative;}#sk-container-id-4 div.sk-item::before, #sk-container-id-4 div.sk-parallel-item::before {content: \"\";position: absolute;border-left: 1px solid gray;box-sizing: border-box;top: 0;bottom: 0;left: 50%;z-index: -1;}#sk-container-id-4 div.sk-parallel-item {display: flex;flex-direction: column;z-index: 1;position: relative;background-color: white;}#sk-container-id-4 div.sk-parallel-item:first-child::after {align-self: flex-end;width: 50%;}#sk-container-id-4 div.sk-parallel-item:last-child::after {align-self: flex-start;width: 50%;}#sk-container-id-4 div.sk-parallel-item:only-child::after {width: 0;}#sk-container-id-4 div.sk-dashed-wrapped {border: 1px dashed gray;margin: 0 0.4em 0.5em 0.4em;box-sizing: border-box;padding-bottom: 0.4em;background-color: white;}#sk-container-id-4 div.sk-label label {font-family: monospace;font-weight: bold;display: inline-block;line-height: 1.2em;}#sk-container-id-4 div.sk-label-container {text-align: center;}#sk-container-id-4 div.sk-container {/* jupyter's `normalize.less` sets `[hidden] { display: none; }` but bootstrap.min.css set `[hidden] { display: none !important; }` so we also need the `!important` here to be able to override the default hidden behavior on the sphinx rendered scikit-learn.org. See: https://github.com/scikit-learn/scikit-learn/issues/21755 */display: inline-block !important;position: relative;}#sk-container-id-4 div.sk-text-repr-fallback {display: none;}</style><div id=\"sk-container-id-4\" class=\"sk-top-container\"><div class=\"sk-text-repr-fallback\"><pre>GridSearchCV(cv=5, estimator=SVC(),\n",
       "             param_grid=[{&#x27;C&#x27;: [1, 10, 100, 1000],\n",
       "                          &#x27;gamma&#x27;: [0.0001, 0.001, 0.01, 0.1, 0.2, 0.5],\n",
       "                          &#x27;kernel&#x27;: [&#x27;rbf&#x27;]},\n",
       "                         {&#x27;C&#x27;: [1, 10, 100, 1000], &#x27;kernel&#x27;: [&#x27;linear&#x27;]}])</pre><b>In a Jupyter environment, please rerun this cell to show the HTML representation or trust the notebook. <br />On GitHub, the HTML representation is unable to render, please try loading this page with nbviewer.org.</b></div><div class=\"sk-container\" hidden><div class=\"sk-item sk-dashed-wrapped\"><div class=\"sk-label-container\"><div class=\"sk-label sk-toggleable\"><input class=\"sk-toggleable__control sk-hidden--visually\" id=\"sk-estimator-id-6\" type=\"checkbox\" ><label for=\"sk-estimator-id-6\" class=\"sk-toggleable__label sk-toggleable__label-arrow\">GridSearchCV</label><div class=\"sk-toggleable__content\"><pre>GridSearchCV(cv=5, estimator=SVC(),\n",
       "             param_grid=[{&#x27;C&#x27;: [1, 10, 100, 1000],\n",
       "                          &#x27;gamma&#x27;: [0.0001, 0.001, 0.01, 0.1, 0.2, 0.5],\n",
       "                          &#x27;kernel&#x27;: [&#x27;rbf&#x27;]},\n",
       "                         {&#x27;C&#x27;: [1, 10, 100, 1000], &#x27;kernel&#x27;: [&#x27;linear&#x27;]}])</pre></div></div></div><div class=\"sk-parallel\"><div class=\"sk-parallel-item\"><div class=\"sk-item\"><div class=\"sk-label-container\"><div class=\"sk-label sk-toggleable\"><input class=\"sk-toggleable__control sk-hidden--visually\" id=\"sk-estimator-id-7\" type=\"checkbox\" ><label for=\"sk-estimator-id-7\" class=\"sk-toggleable__label sk-toggleable__label-arrow\">estimator: SVC</label><div class=\"sk-toggleable__content\"><pre>SVC()</pre></div></div></div><div class=\"sk-serial\"><div class=\"sk-item\"><div class=\"sk-estimator sk-toggleable\"><input class=\"sk-toggleable__control sk-hidden--visually\" id=\"sk-estimator-id-8\" type=\"checkbox\" ><label for=\"sk-estimator-id-8\" class=\"sk-toggleable__label sk-toggleable__label-arrow\">SVC</label><div class=\"sk-toggleable__content\"><pre>SVC()</pre></div></div></div></div></div></div></div></div></div></div>"
      ],
      "text/plain": [
       "GridSearchCV(cv=5, estimator=SVC(),\n",
       "             param_grid=[{'C': [1, 10, 100, 1000],\n",
       "                          'gamma': [0.0001, 0.001, 0.01, 0.1, 0.2, 0.5],\n",
       "                          'kernel': ['rbf']},\n",
       "                         {'C': [1, 10, 100, 1000], 'kernel': ['linear']}])"
      ]
     },
     "execution_count": 79,
     "metadata": {},
     "output_type": "execute_result"
    }
   ],
   "source": [
    "svm_clf = GridSearchCV(svm.SVC(decision_function_shape='ovr'), parameters, cv=5)\n",
    "svm_clf.fit(X_train, y_train)"
   ]
  },
  {
   "cell_type": "code",
   "execution_count": 80,
   "metadata": {
    "tags": []
   },
   "outputs": [
    {
     "data": {
      "text/plain": [
       "{'C': 1000, 'gamma': 0.1, 'kernel': 'rbf'}"
      ]
     },
     "execution_count": 80,
     "metadata": {},
     "output_type": "execute_result"
    }
   ],
   "source": [
    "svm_clf.best_params_"
   ]
  },
  {
   "cell_type": "code",
   "execution_count": 81,
   "metadata": {
    "tags": []
   },
   "outputs": [
    {
     "name": "stdout",
     "output_type": "stream",
     "text": [
      "0.067 (+/-0.002) for {'C': 1, 'gamma': 0.0001, 'kernel': 'rbf'}\n",
      "0.177 (+/-0.012) for {'C': 1, 'gamma': 0.001, 'kernel': 'rbf'}\n",
      "0.312 (+/-0.037) for {'C': 1, 'gamma': 0.01, 'kernel': 'rbf'}\n",
      "0.527 (+/-0.032) for {'C': 1, 'gamma': 0.1, 'kernel': 'rbf'}\n",
      "0.596 (+/-0.013) for {'C': 1, 'gamma': 0.2, 'kernel': 'rbf'}\n",
      "0.670 (+/-0.029) for {'C': 1, 'gamma': 0.5, 'kernel': 'rbf'}\n",
      "0.180 (+/-0.014) for {'C': 10, 'gamma': 0.0001, 'kernel': 'rbf'}\n",
      "0.312 (+/-0.043) for {'C': 10, 'gamma': 0.001, 'kernel': 'rbf'}\n",
      "0.501 (+/-0.035) for {'C': 10, 'gamma': 0.01, 'kernel': 'rbf'}\n",
      "0.732 (+/-0.032) for {'C': 10, 'gamma': 0.1, 'kernel': 'rbf'}\n",
      "0.763 (+/-0.019) for {'C': 10, 'gamma': 0.2, 'kernel': 'rbf'}\n",
      "0.771 (+/-0.029) for {'C': 10, 'gamma': 0.5, 'kernel': 'rbf'}\n",
      "0.312 (+/-0.042) for {'C': 100, 'gamma': 0.0001, 'kernel': 'rbf'}\n",
      "0.470 (+/-0.035) for {'C': 100, 'gamma': 0.001, 'kernel': 'rbf'}\n",
      "0.688 (+/-0.027) for {'C': 100, 'gamma': 0.01, 'kernel': 'rbf'}\n",
      "0.798 (+/-0.024) for {'C': 100, 'gamma': 0.1, 'kernel': 'rbf'}\n",
      "0.795 (+/-0.027) for {'C': 100, 'gamma': 0.2, 'kernel': 'rbf'}\n",
      "0.776 (+/-0.030) for {'C': 100, 'gamma': 0.5, 'kernel': 'rbf'}\n",
      "0.463 (+/-0.038) for {'C': 1000, 'gamma': 0.0001, 'kernel': 'rbf'}\n",
      "0.638 (+/-0.035) for {'C': 1000, 'gamma': 0.001, 'kernel': 'rbf'}\n",
      "0.774 (+/-0.015) for {'C': 1000, 'gamma': 0.01, 'kernel': 'rbf'}\n",
      "0.802 (+/-0.013) for {'C': 1000, 'gamma': 0.1, 'kernel': 'rbf'}\n",
      "0.795 (+/-0.019) for {'C': 1000, 'gamma': 0.2, 'kernel': 'rbf'}\n",
      "0.777 (+/-0.026) for {'C': 1000, 'gamma': 0.5, 'kernel': 'rbf'}\n",
      "0.565 (+/-0.045) for {'C': 1, 'kernel': 'linear'}\n",
      "0.669 (+/-0.037) for {'C': 10, 'kernel': 'linear'}\n",
      "0.706 (+/-0.024) for {'C': 100, 'kernel': 'linear'}\n",
      "0.712 (+/-0.020) for {'C': 1000, 'kernel': 'linear'}\n"
     ]
    }
   ],
   "source": [
    "means = svm_clf.cv_results_['mean_test_score']\n",
    "stds = svm_clf.cv_results_['std_test_score']\n",
    "for mean, std, params in zip(means, stds, svm_clf.cv_results_['params']):\n",
    "    print(\"%0.3f (+/-%0.03f) for %r\" % (mean, std * 2, params))"
   ]
  },
  {
   "cell_type": "code",
   "execution_count": 82,
   "metadata": {
    "tags": []
   },
   "outputs": [],
   "source": [
    "y_pred_svm = svm_clf.predict(X_test)"
   ]
  },
  {
   "cell_type": "code",
   "execution_count": 83,
   "metadata": {
    "tags": []
   },
   "outputs": [
    {
     "data": {
      "text/plain": [
       "0.81438127090301"
      ]
     },
     "execution_count": 83,
     "metadata": {},
     "output_type": "execute_result"
    }
   ],
   "source": [
    "metrics.accuracy_score(y_test, y_pred_svm)"
   ]
  },
  {
   "cell_type": "code",
   "execution_count": 91,
   "metadata": {
    "tags": []
   },
   "outputs": [
    {
     "data": {
      "text/plain": [
       "(0.8156269230152196, 0.81438127090301, 0.8127883027541245, None)"
      ]
     },
     "execution_count": 91,
     "metadata": {},
     "output_type": "execute_result"
    }
   ],
   "source": [
    "metrics.precision_recall_fscore_support(y_test,y_pred_svm, beta=1,average='weighted')"
   ]
  },
  {
   "cell_type": "code",
   "execution_count": 86,
   "metadata": {
    "tags": []
   },
   "outputs": [
    {
     "data": {
      "text/plain": [
       "0.8150036209954998"
      ]
     },
     "execution_count": 86,
     "metadata": {},
     "output_type": "execute_result"
    }
   ],
   "source": [
    "2*0.8156269230152196*0.81438127090301/(0.8156269230152196+0.81438127090301)"
   ]
  },
  {
   "cell_type": "code",
   "execution_count": 84,
   "metadata": {
    "tags": []
   },
   "outputs": [
    {
     "name": "stdout",
     "output_type": "stream",
     "text": [
      "              precision    recall  f1-score   support\n",
      "\n",
      "           0       0.77      0.88      0.82        74\n",
      "           1       1.00      0.97      0.98        31\n",
      "           3       0.97      0.95      0.96        39\n",
      "          10       0.77      0.71      0.74        34\n",
      "          12       0.76      0.84      0.79        37\n",
      "          13       0.88      0.95      0.92        40\n",
      "          20       0.62      0.71      0.67        14\n",
      "          30       0.82      0.86      0.84        77\n",
      "          31       0.86      0.72      0.78        25\n",
      "          34       0.93      1.00      0.97        14\n",
      "          36       0.92      0.97      0.94        35\n",
      "          38       0.78      0.84      0.81        51\n",
      "          42       0.66      0.69      0.67        42\n",
      "          46       0.67      0.66      0.67        44\n",
      "          52       0.82      0.76      0.79        37\n",
      "          53       0.77      0.82      0.80        74\n",
      "          55       0.66      0.81      0.73        36\n",
      "          61       0.96      0.90      0.92        48\n",
      "          62       0.74      0.79      0.77        39\n",
      "          65       0.80      0.80      0.80        30\n",
      "          69       0.92      0.92      0.92        38\n",
      "          70       0.70      0.60      0.65        35\n",
      "          73       0.72      0.60      0.65        30\n",
      "          75       0.73      0.58      0.65        38\n",
      "          77       0.89      0.97      0.93        35\n",
      "          79       0.92      0.79      0.85        43\n",
      "          81       0.89      0.90      0.90        52\n",
      "          83       0.76      0.60      0.67        47\n",
      "          93       0.92      0.88      0.90        51\n",
      "          99       0.86      1.00      0.92         6\n",
      "\n",
      "    accuracy                           0.81      1196\n",
      "   macro avg       0.82      0.82      0.81      1196\n",
      "weighted avg       0.82      0.81      0.81      1196\n",
      "\n"
     ]
    }
   ],
   "source": [
    "print(metrics.classification_report(y_test, y_pred_svm))"
   ]
  },
  {
   "cell_type": "markdown",
   "metadata": {},
   "source": [
    "### Dimensionality Reduction using PCA"
   ]
  },
  {
   "cell_type": "code",
   "execution_count": 252,
   "metadata": {},
   "outputs": [],
   "source": [
    "from sklearn.decomposition import PCA"
   ]
  },
  {
   "cell_type": "code",
   "execution_count": 253,
   "metadata": {},
   "outputs": [],
   "source": [
    "pca = PCA()"
   ]
  },
  {
   "cell_type": "code",
   "execution_count": 254,
   "metadata": {},
   "outputs": [
    {
     "data": {
      "text/html": [
       "<style>#sk-container-id-7 {color: black;}#sk-container-id-7 pre{padding: 0;}#sk-container-id-7 div.sk-toggleable {background-color: white;}#sk-container-id-7 label.sk-toggleable__label {cursor: pointer;display: block;width: 100%;margin-bottom: 0;padding: 0.3em;box-sizing: border-box;text-align: center;}#sk-container-id-7 label.sk-toggleable__label-arrow:before {content: \"▸\";float: left;margin-right: 0.25em;color: #696969;}#sk-container-id-7 label.sk-toggleable__label-arrow:hover:before {color: black;}#sk-container-id-7 div.sk-estimator:hover label.sk-toggleable__label-arrow:before {color: black;}#sk-container-id-7 div.sk-toggleable__content {max-height: 0;max-width: 0;overflow: hidden;text-align: left;background-color: #f0f8ff;}#sk-container-id-7 div.sk-toggleable__content pre {margin: 0.2em;color: black;border-radius: 0.25em;background-color: #f0f8ff;}#sk-container-id-7 input.sk-toggleable__control:checked~div.sk-toggleable__content {max-height: 200px;max-width: 100%;overflow: auto;}#sk-container-id-7 input.sk-toggleable__control:checked~label.sk-toggleable__label-arrow:before {content: \"▾\";}#sk-container-id-7 div.sk-estimator input.sk-toggleable__control:checked~label.sk-toggleable__label {background-color: #d4ebff;}#sk-container-id-7 div.sk-label input.sk-toggleable__control:checked~label.sk-toggleable__label {background-color: #d4ebff;}#sk-container-id-7 input.sk-hidden--visually {border: 0;clip: rect(1px 1px 1px 1px);clip: rect(1px, 1px, 1px, 1px);height: 1px;margin: -1px;overflow: hidden;padding: 0;position: absolute;width: 1px;}#sk-container-id-7 div.sk-estimator {font-family: monospace;background-color: #f0f8ff;border: 1px dotted black;border-radius: 0.25em;box-sizing: border-box;margin-bottom: 0.5em;}#sk-container-id-7 div.sk-estimator:hover {background-color: #d4ebff;}#sk-container-id-7 div.sk-parallel-item::after {content: \"\";width: 100%;border-bottom: 1px solid gray;flex-grow: 1;}#sk-container-id-7 div.sk-label:hover label.sk-toggleable__label {background-color: #d4ebff;}#sk-container-id-7 div.sk-serial::before {content: \"\";position: absolute;border-left: 1px solid gray;box-sizing: border-box;top: 0;bottom: 0;left: 50%;z-index: 0;}#sk-container-id-7 div.sk-serial {display: flex;flex-direction: column;align-items: center;background-color: white;padding-right: 0.2em;padding-left: 0.2em;position: relative;}#sk-container-id-7 div.sk-item {position: relative;z-index: 1;}#sk-container-id-7 div.sk-parallel {display: flex;align-items: stretch;justify-content: center;background-color: white;position: relative;}#sk-container-id-7 div.sk-item::before, #sk-container-id-7 div.sk-parallel-item::before {content: \"\";position: absolute;border-left: 1px solid gray;box-sizing: border-box;top: 0;bottom: 0;left: 50%;z-index: -1;}#sk-container-id-7 div.sk-parallel-item {display: flex;flex-direction: column;z-index: 1;position: relative;background-color: white;}#sk-container-id-7 div.sk-parallel-item:first-child::after {align-self: flex-end;width: 50%;}#sk-container-id-7 div.sk-parallel-item:last-child::after {align-self: flex-start;width: 50%;}#sk-container-id-7 div.sk-parallel-item:only-child::after {width: 0;}#sk-container-id-7 div.sk-dashed-wrapped {border: 1px dashed gray;margin: 0 0.4em 0.5em 0.4em;box-sizing: border-box;padding-bottom: 0.4em;background-color: white;}#sk-container-id-7 div.sk-label label {font-family: monospace;font-weight: bold;display: inline-block;line-height: 1.2em;}#sk-container-id-7 div.sk-label-container {text-align: center;}#sk-container-id-7 div.sk-container {/* jupyter's `normalize.less` sets `[hidden] { display: none; }` but bootstrap.min.css set `[hidden] { display: none !important; }` so we also need the `!important` here to be able to override the default hidden behavior on the sphinx rendered scikit-learn.org. See: https://github.com/scikit-learn/scikit-learn/issues/21755 */display: inline-block !important;position: relative;}#sk-container-id-7 div.sk-text-repr-fallback {display: none;}</style><div id=\"sk-container-id-7\" class=\"sk-top-container\"><div class=\"sk-text-repr-fallback\"><pre>PCA()</pre><b>In a Jupyter environment, please rerun this cell to show the HTML representation or trust the notebook. <br />On GitHub, the HTML representation is unable to render, please try loading this page with nbviewer.org.</b></div><div class=\"sk-container\" hidden><div class=\"sk-item\"><div class=\"sk-estimator sk-toggleable\"><input class=\"sk-toggleable__control sk-hidden--visually\" id=\"sk-estimator-id-13\" type=\"checkbox\" checked><label for=\"sk-estimator-id-13\" class=\"sk-toggleable__label sk-toggleable__label-arrow\">PCA</label><div class=\"sk-toggleable__content\"><pre>PCA()</pre></div></div></div></div></div>"
      ],
      "text/plain": [
       "PCA()"
      ]
     },
     "execution_count": 254,
     "metadata": {},
     "output_type": "execute_result"
    }
   ],
   "source": [
    "pca.fit(X)"
   ]
  },
  {
   "cell_type": "code",
   "execution_count": 255,
   "metadata": {},
   "outputs": [
    {
     "data": {
      "text/plain": [
       "array([5.51713754e-01, 3.74377493e-01, 7.39056869e-02, 2.46856436e-06,\n",
       "       3.36911010e-07, 1.49189711e-07, 7.80386244e-08, 2.32681198e-08,\n",
       "       5.21339465e-09, 3.39989879e-09, 9.84495856e-10, 3.22005279e-10,\n",
       "       7.87465703e-11, 4.00954613e-11, 4.99957845e-12, 8.65174931e-13,\n",
       "       5.30068736e-13, 2.11938332e-13, 1.23723191e-15, 3.79048781e-18])"
      ]
     },
     "execution_count": 255,
     "metadata": {},
     "output_type": "execute_result"
    }
   ],
   "source": [
    "var= pca.explained_variance_ratio_\n",
    "var"
   ]
  },
  {
   "cell_type": "code",
   "execution_count": 256,
   "metadata": {},
   "outputs": [],
   "source": [
    "import matplotlib.pyplot as plt\n",
    "%matplotlib inline"
   ]
  },
  {
   "cell_type": "code",
   "execution_count": 257,
   "metadata": {},
   "outputs": [
    {
     "data": {
      "text/plain": [
       "[<matplotlib.lines.Line2D at 0x7f8177916a00>]"
      ]
     },
     "execution_count": 257,
     "metadata": {},
     "output_type": "execute_result"
    },
    {
     "data": {
      "image/png": "[encoded data removed]",
      "text/plain": [
       "<Figure size 640x480 with 1 Axes>"
      ]
     },
     "metadata": {},
     "output_type": "display_data"
    }
   ],
   "source": [
    "var1=np.cumsum(np.round(pca.explained_variance_ratio_, decimals=4)*100)\n",
    "plt.plot(var1)"
   ]
  },
  {
   "cell_type": "markdown",
   "metadata": {
    "jupyter": {
     "outputs_hidden": true
    }
   },
   "source": [
    "### Testing with mobile captured leaves which are not classified"
   ]
  },
  {
   "cell_type": "code",
   "execution_count": 41,
   "metadata": {},
   "outputs": [],
   "source": [
    "import os\n",
    "import cv2"
   ]
  },
  {
   "cell_type": "code",
   "execution_count": 42,
   "metadata": {},
   "outputs": [],
   "source": [
    "def bg_sub(filename):\n",
    "    test_img_path = '..\\\\mobile captures\\\\' + filename\n",
    "    main_img = cv2.imread(test_img_path)\n",
    "    img = cv2.cvtColor(main_img, cv2.COLOR_BGR2RGB)\n",
    "    resized_image = cv2.resize(img, (1600, 1200))\n",
    "    size_y,size_x,_ = img.shape\n",
    "    gs = cv2.cvtColor(resized_image,cv2.COLOR_RGB2GRAY)\n",
    "    blur = cv2.GaussianBlur(gs, (55,55),0)\n",
    "    ret_otsu,im_bw_otsu = cv2.threshold(blur,0,255,cv2.THRESH_BINARY_INV+cv2.THRESH_OTSU)\n",
    "    kernel = np.ones((50,50),np.uint8)\n",
    "    closing = cv2.morphologyEx(im_bw_otsu, cv2.MORPH_CLOSE, kernel)\n",
    "    \n",
    "    ret_image, contours, hierarchy = cv2.findContours(closing,cv2.RETR_TREE,cv2.CHAIN_APPROX_SIMPLE)\n",
    "    \n",
    "    contains = []\n",
    "    y_ri,x_ri, _ = resized_image.shape\n",
    "    for cc in contours:\n",
    "        yn = cv2.pointPolygonTest(cc,(x_ri//2,y_ri//2),False)\n",
    "        contains.append(yn)\n",
    "\n",
    "    val = [contains.index(temp) for temp in contains if temp>0]\n",
    "    index = val[0]\n",
    "    \n",
    "    black_img = np.empty([1200,1600,3],dtype=np.uint8)\n",
    "    black_img.fill(0)\n",
    "    \n",
    "    cnt = contours[index]\n",
    "    mask = cv2.drawContours(black_img, [cnt] , 0, (255,255,255), -1)\n",
    "    \n",
    "    maskedImg = cv2.bitwise_and(resized_image, mask)\n",
    "    white_pix = [255,255,255]\n",
    "    black_pix = [0,0,0]\n",
    "    \n",
    "    final_img = maskedImg\n",
    "    h,w,channels = final_img.shape\n",
    "    for x in range(0,w):\n",
    "        for y in range(0,h):\n",
    "            channels_xy = final_img[y,x]\n",
    "            if all(channels_xy == black_pix):\n",
    "                final_img[y,x] = white_pix\n",
    "    \n",
    "    return final_img"
   ]
  },
  {
   "cell_type": "code",
   "execution_count": 45,
   "metadata": {},
   "outputs": [
    {
     "name": "stderr",
     "output_type": "stream",
     "text": [
      "[ WARN:0@40.403] global loadsave.cpp:248 findDecoder imread_('..\\mobile captures\\1000.jpg'): can't open/read file: check file path/integrity\n"
     ]
    },
    {
     "ename": "error",
     "evalue": "OpenCV(4.8.0) /io/opencv/modules/imgproc/src/color.cpp:182: error: (-215:Assertion failed) !_src.empty() in function 'cvtColor'\n",
     "output_type": "error",
     "traceback": [
      "\u001b[0;31m---------------------------------------------------------------------------\u001b[0m",
      "\u001b[0;31merror\u001b[0m                                     Traceback (most recent call last)",
      "Cell \u001b[0;32mIn[45], line 2\u001b[0m\n\u001b[1;32m      1\u001b[0m filename \u001b[38;5;241m=\u001b[39m \u001b[38;5;124m'\u001b[39m\u001b[38;5;124m1000.jpg\u001b[39m\u001b[38;5;124m'\u001b[39m \n\u001b[0;32m----> 2\u001b[0m bg_rem_img \u001b[38;5;241m=\u001b[39m \u001b[43mbg_sub\u001b[49m\u001b[43m(\u001b[49m\u001b[43mfilename\u001b[49m\u001b[43m)\u001b[49m\n",
      "Cell \u001b[0;32mIn[42], line 4\u001b[0m, in \u001b[0;36mbg_sub\u001b[0;34m(filename)\u001b[0m\n\u001b[1;32m      2\u001b[0m test_img_path \u001b[38;5;241m=\u001b[39m \u001b[38;5;124m'\u001b[39m\u001b[38;5;124m..\u001b[39m\u001b[38;5;130;01m\\\\\u001b[39;00m\u001b[38;5;124mmobile captures\u001b[39m\u001b[38;5;130;01m\\\\\u001b[39;00m\u001b[38;5;124m'\u001b[39m \u001b[38;5;241m+\u001b[39m filename\n\u001b[1;32m      3\u001b[0m main_img \u001b[38;5;241m=\u001b[39m cv2\u001b[38;5;241m.\u001b[39mimread(test_img_path)\n\u001b[0;32m----> 4\u001b[0m img \u001b[38;5;241m=\u001b[39m \u001b[43mcv2\u001b[49m\u001b[38;5;241;43m.\u001b[39;49m\u001b[43mcvtColor\u001b[49m\u001b[43m(\u001b[49m\u001b[43mmain_img\u001b[49m\u001b[43m,\u001b[49m\u001b[43m \u001b[49m\u001b[43mcv2\u001b[49m\u001b[38;5;241;43m.\u001b[39;49m\u001b[43mCOLOR_BGR2RGB\u001b[49m\u001b[43m)\u001b[49m\n\u001b[1;32m      5\u001b[0m resized_image \u001b[38;5;241m=\u001b[39m cv2\u001b[38;5;241m.\u001b[39mresize(img, (\u001b[38;5;241m1600\u001b[39m, \u001b[38;5;241m1200\u001b[39m))\n\u001b[1;32m      6\u001b[0m size_y,size_x,_ \u001b[38;5;241m=\u001b[39m img\u001b[38;5;241m.\u001b[39mshape\n",
      "\u001b[0;31merror\u001b[0m: OpenCV(4.8.0) /io/opencv/modules/imgproc/src/color.cpp:182: error: (-215:Assertion failed) !_src.empty() in function 'cvtColor'\n"
     ]
    }
   ],
   "source": [
    "filename = '1000.jpg' \n",
    "bg_rem_img = bg_sub(filename)"
   ]
  },
  {
   "cell_type": "code",
   "execution_count": 43,
   "metadata": {},
   "outputs": [
    {
     "data": {
      "text/plain": [
       "<matplotlib.image.AxesImage at 0x182202eaf60>"
      ]
     },
     "execution_count": 43,
     "metadata": {},
     "output_type": "execute_result"
    },
    {
     "data": {
      "image/png": "[encoded data removed]",
      "text/plain": [
       "<matplotlib.figure.Figure at 0x182202c3198>"
      ]
     },
     "metadata": {},
     "output_type": "display_data"
    }
   ],
   "source": [
    "plt.imshow(bg_rem_img)"
   ]
  },
  {
   "cell_type": "code",
   "execution_count": 44,
   "metadata": {
    "collapsed": true,
    "jupyter": {
     "outputs_hidden": true
    }
   },
   "outputs": [],
   "source": [
    "import mahotas as mt"
   ]
  },
  {
   "cell_type": "code",
   "execution_count": 45,
   "metadata": {
    "collapsed": true,
    "jupyter": {
     "outputs_hidden": true
    }
   },
   "outputs": [],
   "source": [
    "def feature_extract(img):\n",
    "    names = ['area','perimeter','pysiological_length','pysiological_width','aspect_ratio','rectangularity','circularity', \\\n",
    "             'mean_r','mean_g','mean_b','stddev_r','stddev_g','stddev_b', \\\n",
    "             'contrast','correlation','inverse_difference_moments','entropy'\n",
    "            ]\n",
    "    df = pd.DataFrame([], columns=names)\n",
    "\n",
    "    #Preprocessing\n",
    "    gs = cv2.cvtColor(img,cv2.COLOR_RGB2GRAY)\n",
    "    blur = cv2.GaussianBlur(gs, (25,25),0)\n",
    "    ret_otsu,im_bw_otsu = cv2.threshold(blur,0,255,cv2.THRESH_BINARY_INV+cv2.THRESH_OTSU)\n",
    "    kernel = np.ones((50,50),np.uint8)\n",
    "    closing = cv2.morphologyEx(im_bw_otsu, cv2.MORPH_CLOSE, kernel)\n",
    "\n",
    "    #Shape features\n",
    "    image, contours, _ = cv2.findContours(closing,cv2.RETR_TREE,cv2.CHAIN_APPROX_SIMPLE)\n",
    "    cnt = contours[0]\n",
    "    M = cv2.moments(cnt)\n",
    "    area = cv2.contourArea(cnt)\n",
    "    perimeter = cv2.arcLength(cnt,True)\n",
    "    x,y,w,h = cv2.boundingRect(cnt)\n",
    "    aspect_ratio = float(w)/h\n",
    "    rectangularity = w*h/area\n",
    "    circularity = ((perimeter)**2)/area\n",
    "\n",
    "    #Color features\n",
    "    red_channel = img[:,:,0]\n",
    "    green_channel = img[:,:,1]\n",
    "    blue_channel = img[:,:,2]\n",
    "    blue_channel[blue_channel == 255] = 0\n",
    "    green_channel[green_channel == 255] = 0\n",
    "    red_channel[red_channel == 255] = 0\n",
    "\n",
    "    red_mean = np.mean(red_channel)\n",
    "    green_mean = np.mean(green_channel)\n",
    "    blue_mean = np.mean(blue_channel)\n",
    "\n",
    "    red_std = np.std(red_channel)\n",
    "    green_std = np.std(green_channel)\n",
    "    blue_std = np.std(blue_channel)\n",
    "\n",
    "    #Texture features\n",
    "    textures = mt.features.haralick(gs)\n",
    "    ht_mean = textures.mean(axis=0)\n",
    "    contrast = ht_mean[1]\n",
    "    correlation = ht_mean[2]\n",
    "    inverse_diff_moments = ht_mean[4]\n",
    "    entropy = ht_mean[8]\n",
    "\n",
    "    vector = [area,perimeter,w,h,aspect_ratio,rectangularity,circularity,\\\n",
    "              red_mean,green_mean,blue_mean,red_std,green_std,blue_std,\\\n",
    "              contrast,correlation,inverse_diff_moments,entropy\n",
    "             ]\n",
    "\n",
    "    df_temp = pd.DataFrame([vector],columns=names)\n",
    "    df = df.append(df_temp)\n",
    "    \n",
    "    return df"
   ]
  },
  {
   "cell_type": "code",
   "execution_count": 46,
   "metadata": {},
   "outputs": [
    {
     "data": {
      "text/html": [
       "<div>\n",
       "<style>\n",
       "    .dataframe thead tr:only-child th {\n",
       "        text-align: right;\n",
       "    }\n",
       "\n",
       "    .dataframe thead th {\n",
       "        text-align: left;\n",
       "    }\n",
       "\n",
       "    .dataframe tbody tr th {\n",
       "        vertical-align: top;\n",
       "    }\n",
       "</style>\n",
       "<table border=\"1\" class=\"dataframe\">\n",
       "  <thead>\n",
       "    <tr style=\"text-align: right;\">\n",
       "      <th></th>\n",
       "      <th>area</th>\n",
       "      <th>perimeter</th>\n",
       "      <th>pysiological_length</th>\n",
       "      <th>pysiological_width</th>\n",
       "      <th>aspect_ratio</th>\n",
       "      <th>rectangularity</th>\n",
       "      <th>circularity</th>\n",
       "      <th>mean_r</th>\n",
       "      <th>mean_g</th>\n",
       "      <th>mean_b</th>\n",
       "      <th>stddev_r</th>\n",
       "      <th>stddev_g</th>\n",
       "      <th>stddev_b</th>\n",
       "      <th>contrast</th>\n",
       "      <th>correlation</th>\n",
       "      <th>inverse_difference_moments</th>\n",
       "      <th>entropy</th>\n",
       "    </tr>\n",
       "  </thead>\n",
       "  <tbody>\n",
       "    <tr>\n",
       "      <th>0</th>\n",
       "      <td>153912.5</td>\n",
       "      <td>1581.907845</td>\n",
       "      <td>507</td>\n",
       "      <td>486</td>\n",
       "      <td>1.04321</td>\n",
       "      <td>1.600923</td>\n",
       "      <td>16.258799</td>\n",
       "      <td>3.72212</td>\n",
       "      <td>5.285164</td>\n",
       "      <td>1.348841</td>\n",
       "      <td>13.059666</td>\n",
       "      <td>18.114367</td>\n",
       "      <td>5.464123</td>\n",
       "      <td>14.528435</td>\n",
       "      <td>0.99761</td>\n",
       "      <td>0.951879</td>\n",
       "      <td>1.088378</td>\n",
       "    </tr>\n",
       "  </tbody>\n",
       "</table>\n",
       "</div>"
      ],
      "text/plain": [
       "       area    perimeter pysiological_length pysiological_width  aspect_ratio  \\\n",
       "0  153912.5  1581.907845                 507                486       1.04321   \n",
       "\n",
       "   rectangularity  circularity   mean_r    mean_g    mean_b   stddev_r  \\\n",
       "0        1.600923    16.258799  3.72212  5.285164  1.348841  13.059666   \n",
       "\n",
       "    stddev_g  stddev_b   contrast  correlation  inverse_difference_moments  \\\n",
       "0  18.114367  5.464123  14.528435      0.99761                    0.951879   \n",
       "\n",
       "    entropy  \n",
       "0  1.088378  "
      ]
     },
     "execution_count": 46,
     "metadata": {},
     "output_type": "execute_result"
    }
   ],
   "source": [
    "features_of_img = feature_extract(bg_rem_img)\n",
    "features_of_img"
   ]
  },
  {
   "cell_type": "code",
   "execution_count": 47,
   "metadata": {},
   "outputs": [
    {
     "data": {
      "text/plain": [
       "18"
      ]
     },
     "execution_count": 47,
     "metadata": {},
     "output_type": "execute_result"
    }
   ],
   "source": [
    "scaled_features = sc_X.transform(features_of_img)\n",
    "print(scaled_features)\n",
    "# y_pred_mobile = svm_clf.predict(features_of_img)\n",
    "y_pred_mobile = svm_clf.predict(scaled_features)\n",
    "y_pred_mobile[0]"
   ]
  },
  {
   "cell_type": "code",
   "execution_count": 48,
   "metadata": {},
   "outputs": [
    {
     "data": {
      "text/plain": [
       "'Crape myrtle, Crepe myrtle'"
      ]
     },
     "execution_count": 48,
     "metadata": {},
     "output_type": "execute_result"
    }
   ],
   "source": [
    "common_names = ['pubescent bamboo','Chinese horse chestnut','Anhui Barberry', \\\n",
    "                'Chinese redbud','true indigo','Japanese maple','Nanmu',' castor aralia', \\\n",
    "                'Chinese cinnamon','goldenrain tree','Big-fruited Holly','Japanese cheesewood', \\\n",
    "                'wintersweet','camphortree','Japan Arrowwood','sweet osmanthus','deodar','ginkgo, maidenhair tree', \\\n",
    "                'Crape myrtle, Crepe myrtle','oleander','yew plum pine','Japanese Flowering Cherry','Glossy Privet',\\\n",
    "                'Chinese Toon','peach','Ford Woodlotus','trident maple','Beales barberry','southern magnolia',\\\n",
    "                'Canadian poplar','Chinese tulip tree','tangerine'\n",
    "               ]\n",
    "common_names[y_pred_mobile[0]]"
   ]
  },
  {
   "cell_type": "code",
   "execution_count": 12,
   "metadata": {},
   "outputs": [
    {
     "name": "stdout",
     "output_type": "stream",
     "text": [
      "[24 24  2 ... 23 30 13]\n"
     ]
    }
   ],
   "source": [
    "print(y)"
   ]
  },
  {
   "cell_type": "code",
   "execution_count": 15,
   "metadata": {},
   "outputs": [
    {
     "ename": "ValueError",
     "evalue": "The truth value of an array with more than one element is ambiguous. Use a.any() or a.all()",
     "output_type": "error",
     "traceback": [
      "\u001b[0;31m---------------------------------------------------------------------------\u001b[0m",
      "\u001b[0;31mValueError\u001b[0m                                Traceback (most recent call last)",
      "Cell \u001b[0;32mIn[15], line 1\u001b[0m\n\u001b[0;32m----> 1\u001b[0m \u001b[38;5;28;43mlist\u001b[39;49m\u001b[43m(\u001b[49m\u001b[43my\u001b[49m\u001b[43m)\u001b[49m\u001b[38;5;241;43m.\u001b[39;49m\u001b[43mcount\u001b[49m\u001b[43m(\u001b[49m\u001b[43my\u001b[49m\u001b[43m)\u001b[49m\n",
      "\u001b[0;31mValueError\u001b[0m: The truth value of an array with more than one element is ambiguous. Use a.any() or a.all()"
     ]
    }
   ],
   "source": [
    "list(y).count(y)"
   ]
  },
  {
   "cell_type": "code",
   "execution_count": 17,
   "metadata": {},
   "outputs": [],
   "source": [
    "ly =list(y)"
   ]
  },
  {
   "cell_type": "code",
   "execution_count": 18,
   "metadata": {},
   "outputs": [
    {
     "ename": "TypeError",
     "evalue": "count() takes exactly one argument (0 given)",
     "output_type": "error",
     "traceback": [
      "\u001b[0;31m---------------------------------------------------------------------------\u001b[0m",
      "\u001b[0;31mTypeError\u001b[0m                                 Traceback (most recent call last)",
      "Cell \u001b[0;32mIn[18], line 1\u001b[0m\n\u001b[0;32m----> 1\u001b[0m \u001b[43mly\u001b[49m\u001b[38;5;241;43m.\u001b[39;49m\u001b[43mcount\u001b[49m\u001b[43m(\u001b[49m\u001b[43m)\u001b[49m\n",
      "\u001b[0;31mTypeError\u001b[0m: count() takes exactly one argument (0 given)"
     ]
    }
   ],
   "source": [
    "ly.count()"
   ]
  },
  {
   "cell_type": "code",
   "execution_count": 19,
   "metadata": {},
   "outputs": [
    {
     "data": {
      "text/plain": [
       "16    77\n",
       "4     73\n",
       "3     72\n",
       "19    66\n",
       "2     65\n",
       "23    65\n",
       "13    65\n",
       "29    64\n",
       "1     63\n",
       "11    63\n",
       "6     62\n",
       "17    62\n",
       "18    61\n",
       "20    60\n",
       "14    60\n",
       "0     59\n",
       "9     59\n",
       "28    57\n",
       "15    56\n",
       "31    56\n",
       "5     56\n",
       "22    55\n",
       "8     55\n",
       "21    55\n",
       "27    55\n",
       "24    54\n",
       "26    53\n",
       "30    53\n",
       "7     52\n",
       "12    52\n",
       "25    52\n",
       "10    50\n",
       "Name: count, dtype: int64"
      ]
     },
     "execution_count": 19,
     "metadata": {},
     "output_type": "execute_result"
    }
   ],
   "source": [
    "pd.Series(ly).value_counts()"
   ]
  },
  {
   "cell_type": "code",
   "execution_count": null,
   "metadata": {},
   "outputs": [],
   "source": []
  }
 ],
 "metadata": {
  "kernelspec": {
   "display_name": "Python 3 (ipykernel)",
   "language": "python",
   "name": "python3"
  },
  "language_info": {
   "codemirror_mode": {
    "name": "ipython",
    "version": 3
   },
   "file_extension": ".py",
   "mimetype": "text/x-python",
   "name": "python",
   "nbconvert_exporter": "python",
   "pygments_lexer": "ipython3",
   "version": "3.11.5"
  }
 },
 "nbformat": 4,
 "nbformat_minor": 4
}
