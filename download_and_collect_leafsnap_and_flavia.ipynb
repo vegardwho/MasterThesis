{
 "cells": [
  {
   "cell_type": "markdown",
   "id": "d78f726a-c35d-4cb8-917d-ea01fd2e889c",
   "metadata": {
    "tags": []
   },
   "source": [
    "#### Download and collect leafsnap data\n",
    "\n",
    "\n",
    "\n"
   ]
  },
  {
   "cell_type": "code",
   "execution_count": null,
   "id": "d90e809d-561b-4fe2-869e-f988ff7a4091",
   "metadata": {},
   "outputs": [],
   "source": []
  },
  {
   "cell_type": "code",
   "execution_count": null,
   "id": "4d064b6a-ff2c-4e51-8e53-268717bc6378",
   "metadata": {},
   "outputs": [],
   "source": []
  },
  {
   "cell_type": "code",
   "execution_count": null,
   "id": "156ad5ae-31d9-4e8b-a21d-0fbb94d6a5f8",
   "metadata": {},
   "outputs": [],
   "source": []
  },
  {
   "cell_type": "code",
   "execution_count": null,
   "id": "dd60babb-aa1d-4b01-a3b2-f9f6565cc901",
   "metadata": {},
   "outputs": [],
   "source": []
  },
  {
   "cell_type": "code",
   "execution_count": null,
   "id": "d7b24b6f-9eb6-4f8c-9077-415f6e2563cf",
   "metadata": {},
   "outputs": [],
   "source": []
  }
 ],
 "metadata": {
  "kernelspec": {
   "display_name": "Python 3 (ipykernel)",
   "language": "python",
   "name": "python3"
  },
  "language_info": {
   "codemirror_mode": {
    "name": "ipython",
    "version": 3
   },
   "file_extension": ".py",
   "mimetype": "text/x-python",
   "name": "python",
   "nbconvert_exporter": "python",
   "pygments_lexer": "ipython3",
   "version": "3.11.5"
  }
 },
 "nbformat": 4,
 "nbformat_minor": 5
}
